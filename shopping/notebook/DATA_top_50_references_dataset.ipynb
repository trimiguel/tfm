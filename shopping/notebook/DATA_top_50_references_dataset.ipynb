{
 "cells": [
  {
   "cell_type": "markdown",
   "metadata": {},
   "source": [
    "<a name=\"top\"></a>Contents\n",
    "===\n",
    "- [Introduction](#intro)\n",
    "\n",
    "- [Libraries](#libraries)\n",
    "\n",
    "- [Datetime Dataframe](#datetime)\n",
    "\n",
    "- [Pageviews](#pageviews)\n",
    "    - [BW](#bw)\n",
    "        - [Open BW dataset](#open_bw)\n",
    "        - [Customize BW dataset](#customize_bw)\n",
    "    - [Adwords](#adwords)\n",
    "        - [Open Adwords dataset](#open_ads)\n",
    "        - [Customize Ads dataset](#customize_ads)\n",
    "    - [Merge BW and Adwords data](#merge_bw_ads)\n",
    "    \n",
    "- [References url](#url)\n",
    "    - [Open References url dataset](#open_url)\n",
    "    - [Merge References url and Top 50 references](#merge_url_top50)\n",
    "    - [Customize References url dataset](#customize_url)\n",
    "\n",
    "- [Looping through a dictionary](#looping)\n",
    "    - [Looping through all key-value pairs](#loop_all_keys_values)\n",
    "    - [Looping through all keys in a dictionary](#loop_all_keys)\n",
    "    - [Looping through all values in a dictionary](#loop_all_values)\n",
    "    - [Looping through a dictionary in order](#looping_in_order)\n",
    "    - [Exercises](#exercises_looping)\n",
    "    \n",
    "- [Nesting](#nesting)\n",
    "    - [Lists in a dictionary](#lists_in_dictionary)\n",
    "    - [Dictionaries in a dictionary](#dictionaries_in_dictionary)\n",
    "    - [An important note about nesting](#important_note)\n",
    "    - [Exercises](#exercises_nesting)\n",
    "    \n",
    "- [Overall Challenges](#overall_challenges)"
   ]
  },
  {
   "cell_type": "markdown",
   "metadata": {},
   "source": [
    "<a name='intro'></a>Introduction\n",
    "===\n",
    "EXPLICAR TODO Y PONER FOTO"
   ]
  },
  {
   "cell_type": "code",
   "execution_count": 10,
   "metadata": {},
   "outputs": [],
   "source": []
  },
  {
   "cell_type": "code",
   "execution_count": 11,
   "metadata": {},
   "outputs": [],
   "source": []
  },
  {
   "cell_type": "markdown",
   "metadata": {},
   "source": [
    "<a name='libraries'></a>Libraries\n",
    "===\n",
    "First of all, it is necessary to import the required libraries to develop all the steps correctly of this notebbook."
   ]
  },
  {
   "cell_type": "code",
   "execution_count": 129,
   "metadata": {},
   "outputs": [],
   "source": [
    "import os\n",
    "import io\n",
    "import glob\n",
    "import pandas as pd\n",
    "import numpy as np\n",
    "import seaborn as sns\n",
    "import matplotlib.pyplot as plt\n",
    "from datetime import datetime\n",
    "%matplotlib inline\n",
    "\n",
    "#seguramente haya que pones mas librerias\n",
    "\n",
    "#display maximo columnas\n",
    "\n",
    "#IMPORTAR WARNINGS"
   ]
  },
  {
   "cell_type": "code",
   "execution_count": null,
   "metadata": {},
   "outputs": [],
   "source": []
  },
  {
   "cell_type": "markdown",
   "metadata": {},
   "source": [
    "<a name='datetime'></a>  Datetime Dataframe\n",
    "===\n",
    "An inconvenient of the data selected for this study is missing values. \n",
    "For example, the advertising dataset has a missing value during a specific period when the reference has no impressions a day (it is possible to check an example in the photography atach)\n",
    "\n",
    "### FOTO!!!!\n",
    "\n",
    "\n",
    "For this reason, I am going to create a dataframe of a period of time and save it as csv with the purpose of merging with miss values from other datasets that I will work during this study."
   ]
  },
  {
   "cell_type": "code",
   "execution_count": 12,
   "metadata": {},
   "outputs": [],
   "source": [
    "path = '/home/miguel/my_project_python/my_project_env/tfm/shopping/notebook'\n",
    "os.chdir(path)"
   ]
  },
  {
   "cell_type": "code",
   "execution_count": 13,
   "metadata": {},
   "outputs": [],
   "source": [
    "%run -i 'date_dataframe.py'"
   ]
  },
  {
   "cell_type": "code",
   "execution_count": null,
   "metadata": {},
   "outputs": [],
   "source": []
  },
  {
   "cell_type": "markdown",
   "metadata": {},
   "source": [
    "<a name='pageviews'></a>Pageviews\n",
    "===\n",
    "\n",
    "In this notebook, I am going to merge all datasets link to pageviews information in order to create for each reference a csv file with the following data:\n",
    "    - Reference\n",
    "    - Date\n",
    "    - Pageviews"
   ]
  },
  {
   "cell_type": "code",
   "execution_count": null,
   "metadata": {},
   "outputs": [],
   "source": [
    "<a name='pageviews'></a>Pageviews\n",
    "===\n",
    "\n",
    "In this notebook, I am going to merge all datasets link to pageviews information in order to create for each reference a csv file with the following data:\n",
    "    - Reference\n",
    "    - Date\n",
    "    - Pageviews"
   ]
  },
  {
   "cell_type": "code",
   "execution_count": null,
   "metadata": {},
   "outputs": [],
   "source": [
    "First of all, I set the directory for the rest of notebook"
   ]
  },
  {
   "cell_type": "code",
   "execution_count": 68,
   "metadata": {},
   "outputs": [],
   "source": [
    "path = '/home/miguel/my_project_python/my_project_env/tfm/shopping'\n",
    "os.chdir(path)"
   ]
  },
  {
   "cell_type": "code",
   "execution_count": null,
   "metadata": {},
   "outputs": [],
   "source": [
    "Then, I open the files required:"
   ]
  },
  {
   "cell_type": "code",
   "execution_count": 28,
   "metadata": {},
   "outputs": [],
   "source": [
    "#select directory\n",
    "path_reference_url = './data/customize/top_50'\n",
    "path_datetime = './data/raw/datetime'\n",
    "\n",
    "\n",
    "#load files\n",
    "df_reference_url = pd.read_csv(path_reference_url+'/references_url.csv', sep='\\t') \n",
    "df_datetime = pd.read_csv(path_datetime+'/datetime_df.csv')    #hacer funcion para datetime\n",
    "\n",
    "\n",
    "#select columns\n",
    "column_interest_reference = ['Reference', 'URL']\n",
    "df_reference_url = df_reference_url[column_interest_reference]\n",
    "\n",
    "\n",
    "column_interest_datetime = ['Dates']\n",
    "df_datetime = df_datetime[column_interest_datetime]\n",
    "\n",
    "\n",
    "#parse datetime\n",
    "df_datetime['Dates'] = pd.to_datetime(df_datetime['Dates'], format = '%Y-%m-%d')"
   ]
  },
  {
   "cell_type": "markdown",
   "metadata": {},
   "source": [
    "I check the data"
   ]
  },
  {
   "cell_type": "code",
   "execution_count": 29,
   "metadata": {},
   "outputs": [
    {
     "data": {
      "text/html": [
       "<div>\n",
       "<style scoped>\n",
       "    .dataframe tbody tr th:only-of-type {\n",
       "        vertical-align: middle;\n",
       "    }\n",
       "\n",
       "    .dataframe tbody tr th {\n",
       "        vertical-align: top;\n",
       "    }\n",
       "\n",
       "    .dataframe thead th {\n",
       "        text-align: right;\n",
       "    }\n",
       "</style>\n",
       "<table border=\"1\" class=\"dataframe\">\n",
       "  <thead>\n",
       "    <tr style=\"text-align: right;\">\n",
       "      <th></th>\n",
       "      <th>Reference</th>\n",
       "      <th>URL</th>\n",
       "    </tr>\n",
       "  </thead>\n",
       "  <tbody>\n",
       "    <tr>\n",
       "      <th>0</th>\n",
       "      <td>122532</td>\n",
       "      <td>/espejo-pie-nordico-blanco-plastico-dormitorio...</td>\n",
       "    </tr>\n",
       "    <tr>\n",
       "      <th>1</th>\n",
       "      <td>51148</td>\n",
       "      <td>/consola-3-cajones-y-4-puertas-oriental-rojo-m...</td>\n",
       "    </tr>\n",
       "    <tr>\n",
       "      <th>2</th>\n",
       "      <td>51149</td>\n",
       "      <td>/consola-6-cajones-y-2-puertas-oriental-rojo-m...</td>\n",
       "    </tr>\n",
       "    <tr>\n",
       "      <th>3</th>\n",
       "      <td>51136</td>\n",
       "      <td>/consola-3-cajones-y-4-puertas-oriental-negro-...</td>\n",
       "    </tr>\n",
       "    <tr>\n",
       "      <th>4</th>\n",
       "      <td>51140</td>\n",
       "      <td>/mesilla-de-noche-1-cajon-y-2-puertas-oriental...</td>\n",
       "    </tr>\n",
       "  </tbody>\n",
       "</table>\n",
       "</div>"
      ],
      "text/plain": [
       "   Reference                                                URL\n",
       "0     122532  /espejo-pie-nordico-blanco-plastico-dormitorio...\n",
       "1      51148  /consola-3-cajones-y-4-puertas-oriental-rojo-m...\n",
       "2      51149  /consola-6-cajones-y-2-puertas-oriental-rojo-m...\n",
       "3      51136  /consola-3-cajones-y-4-puertas-oriental-negro-...\n",
       "4      51140  /mesilla-de-noche-1-cajon-y-2-puertas-oriental..."
      ]
     },
     "execution_count": 29,
     "metadata": {},
     "output_type": "execute_result"
    }
   ],
   "source": [
    "df_reference_url.head(5)"
   ]
  },
  {
   "cell_type": "code",
   "execution_count": 30,
   "metadata": {},
   "outputs": [
    {
     "data": {
      "text/html": [
       "<div>\n",
       "<style scoped>\n",
       "    .dataframe tbody tr th:only-of-type {\n",
       "        vertical-align: middle;\n",
       "    }\n",
       "\n",
       "    .dataframe tbody tr th {\n",
       "        vertical-align: top;\n",
       "    }\n",
       "\n",
       "    .dataframe thead th {\n",
       "        text-align: right;\n",
       "    }\n",
       "</style>\n",
       "<table border=\"1\" class=\"dataframe\">\n",
       "  <thead>\n",
       "    <tr style=\"text-align: right;\">\n",
       "      <th></th>\n",
       "      <th>Dates</th>\n",
       "    </tr>\n",
       "  </thead>\n",
       "  <tbody>\n",
       "    <tr>\n",
       "      <th>0</th>\n",
       "      <td>2018-09-03</td>\n",
       "    </tr>\n",
       "    <tr>\n",
       "      <th>1</th>\n",
       "      <td>2018-09-04</td>\n",
       "    </tr>\n",
       "    <tr>\n",
       "      <th>2</th>\n",
       "      <td>2018-09-05</td>\n",
       "    </tr>\n",
       "    <tr>\n",
       "      <th>3</th>\n",
       "      <td>2018-09-06</td>\n",
       "    </tr>\n",
       "    <tr>\n",
       "      <th>4</th>\n",
       "      <td>2018-09-07</td>\n",
       "    </tr>\n",
       "  </tbody>\n",
       "</table>\n",
       "</div>"
      ],
      "text/plain": [
       "       Dates\n",
       "0 2018-09-03\n",
       "1 2018-09-04\n",
       "2 2018-09-05\n",
       "3 2018-09-06\n",
       "4 2018-09-07"
      ]
     },
     "execution_count": 30,
     "metadata": {},
     "output_type": "execute_result"
    }
   ],
   "source": [
    "df_datetime.head(5)"
   ]
  },
  {
   "cell_type": "markdown",
   "metadata": {},
   "source": [
    "After checking previous dataframe, I create a function to cover mainly the following steps:\n",
    "\n",
    "- Open a csv file as dataframe\n",
    "- Clean data from that file (rename columns, parse to datetime, etc.)\n",
    "- Merge that dataframe with other dataframes\n",
    "- Fill missing values\n",
    "- Return the finaly dataframe"
   ]
  },
  {
   "cell_type": "code",
   "execution_count": 49,
   "metadata": {},
   "outputs": [],
   "source": [
    "def pageview_missing_values(path,file):\n",
    "    \n",
    "    #os.chdir(path)\n",
    "    \n",
    "    df_pageview = pd.read_csv(path+file)\n",
    "    \n",
    "    df_pageview = df_pageview.rename(index=str, columns={'Day Index':'Dates', 'Page Views': 'Page_Views'})\n",
    "    \n",
    "    column_interest_pageview = ['Page', 'Dates', 'Page_Views']\n",
    "    df_pageview = df_pageview[column_interest_pageview]   \n",
    "    \n",
    "    df_pageview['Dates'] = pd.to_datetime(df_pageview['Dates'], format = '%d/%m/%Y')\n",
    "    \n",
    "    merge_pageview = df_pageview.merge(df_datetime,\n",
    "        how='right',\n",
    "        left_on=['Dates'],\n",
    "        right_on=['Dates'])\n",
    "    \n",
    "    merge_pageview['Page'].fillna(method='ffill', inplace = True)\n",
    "    merge_pageview['Page_Views'].fillna(0, inplace = True)\n",
    "    \n",
    "    merge_url = merge_pageview.merge(df_reference_url,\n",
    "        how='inner',\n",
    "        left_on=['Page'],\n",
    "        right_on=['URL'])\n",
    "    \n",
    "    column_interest_reference = ['Reference', 'Dates', 'Page_Views']\n",
    "    merge_url = merge_url[column_interest_reference].sort_values(by='Dates')\n",
    "        \n",
    "    return merge_url"
   ]
  },
  {
   "cell_type": "markdown",
   "metadata": {},
   "source": [
    "Now, I need to make a list to save the required data"
   ]
  },
  {
   "cell_type": "code",
   "execution_count": 50,
   "metadata": {},
   "outputs": [],
   "source": [
    "lista = df_reference_url['Reference'].apply(str)+'_url.csv'\n",
    "c = lista.values.tolist()"
   ]
  },
  {
   "cell_type": "markdown",
   "metadata": {},
   "source": [
    "Finally, I make a for loop where I apply the funciont \"pageview_missing_values\" and save the dataframes as csv in a new directory"
   ]
  },
  {
   "cell_type": "code",
   "execution_count": 54,
   "metadata": {},
   "outputs": [
    {
     "data": {
      "text/plain": [
       "'/home/miguel/my_project_python/my_project_env/tfm/shopping'"
      ]
     },
     "execution_count": 54,
     "metadata": {},
     "output_type": "execute_result"
    }
   ],
   "source": [
    "pwd"
   ]
  },
  {
   "cell_type": "code",
   "execution_count": 56,
   "metadata": {},
   "outputs": [],
   "source": [
    "for i in range(len(c)):\n",
    "    \n",
    "    path_raw_data = './data/raw/pageview/'\n",
    "    \n",
    "    df_test = pageview_missing_values(path_raw_data, c[i])\n",
    "    file = c[i]\n",
    "    \n",
    "    path_save_data = './data/customize/pageviews/'\n",
    "    #os.chdir(path)\n",
    "    \n",
    "    df_test.to_csv(path_save_data + file)"
   ]
  },
  {
   "cell_type": "code",
   "execution_count": null,
   "metadata": {},
   "outputs": [],
   "source": []
  },
  {
   "cell_type": "code",
   "execution_count": null,
   "metadata": {},
   "outputs": [],
   "source": []
  },
  {
   "cell_type": "code",
   "execution_count": null,
   "metadata": {},
   "outputs": [],
   "source": []
  },
  {
   "cell_type": "code",
   "execution_count": null,
   "metadata": {},
   "outputs": [],
   "source": []
  },
  {
   "cell_type": "code",
   "execution_count": null,
   "metadata": {},
   "outputs": [],
   "source": []
  },
  {
   "cell_type": "code",
   "execution_count": null,
   "metadata": {},
   "outputs": [],
   "source": []
  },
  {
   "cell_type": "code",
   "execution_count": null,
   "metadata": {},
   "outputs": [],
   "source": []
  },
  {
   "cell_type": "markdown",
   "metadata": {},
   "source": [
    "<a name='bw'></a>BW\n",
    "==="
   ]
  },
  {
   "cell_type": "code",
   "execution_count": 67,
   "metadata": {},
   "outputs": [],
   "source": [
    "def open_bw(file,sheet_name, path):\n",
    "\n",
    "    #open the file xlsx    \n",
    "    df_bw = pd.read_excel(path+file, sheet_name)\n",
    "    \n",
    "    #rename the file columns correctly\n",
    "    df_bw = df_bw.rename(index=str, columns={'Referencia':'Reference', 'T Día natural':'Date', \n",
    "                                             'Valor neto pedidos':'Net_Incomes', \n",
    "                                             'Cantidad en unidades (pedidos)':'Units_sold'})\n",
    "    \n",
    "    #parse date columns\n",
    "    df_bw['Date'] = pd.to_datetime(df_bw['Date'], format = '%d.%m.%Y')\n",
    "    \n",
    "    return df_bw"
   ]
  },
  {
   "cell_type": "code",
   "execution_count": 58,
   "metadata": {},
   "outputs": [
    {
     "data": {
      "text/plain": [
       "'/home/miguel/my_project_python/my_project_env/tfm/shopping'"
      ]
     },
     "execution_count": 58,
     "metadata": {},
     "output_type": "execute_result"
    }
   ],
   "source": [
    "pwd"
   ]
  },
  {
   "cell_type": "code",
   "execution_count": 69,
   "metadata": {},
   "outputs": [
    {
     "data": {
      "text/html": [
       "<div>\n",
       "<style scoped>\n",
       "    .dataframe tbody tr th:only-of-type {\n",
       "        vertical-align: middle;\n",
       "    }\n",
       "\n",
       "    .dataframe tbody tr th {\n",
       "        vertical-align: top;\n",
       "    }\n",
       "\n",
       "    .dataframe thead th {\n",
       "        text-align: right;\n",
       "    }\n",
       "</style>\n",
       "<table border=\"1\" class=\"dataframe\">\n",
       "  <thead>\n",
       "    <tr style=\"text-align: right;\">\n",
       "      <th></th>\n",
       "      <th>Reference</th>\n",
       "      <th>Name</th>\n",
       "      <th>Date</th>\n",
       "      <th>Net_Incomes</th>\n",
       "      <th>Units_sold</th>\n",
       "    </tr>\n",
       "  </thead>\n",
       "  <tbody>\n",
       "    <tr>\n",
       "      <th>0</th>\n",
       "      <td>4623</td>\n",
       "      <td>ESPEJO PUERTA \"LCC\" BLANCO POLIETILENO</td>\n",
       "      <td>2017-09-11</td>\n",
       "      <td>18.93</td>\n",
       "      <td>1</td>\n",
       "    </tr>\n",
       "    <tr>\n",
       "      <th>1</th>\n",
       "      <td>4623</td>\n",
       "      <td>ESPEJO PUERTA \"LCC\" BLANCO POLIETILENO</td>\n",
       "      <td>2017-09-21</td>\n",
       "      <td>18.93</td>\n",
       "      <td>1</td>\n",
       "    </tr>\n",
       "    <tr>\n",
       "      <th>2</th>\n",
       "      <td>4623</td>\n",
       "      <td>ESPEJO PUERTA \"LCC\" BLANCO POLIETILENO</td>\n",
       "      <td>2017-10-08</td>\n",
       "      <td>16.08</td>\n",
       "      <td>1</td>\n",
       "    </tr>\n",
       "    <tr>\n",
       "      <th>3</th>\n",
       "      <td>4623</td>\n",
       "      <td>ESPEJO PUERTA \"LCC\" BLANCO POLIETILENO</td>\n",
       "      <td>2017-10-16</td>\n",
       "      <td>16.08</td>\n",
       "      <td>1</td>\n",
       "    </tr>\n",
       "    <tr>\n",
       "      <th>4</th>\n",
       "      <td>4623</td>\n",
       "      <td>ESPEJO PUERTA \"LCC\" BLANCO POLIETILENO</td>\n",
       "      <td>2017-10-21</td>\n",
       "      <td>16.08</td>\n",
       "      <td>1</td>\n",
       "    </tr>\n",
       "  </tbody>\n",
       "</table>\n",
       "</div>"
      ],
      "text/plain": [
       "   Reference                                    Name       Date  Net_Incomes  \\\n",
       "0       4623  ESPEJO PUERTA \"LCC\" BLANCO POLIETILENO 2017-09-11        18.93   \n",
       "1       4623  ESPEJO PUERTA \"LCC\" BLANCO POLIETILENO 2017-09-21        18.93   \n",
       "2       4623  ESPEJO PUERTA \"LCC\" BLANCO POLIETILENO 2017-10-08        16.08   \n",
       "3       4623  ESPEJO PUERTA \"LCC\" BLANCO POLIETILENO 2017-10-16        16.08   \n",
       "4       4623  ESPEJO PUERTA \"LCC\" BLANCO POLIETILENO 2017-10-21        16.08   \n",
       "\n",
       "   Units_sold  \n",
       "0           1  \n",
       "1           1  \n",
       "2           1  \n",
       "3           1  \n",
       "4           1  "
      ]
     },
     "execution_count": 69,
     "metadata": {},
     "output_type": "execute_result"
    }
   ],
   "source": [
    "#open the file\n",
    "df_bw = open_bw('BW.xlsx', 'BW', './data/raw/bw/')\n",
    "\n",
    "#head the file\n",
    "df_bw.head(5)"
   ]
  },
  {
   "cell_type": "code",
   "execution_count": 70,
   "metadata": {},
   "outputs": [
    {
     "name": "stdout",
     "output_type": "stream",
     "text": [
      "<class 'pandas.core.frame.DataFrame'>\n",
      "Index: 37614 entries, 0 to 37613\n",
      "Data columns (total 5 columns):\n",
      "Reference      37614 non-null int64\n",
      "Name           37614 non-null object\n",
      "Date           37614 non-null datetime64[ns]\n",
      "Net_Incomes    37614 non-null float64\n",
      "Units_sold     37614 non-null int64\n",
      "dtypes: datetime64[ns](1), float64(1), int64(2), object(1)\n",
      "memory usage: 1.7+ MB\n"
     ]
    }
   ],
   "source": [
    "df_bw.info()"
   ]
  },
  {
   "cell_type": "code",
   "execution_count": 71,
   "metadata": {},
   "outputs": [
    {
     "data": {
      "text/plain": [
       "(37614, 5)"
      ]
     },
     "execution_count": 71,
     "metadata": {},
     "output_type": "execute_result"
    }
   ],
   "source": [
    "df_bw.shape"
   ]
  },
  {
   "cell_type": "markdown",
   "metadata": {},
   "source": [
    "I also change \"Reference\" column from int64 to string in order to create a list later"
   ]
  },
  {
   "cell_type": "code",
   "execution_count": 95,
   "metadata": {},
   "outputs": [],
   "source": [
    "df_bw['Reference'] = df_bw['Reference'].apply(str)"
   ]
  },
  {
   "cell_type": "code",
   "execution_count": 97,
   "metadata": {},
   "outputs": [],
   "source": [
    "#create unique list of names\n",
    "#UniqueNames = data.Names.unique()\n",
    "referencess = df_bw['Reference'].unique().tolist()\n",
    "\n",
    "#create a data frame dictionary to store your data frames\n",
    "DataFrameDict = {elem : pd.DataFrame for elem in referencess}\n",
    "\n",
    "for key in DataFrameDict.keys():\n",
    "    DataFrameDict[key] = df_bw[:][df_bw.Reference == key]"
   ]
  },
  {
   "cell_type": "markdown",
   "metadata": {},
   "source": [
    "I use a reference id as example to check if it is working correctly"
   ]
  },
  {
   "cell_type": "code",
   "execution_count": 98,
   "metadata": {},
   "outputs": [
    {
     "data": {
      "text/html": [
       "<div>\n",
       "<style scoped>\n",
       "    .dataframe tbody tr th:only-of-type {\n",
       "        vertical-align: middle;\n",
       "    }\n",
       "\n",
       "    .dataframe tbody tr th {\n",
       "        vertical-align: top;\n",
       "    }\n",
       "\n",
       "    .dataframe thead th {\n",
       "        text-align: right;\n",
       "    }\n",
       "</style>\n",
       "<table border=\"1\" class=\"dataframe\">\n",
       "  <thead>\n",
       "    <tr style=\"text-align: right;\">\n",
       "      <th></th>\n",
       "      <th>Reference</th>\n",
       "      <th>Name</th>\n",
       "      <th>Date</th>\n",
       "      <th>Net_Incomes</th>\n",
       "      <th>Units_sold</th>\n",
       "    </tr>\n",
       "  </thead>\n",
       "  <tbody>\n",
       "    <tr>\n",
       "      <th>0</th>\n",
       "      <td>4623</td>\n",
       "      <td>ESPEJO PUERTA \"LCC\" BLANCO POLIETILENO</td>\n",
       "      <td>2017-09-11</td>\n",
       "      <td>18.93</td>\n",
       "      <td>1</td>\n",
       "    </tr>\n",
       "    <tr>\n",
       "      <th>1</th>\n",
       "      <td>4623</td>\n",
       "      <td>ESPEJO PUERTA \"LCC\" BLANCO POLIETILENO</td>\n",
       "      <td>2017-09-21</td>\n",
       "      <td>18.93</td>\n",
       "      <td>1</td>\n",
       "    </tr>\n",
       "    <tr>\n",
       "      <th>2</th>\n",
       "      <td>4623</td>\n",
       "      <td>ESPEJO PUERTA \"LCC\" BLANCO POLIETILENO</td>\n",
       "      <td>2017-10-08</td>\n",
       "      <td>16.08</td>\n",
       "      <td>1</td>\n",
       "    </tr>\n",
       "    <tr>\n",
       "      <th>3</th>\n",
       "      <td>4623</td>\n",
       "      <td>ESPEJO PUERTA \"LCC\" BLANCO POLIETILENO</td>\n",
       "      <td>2017-10-16</td>\n",
       "      <td>16.08</td>\n",
       "      <td>1</td>\n",
       "    </tr>\n",
       "    <tr>\n",
       "      <th>4</th>\n",
       "      <td>4623</td>\n",
       "      <td>ESPEJO PUERTA \"LCC\" BLANCO POLIETILENO</td>\n",
       "      <td>2017-10-21</td>\n",
       "      <td>16.08</td>\n",
       "      <td>1</td>\n",
       "    </tr>\n",
       "  </tbody>\n",
       "</table>\n",
       "</div>"
      ],
      "text/plain": [
       "  Reference                                    Name       Date  Net_Incomes  \\\n",
       "0      4623  ESPEJO PUERTA \"LCC\" BLANCO POLIETILENO 2017-09-11        18.93   \n",
       "1      4623  ESPEJO PUERTA \"LCC\" BLANCO POLIETILENO 2017-09-21        18.93   \n",
       "2      4623  ESPEJO PUERTA \"LCC\" BLANCO POLIETILENO 2017-10-08        16.08   \n",
       "3      4623  ESPEJO PUERTA \"LCC\" BLANCO POLIETILENO 2017-10-16        16.08   \n",
       "4      4623  ESPEJO PUERTA \"LCC\" BLANCO POLIETILENO 2017-10-21        16.08   \n",
       "\n",
       "   Units_sold  \n",
       "0           1  \n",
       "1           1  \n",
       "2           1  \n",
       "3           1  \n",
       "4           1  "
      ]
     },
     "execution_count": 98,
     "metadata": {},
     "output_type": "execute_result"
    }
   ],
   "source": [
    "DataFrameDict['4623']"
   ]
  },
  {
   "cell_type": "markdown",
   "metadata": {},
   "source": [
    "As we can see, it works well!"
   ]
  },
  {
   "cell_type": "code",
   "execution_count": null,
   "metadata": {},
   "outputs": [],
   "source": []
  },
  {
   "cell_type": "code",
   "execution_count": 80,
   "metadata": {},
   "outputs": [
    {
     "data": {
      "text/plain": [
       "'/home/miguel/my_project_python/my_project_env/tfm/shopping'"
      ]
     },
     "execution_count": 80,
     "metadata": {},
     "output_type": "execute_result"
    }
   ],
   "source": [
    "pwd"
   ]
  },
  {
   "cell_type": "code",
   "execution_count": 87,
   "metadata": {},
   "outputs": [],
   "source": [
    "#set directory\n",
    "path = './data/customize/top_50/'\n",
    "\n",
    "#open the file 'top_50'\n",
    "df_top_50 = pd.read_csv(path+'references_url.csv', sep='\\t')\n",
    "\n",
    "#select columns\n",
    "column_interest_reference = ['Reference']\n",
    "df_top_50 = df_top_50[column_interest_reference]"
   ]
  },
  {
   "cell_type": "code",
   "execution_count": 88,
   "metadata": {},
   "outputs": [
    {
     "data": {
      "text/html": [
       "<div>\n",
       "<style scoped>\n",
       "    .dataframe tbody tr th:only-of-type {\n",
       "        vertical-align: middle;\n",
       "    }\n",
       "\n",
       "    .dataframe tbody tr th {\n",
       "        vertical-align: top;\n",
       "    }\n",
       "\n",
       "    .dataframe thead th {\n",
       "        text-align: right;\n",
       "    }\n",
       "</style>\n",
       "<table border=\"1\" class=\"dataframe\">\n",
       "  <thead>\n",
       "    <tr style=\"text-align: right;\">\n",
       "      <th></th>\n",
       "      <th>Reference</th>\n",
       "    </tr>\n",
       "  </thead>\n",
       "  <tbody>\n",
       "    <tr>\n",
       "      <th>0</th>\n",
       "      <td>122532</td>\n",
       "    </tr>\n",
       "    <tr>\n",
       "      <th>1</th>\n",
       "      <td>51148</td>\n",
       "    </tr>\n",
       "    <tr>\n",
       "      <th>2</th>\n",
       "      <td>51149</td>\n",
       "    </tr>\n",
       "    <tr>\n",
       "      <th>3</th>\n",
       "      <td>51136</td>\n",
       "    </tr>\n",
       "    <tr>\n",
       "      <th>4</th>\n",
       "      <td>51140</td>\n",
       "    </tr>\n",
       "  </tbody>\n",
       "</table>\n",
       "</div>"
      ],
      "text/plain": [
       "   Reference\n",
       "0     122532\n",
       "1      51148\n",
       "2      51149\n",
       "3      51136\n",
       "4      51140"
      ]
     },
     "execution_count": 88,
     "metadata": {},
     "output_type": "execute_result"
    }
   ],
   "source": [
    "df_top_50.head()"
   ]
  },
  {
   "cell_type": "code",
   "execution_count": 91,
   "metadata": {},
   "outputs": [
    {
     "name": "stdout",
     "output_type": "stream",
     "text": [
      "<class 'pandas.core.frame.DataFrame'>\n",
      "RangeIndex: 50 entries, 0 to 49\n",
      "Data columns (total 1 columns):\n",
      "Reference    50 non-null int64\n",
      "dtypes: int64(1)\n",
      "memory usage: 480.0 bytes\n"
     ]
    }
   ],
   "source": [
    "df_top_50.info()"
   ]
  },
  {
   "cell_type": "markdown",
   "metadata": {},
   "source": [
    "I create another list using last dataset (I apply string to \"Reference\" column as I have also made before)"
   ]
  },
  {
   "cell_type": "code",
   "execution_count": 99,
   "metadata": {},
   "outputs": [],
   "source": [
    "lista = df_top_50['Reference'].apply(str)\n",
    "c = lista.values.tolist()"
   ]
  },
  {
   "cell_type": "code",
   "execution_count": null,
   "metadata": {},
   "outputs": [],
   "source": []
  },
  {
   "cell_type": "markdown",
   "metadata": {},
   "source": [
    "I make a for loop to:\n",
    "\n",
    "- Read each component of the list and check its data from DataFrameDict.\n",
    "- Set the directory to storage the data\n",
    "- Save a csv file for each reference"
   ]
  },
  {
   "cell_type": "code",
   "execution_count": 101,
   "metadata": {},
   "outputs": [],
   "source": [
    "for i in range(len(c)):\n",
    "    \n",
    "    df_test = DataFrameDict[c[i]]\n",
    "    \n",
    "    file = c[i]\n",
    "    \n",
    "    path = './data/customize/bw/'\n",
    "        \n",
    "    df_test.to_csv(path + file + '.csv')"
   ]
  },
  {
   "cell_type": "markdown",
   "metadata": {},
   "source": [
    "Check the saved data"
   ]
  },
  {
   "cell_type": "code",
   "execution_count": 105,
   "metadata": {},
   "outputs": [
    {
     "data": {
      "text/html": [
       "<div>\n",
       "<style scoped>\n",
       "    .dataframe tbody tr th:only-of-type {\n",
       "        vertical-align: middle;\n",
       "    }\n",
       "\n",
       "    .dataframe tbody tr th {\n",
       "        vertical-align: top;\n",
       "    }\n",
       "\n",
       "    .dataframe thead th {\n",
       "        text-align: right;\n",
       "    }\n",
       "</style>\n",
       "<table border=\"1\" class=\"dataframe\">\n",
       "  <thead>\n",
       "    <tr style=\"text-align: right;\">\n",
       "      <th></th>\n",
       "      <th>Unnamed: 0</th>\n",
       "      <th>Reference</th>\n",
       "      <th>Name</th>\n",
       "      <th>Date</th>\n",
       "      <th>Net_Incomes</th>\n",
       "      <th>Units_sold</th>\n",
       "    </tr>\n",
       "  </thead>\n",
       "  <tbody>\n",
       "    <tr>\n",
       "      <th>0</th>\n",
       "      <td>21074</td>\n",
       "      <td>101318</td>\n",
       "      <td>SILLA MARRÓN PU/METAL SALÓN</td>\n",
       "      <td>2017-10-05</td>\n",
       "      <td>151.53</td>\n",
       "      <td>3</td>\n",
       "    </tr>\n",
       "    <tr>\n",
       "      <th>1</th>\n",
       "      <td>21075</td>\n",
       "      <td>101318</td>\n",
       "      <td>SILLA MARRÓN PU/METAL SALÓN</td>\n",
       "      <td>2017-10-12</td>\n",
       "      <td>118.85</td>\n",
       "      <td>2</td>\n",
       "    </tr>\n",
       "    <tr>\n",
       "      <th>2</th>\n",
       "      <td>21076</td>\n",
       "      <td>101318</td>\n",
       "      <td>SILLA MARRÓN PU/METAL SALÓN</td>\n",
       "      <td>2017-10-15</td>\n",
       "      <td>202.05</td>\n",
       "      <td>4</td>\n",
       "    </tr>\n",
       "    <tr>\n",
       "      <th>3</th>\n",
       "      <td>21077</td>\n",
       "      <td>101318</td>\n",
       "      <td>SILLA MARRÓN PU/METAL SALÓN</td>\n",
       "      <td>2018-02-06</td>\n",
       "      <td>44.55</td>\n",
       "      <td>1</td>\n",
       "    </tr>\n",
       "    <tr>\n",
       "      <th>4</th>\n",
       "      <td>21078</td>\n",
       "      <td>101318</td>\n",
       "      <td>SILLA MARRÓN PU/METAL SALÓN</td>\n",
       "      <td>2018-02-22</td>\n",
       "      <td>237.69</td>\n",
       "      <td>4</td>\n",
       "    </tr>\n",
       "  </tbody>\n",
       "</table>\n",
       "</div>"
      ],
      "text/plain": [
       "   Unnamed: 0  Reference                         Name        Date  \\\n",
       "0       21074     101318  SILLA MARRÓN PU/METAL SALÓN  2017-10-05   \n",
       "1       21075     101318  SILLA MARRÓN PU/METAL SALÓN  2017-10-12   \n",
       "2       21076     101318  SILLA MARRÓN PU/METAL SALÓN  2017-10-15   \n",
       "3       21077     101318  SILLA MARRÓN PU/METAL SALÓN  2018-02-06   \n",
       "4       21078     101318  SILLA MARRÓN PU/METAL SALÓN  2018-02-22   \n",
       "\n",
       "   Net_Incomes  Units_sold  \n",
       "0       151.53           3  \n",
       "1       118.85           2  \n",
       "2       202.05           4  \n",
       "3        44.55           1  \n",
       "4       237.69           4  "
      ]
     },
     "execution_count": 105,
     "metadata": {},
     "output_type": "execute_result"
    }
   ],
   "source": [
    "df_101318 = pd.read_csv('./data/customize/bw/101318.csv', sep=',', error_bad_lines=True)\n",
    "df_101318.head()"
   ]
  },
  {
   "cell_type": "markdown",
   "metadata": {},
   "source": [
    "I create function \"bw_missing_values\" to be able to achieve following goals:\n",
    "\n",
    "- Open some files that I will work\n",
    "- Make the required data wrangling in this dataframes\n",
    "- Work specificly in each reference\n",
    "- Return a dataframe with the main data in each case"
   ]
  },
  {
   "cell_type": "code",
   "execution_count": 115,
   "metadata": {},
   "outputs": [],
   "source": [
    "def bw_missing_values(path1, path2, file):\n",
    "    \n",
    "    #set directory and open datetime_df file\n",
    "    #os.chdir(path1)\n",
    "    df_datetime = pd.read_csv(path1 + 'datetime_df.csv') ###ABRIR CON LA FUNCION\n",
    "    \n",
    "    #selecto column interest and parse data to datetime\n",
    "    column_interest_datetime = ['Dates']\n",
    "    df_datetime = df_datetime[column_interest_datetime]\n",
    "    df_datetime['Dates'] = pd.to_datetime(df_datetime['Dates'], format = '%Y-%m-%d')\n",
    "    \n",
    "        \n",
    "    #set directory to open the reference file\n",
    "    #os.chdir(path2)\n",
    "    \n",
    "    #open the csv file for each reference\n",
    "    df_bw_ref = pd.read_csv(path2 + c[i] + '.csv')\n",
    "        \n",
    "    #data wranggling of this data        \n",
    "    df_bw_ref['Date'] = pd.to_datetime(df_bw_ref['Date'], format = '%Y-%m-%d')\n",
    "    df_bw_ref = df_bw_ref.rename(index=str, columns={'Net Incomes': 'Net_Incomes', })\n",
    "        \n",
    "    #select columns \n",
    "    column_interest_bw = ['Reference', 'Name', 'Date', 'Net_Incomes', 'Units_sold']\n",
    "    df_bw_ref = df_bw_ref[column_interest_bw]\n",
    "        \n",
    "    #merge with df_datetime\n",
    "    merge_bw = df_bw_ref.merge(df_datetime,\n",
    "        how='right',\n",
    "        left_on=['Date'],\n",
    "        right_on=['Dates'])\n",
    "        \n",
    "    #fill NaN values\n",
    "    merge_bw['Reference'].fillna(method='ffill', inplace = True)\n",
    "    merge_bw['Name'].fillna(method='ffill', inplace = True)\n",
    "    merge_bw.fillna(0, inplace = True)\n",
    "    \n",
    "    #sort values by Dates\n",
    "    merge_bw = merge_bw.sort_values(by='Dates')\n",
    "    \n",
    "    #select required columns\n",
    "    column_interest_merge = ['Reference', 'Name', 'Dates', 'Net_Incomes', 'Units_sold']\n",
    "    merge_bw = merge_bw[column_interest_merge]   \n",
    "\n",
    "        \n",
    "    return merge_bw"
   ]
  },
  {
   "cell_type": "markdown",
   "metadata": {},
   "source": [
    "I apply the previous function using a for loop"
   ]
  },
  {
   "cell_type": "code",
   "execution_count": 116,
   "metadata": {},
   "outputs": [],
   "source": [
    "path_datetime = './data/raw/datetime/'\n",
    "path_original_data = './data/customize/bw/'\n",
    "\n",
    "for i in range(len(c)):\n",
    "    df_test = bw_missing_values(path_datetime, path_original_data, c[i])\n",
    "    file = c[i]\n",
    "    \n",
    "    path = './data/customize/merge_bw_pageviews/'\n",
    "    #os.chdir(path)\n",
    "    \n",
    "    df_test.to_csv(path + file + '.csv')"
   ]
  },
  {
   "cell_type": "code",
   "execution_count": null,
   "metadata": {},
   "outputs": [],
   "source": [
    "pwd"
   ]
  },
  {
   "cell_type": "code",
   "execution_count": 118,
   "metadata": {},
   "outputs": [
    {
     "data": {
      "text/html": [
       "<div>\n",
       "<style scoped>\n",
       "    .dataframe tbody tr th:only-of-type {\n",
       "        vertical-align: middle;\n",
       "    }\n",
       "\n",
       "    .dataframe tbody tr th {\n",
       "        vertical-align: top;\n",
       "    }\n",
       "\n",
       "    .dataframe thead th {\n",
       "        text-align: right;\n",
       "    }\n",
       "</style>\n",
       "<table border=\"1\" class=\"dataframe\">\n",
       "  <thead>\n",
       "    <tr style=\"text-align: right;\">\n",
       "      <th></th>\n",
       "      <th>Unnamed: 0</th>\n",
       "      <th>Reference</th>\n",
       "      <th>Name</th>\n",
       "      <th>Dates</th>\n",
       "      <th>Net_Incomes</th>\n",
       "      <th>Units_sold</th>\n",
       "    </tr>\n",
       "  </thead>\n",
       "  <tbody>\n",
       "    <tr>\n",
       "      <th>0</th>\n",
       "      <td>19</td>\n",
       "      <td>101318.0</td>\n",
       "      <td>SILLA MARRÓN PU/METAL SALÓN</td>\n",
       "      <td>2018-09-03</td>\n",
       "      <td>0.0</td>\n",
       "      <td>0.0</td>\n",
       "    </tr>\n",
       "    <tr>\n",
       "      <th>1</th>\n",
       "      <td>20</td>\n",
       "      <td>101318.0</td>\n",
       "      <td>SILLA MARRÓN PU/METAL SALÓN</td>\n",
       "      <td>2018-09-04</td>\n",
       "      <td>0.0</td>\n",
       "      <td>0.0</td>\n",
       "    </tr>\n",
       "    <tr>\n",
       "      <th>2</th>\n",
       "      <td>21</td>\n",
       "      <td>101318.0</td>\n",
       "      <td>SILLA MARRÓN PU/METAL SALÓN</td>\n",
       "      <td>2018-09-05</td>\n",
       "      <td>0.0</td>\n",
       "      <td>0.0</td>\n",
       "    </tr>\n",
       "    <tr>\n",
       "      <th>3</th>\n",
       "      <td>22</td>\n",
       "      <td>101318.0</td>\n",
       "      <td>SILLA MARRÓN PU/METAL SALÓN</td>\n",
       "      <td>2018-09-06</td>\n",
       "      <td>0.0</td>\n",
       "      <td>0.0</td>\n",
       "    </tr>\n",
       "    <tr>\n",
       "      <th>4</th>\n",
       "      <td>23</td>\n",
       "      <td>101318.0</td>\n",
       "      <td>SILLA MARRÓN PU/METAL SALÓN</td>\n",
       "      <td>2018-09-07</td>\n",
       "      <td>0.0</td>\n",
       "      <td>0.0</td>\n",
       "    </tr>\n",
       "  </tbody>\n",
       "</table>\n",
       "</div>"
      ],
      "text/plain": [
       "   Unnamed: 0  Reference                         Name       Dates  \\\n",
       "0          19   101318.0  SILLA MARRÓN PU/METAL SALÓN  2018-09-03   \n",
       "1          20   101318.0  SILLA MARRÓN PU/METAL SALÓN  2018-09-04   \n",
       "2          21   101318.0  SILLA MARRÓN PU/METAL SALÓN  2018-09-05   \n",
       "3          22   101318.0  SILLA MARRÓN PU/METAL SALÓN  2018-09-06   \n",
       "4          23   101318.0  SILLA MARRÓN PU/METAL SALÓN  2018-09-07   \n",
       "\n",
       "   Net_Incomes  Units_sold  \n",
       "0          0.0         0.0  \n",
       "1          0.0         0.0  \n",
       "2          0.0         0.0  \n",
       "3          0.0         0.0  \n",
       "4          0.0         0.0  "
      ]
     },
     "execution_count": 118,
     "metadata": {},
     "output_type": "execute_result"
    }
   ],
   "source": [
    "df_101318 = pd.read_csv('./data/customize/merge_bw_pageviews/101318.csv', sep=',', error_bad_lines=True)\n",
    "df_101318.head()"
   ]
  },
  {
   "cell_type": "code",
   "execution_count": null,
   "metadata": {},
   "outputs": [],
   "source": []
  },
  {
   "cell_type": "code",
   "execution_count": null,
   "metadata": {},
   "outputs": [],
   "source": []
  },
  {
   "cell_type": "markdown",
   "metadata": {},
   "source": [
    "<a name='adwords'></a>Adwords\n",
    "==\n",
    "\n",
    "In this notebook, I am going to work with adwords data:\n",
    "    - Load datasets.\n",
    "    - Concatenate these datasets into one main dataset\n",
    "    - Clean data (rename, select columns, etc.)\n",
    "    - Select specific references and their data from previous dataset.\n",
    "    - Split the main dataframe into multiple dataframes (a dataframe per reference)\n",
    "    - Merge multiples dataframes with \"datatime_df\"\n",
    "    - Save multiples dataframes correctly as csv files"
   ]
  },
  {
   "cell_type": "markdown",
   "metadata": {},
   "source": [
    "I open adwords data. I have to open three files according to different time periods:\n",
    "- TFM_Datos_2017_18_1.csv\n",
    "- TFM_Datos_2017_18_2.csv\n",
    "- TFM_Datos_2018_19.csv"
   ]
  },
  {
   "cell_type": "code",
   "execution_count": 120,
   "metadata": {},
   "outputs": [
    {
     "data": {
      "text/plain": [
       "'/home/miguel/my_project_python/my_project_env/tfm/shopping'"
      ]
     },
     "execution_count": 120,
     "metadata": {},
     "output_type": "execute_result"
    }
   ],
   "source": [
    "pwd"
   ]
  },
  {
   "cell_type": "markdown",
   "metadata": {},
   "source": [
    "-------\n",
    "QUITAR PRIMER FICHERO\n",
    "SOLOS LOS DOS ULTIMOS Y FILTRAR\n",
    "-------"
   ]
  },
  {
   "cell_type": "code",
   "execution_count": 130,
   "metadata": {},
   "outputs": [
    {
     "name": "stderr",
     "output_type": "stream",
     "text": [
      "/home/miguel/my_project_python/my_project_env/lib/python3.6/site-packages/IPython/core/interactiveshell.py:3214: DtypeWarning: Columns (6) have mixed types. Specify dtype option on import or set low_memory=False.\n",
      "  if (yield from self.run_code(code, result)):\n"
     ]
    }
   ],
   "source": [
    "#path = './data/raw/adwords/'\n",
    "\n",
    "extension = 'csv'\n",
    "all_filenames = [i for i in glob.glob('./data/raw/adwords/*.{}'.format(extension))]\n",
    "\n",
    "#combine all files in the list\n",
    "df_adwords = pd.concat([pd.read_csv(f, sep=\";\", error_bad_lines=True) for f in all_filenames])"
   ]
  },
  {
   "cell_type": "code",
   "execution_count": 131,
   "metadata": {},
   "outputs": [
    {
     "data": {
      "text/html": [
       "<div>\n",
       "<style scoped>\n",
       "    .dataframe tbody tr th:only-of-type {\n",
       "        vertical-align: middle;\n",
       "    }\n",
       "\n",
       "    .dataframe tbody tr th {\n",
       "        vertical-align: top;\n",
       "    }\n",
       "\n",
       "    .dataframe thead th {\n",
       "        text-align: right;\n",
       "    }\n",
       "</style>\n",
       "<table border=\"1\" class=\"dataframe\">\n",
       "  <thead>\n",
       "    <tr style=\"text-align: right;\">\n",
       "      <th></th>\n",
       "      <th>ID de producto</th>\n",
       "      <th>Campaña</th>\n",
       "      <th>ID de la campaña</th>\n",
       "      <th>Tipo de producto (primer nivel)</th>\n",
       "      <th>Tipo de producto (segundo nivel)</th>\n",
       "      <th>Día</th>\n",
       "      <th>Etiqueta personalizada 1</th>\n",
       "      <th>CPC máximo predeterminado del grupo de anuncios</th>\n",
       "      <th>Moneda</th>\n",
       "      <th>Impresiones</th>\n",
       "      <th>Clics</th>\n",
       "      <th>CTR</th>\n",
       "      <th>CPC medio</th>\n",
       "      <th>Coste</th>\n",
       "      <th>Conversiones</th>\n",
       "      <th>Todas las conversiones</th>\n",
       "      <th>Valor de conv.</th>\n",
       "      <th>Valor de todas las conversiones</th>\n",
       "      <th>Valor conv./coste</th>\n",
       "    </tr>\n",
       "  </thead>\n",
       "  <tbody>\n",
       "    <tr>\n",
       "      <th>0</th>\n",
       "      <td>123624</td>\n",
       "      <td>Shop_Cocina y comedor_N1_Y18_W37</td>\n",
       "      <td>1559515409</td>\n",
       "      <td>cocina y comedor</td>\n",
       "      <td>tazas de café y mugs</td>\n",
       "      <td>12/10/2018</td>\n",
       "      <td>10</td>\n",
       "      <td>0,15</td>\n",
       "      <td>EUR</td>\n",
       "      <td>1</td>\n",
       "      <td>0</td>\n",
       "      <td>0,00 %</td>\n",
       "      <td>0,00</td>\n",
       "      <td>0,00</td>\n",
       "      <td>0,00</td>\n",
       "      <td>0,00</td>\n",
       "      <td>0,00</td>\n",
       "      <td>0,00</td>\n",
       "      <td>0,00</td>\n",
       "    </tr>\n",
       "    <tr>\n",
       "      <th>1</th>\n",
       "      <td>107553</td>\n",
       "      <td>Shop_Smart_Lámparas_Y18_W45</td>\n",
       "      <td>1623248621</td>\n",
       "      <td>lámparas e iluminación</td>\n",
       "      <td>lámparas de techo</td>\n",
       "      <td>31/01/2019</td>\n",
       "      <td>40</td>\n",
       "      <td>0,01</td>\n",
       "      <td>EUR</td>\n",
       "      <td>2</td>\n",
       "      <td>0</td>\n",
       "      <td>0,00 %</td>\n",
       "      <td>0,00</td>\n",
       "      <td>0,00</td>\n",
       "      <td>0,00</td>\n",
       "      <td>0,00</td>\n",
       "      <td>0,00</td>\n",
       "      <td>0,00</td>\n",
       "      <td>0,00</td>\n",
       "    </tr>\n",
       "    <tr>\n",
       "      <th>2</th>\n",
       "      <td>87810</td>\n",
       "      <td>Shop_Navidad_Estrellas de navidad_Y18_W12</td>\n",
       "      <td>1323457572</td>\n",
       "      <td>decoración de navidad</td>\n",
       "      <td>estrellas de navidad</td>\n",
       "      <td>17/10/2018</td>\n",
       "      <td>20</td>\n",
       "      <td>0,2</td>\n",
       "      <td>EUR</td>\n",
       "      <td>1</td>\n",
       "      <td>0</td>\n",
       "      <td>0,00 %</td>\n",
       "      <td>0,00</td>\n",
       "      <td>0,00</td>\n",
       "      <td>0,00</td>\n",
       "      <td>0,00</td>\n",
       "      <td>0,00</td>\n",
       "      <td>0,00</td>\n",
       "      <td>0,00</td>\n",
       "    </tr>\n",
       "    <tr>\n",
       "      <th>3</th>\n",
       "      <td>105114</td>\n",
       "      <td>Shop_Decoración_N1_Y18_W37</td>\n",
       "      <td>1559890739</td>\n",
       "      <td>decoración para tu casa</td>\n",
       "      <td>figuras decorativas</td>\n",
       "      <td>25/10/2018</td>\n",
       "      <td>30</td>\n",
       "      <td>0,15</td>\n",
       "      <td>EUR</td>\n",
       "      <td>4</td>\n",
       "      <td>0</td>\n",
       "      <td>0,00 %</td>\n",
       "      <td>0,00</td>\n",
       "      <td>0,00</td>\n",
       "      <td>0,00</td>\n",
       "      <td>0,00</td>\n",
       "      <td>0,00</td>\n",
       "      <td>0,00</td>\n",
       "      <td>0,00</td>\n",
       "    </tr>\n",
       "    <tr>\n",
       "      <th>4</th>\n",
       "      <td>111017</td>\n",
       "      <td>Shop_Navidad_Portavelas navideños_Y18_W12</td>\n",
       "      <td>1323682318</td>\n",
       "      <td>decoración de navidad</td>\n",
       "      <td>portavelas navideños</td>\n",
       "      <td>21/10/2018</td>\n",
       "      <td>20</td>\n",
       "      <td>0,2</td>\n",
       "      <td>EUR</td>\n",
       "      <td>8</td>\n",
       "      <td>0</td>\n",
       "      <td>0,00 %</td>\n",
       "      <td>0,00</td>\n",
       "      <td>0,00</td>\n",
       "      <td>0,00</td>\n",
       "      <td>0,00</td>\n",
       "      <td>0,00</td>\n",
       "      <td>0,00</td>\n",
       "      <td>0,00</td>\n",
       "    </tr>\n",
       "  </tbody>\n",
       "</table>\n",
       "</div>"
      ],
      "text/plain": [
       "   ID de producto                                    Campaña  \\\n",
       "0          123624           Shop_Cocina y comedor_N1_Y18_W37   \n",
       "1          107553                Shop_Smart_Lámparas_Y18_W45   \n",
       "2           87810  Shop_Navidad_Estrellas de navidad_Y18_W12   \n",
       "3          105114                 Shop_Decoración_N1_Y18_W37   \n",
       "4          111017  Shop_Navidad_Portavelas navideños_Y18_W12   \n",
       "\n",
       "   ID de la campaña Tipo de producto (primer nivel)  \\\n",
       "0        1559515409                cocina y comedor   \n",
       "1        1623248621          lámparas e iluminación   \n",
       "2        1323457572           decoración de navidad   \n",
       "3        1559890739         decoración para tu casa   \n",
       "4        1323682318           decoración de navidad   \n",
       "\n",
       "  Tipo de producto (segundo nivel)         Día Etiqueta personalizada 1  \\\n",
       "0             tazas de café y mugs  12/10/2018                       10   \n",
       "1                lámparas de techo  31/01/2019                       40   \n",
       "2             estrellas de navidad  17/10/2018                       20   \n",
       "3              figuras decorativas  25/10/2018                       30   \n",
       "4             portavelas navideños  21/10/2018                       20   \n",
       "\n",
       "  CPC máximo predeterminado del grupo de anuncios Moneda  Impresiones  Clics  \\\n",
       "0                                            0,15    EUR            1      0   \n",
       "1                                            0,01    EUR            2      0   \n",
       "2                                             0,2    EUR            1      0   \n",
       "3                                            0,15    EUR            4      0   \n",
       "4                                             0,2    EUR            8      0   \n",
       "\n",
       "      CTR CPC medio Coste Conversiones Todas las conversiones Valor de conv.  \\\n",
       "0  0,00 %      0,00  0,00         0,00                   0,00           0,00   \n",
       "1  0,00 %      0,00  0,00         0,00                   0,00           0,00   \n",
       "2  0,00 %      0,00  0,00         0,00                   0,00           0,00   \n",
       "3  0,00 %      0,00  0,00         0,00                   0,00           0,00   \n",
       "4  0,00 %      0,00  0,00         0,00                   0,00           0,00   \n",
       "\n",
       "  Valor de todas las conversiones Valor conv./coste  \n",
       "0                            0,00              0,00  \n",
       "1                            0,00              0,00  \n",
       "2                            0,00              0,00  \n",
       "3                            0,00              0,00  \n",
       "4                            0,00              0,00  "
      ]
     },
     "execution_count": 131,
     "metadata": {},
     "output_type": "execute_result"
    }
   ],
   "source": [
    "df_adwords.head(5)"
   ]
  },
  {
   "cell_type": "code",
   "execution_count": 132,
   "metadata": {},
   "outputs": [
    {
     "data": {
      "text/plain": [
       "(1026615, 19)"
      ]
     },
     "execution_count": 132,
     "metadata": {},
     "output_type": "execute_result"
    }
   ],
   "source": [
    "df_adwords.shape"
   ]
  },
  {
   "cell_type": "code",
   "execution_count": 133,
   "metadata": {},
   "outputs": [
    {
     "name": "stdout",
     "output_type": "stream",
     "text": [
      "<class 'pandas.core.frame.DataFrame'>\n",
      "Int64Index: 1026615 entries, 0 to 579075\n",
      "Data columns (total 19 columns):\n",
      "ID de producto                                     1026615 non-null int64\n",
      "Campaña                                            1026615 non-null object\n",
      "ID de la campaña                                   1026615 non-null int64\n",
      "Tipo de producto (primer nivel)                    1026615 non-null object\n",
      "Tipo de producto (segundo nivel)                   1026615 non-null object\n",
      "Día                                                1026615 non-null object\n",
      "Etiqueta personalizada 1                           1026615 non-null object\n",
      "CPC máximo predeterminado del grupo de anuncios    1026615 non-null object\n",
      "Moneda                                             1026615 non-null object\n",
      "Impresiones                                        1026615 non-null int64\n",
      "Clics                                              1026615 non-null int64\n",
      "CTR                                                1026615 non-null object\n",
      "CPC medio                                          1026615 non-null object\n",
      "Coste                                              1026615 non-null object\n",
      "Conversiones                                       1026615 non-null object\n",
      "Todas las conversiones                             1026615 non-null object\n",
      "Valor de conv.                                     1026615 non-null object\n",
      "Valor de todas las conversiones                    1026615 non-null object\n",
      "Valor conv./coste                                  1026615 non-null object\n",
      "dtypes: int64(4), object(15)\n",
      "memory usage: 156.6+ MB\n"
     ]
    }
   ],
   "source": [
    "df_adwords.info()"
   ]
  },
  {
   "cell_type": "markdown",
   "metadata": {},
   "source": [
    "Firstly, I rename the columns"
   ]
  },
  {
   "cell_type": "code",
   "execution_count": null,
   "metadata": {},
   "outputs": [],
   "source": [
    "df_adwords.columns"
   ]
  },
  {
   "cell_type": "code",
   "execution_count": null,
   "metadata": {},
   "outputs": [],
   "source": [
    "df_adwords = df_adwords.rename(index=str, \n",
    "            columns={\"ID de producto\":\"Reference\", \"Tipo de producto (primer nivel)\": \"CatN1\",\n",
    "                     \"Tipo de producto (segundo nivel)\":\"CatN2\", \"Día\":\"Date\", \"Etiqueta personalizada 1\": \"Cat_Price\", \n",
    "                     \"CPC máximo predeterminado del grupo de anuncios\": \"CPC_max\", \"CPC medio\": \"CPC_medio\", \n",
    "                     \"Impresiones\":\"Impressions\", \"Coste\":\"Cost\", \"Conversiones\": \"Conversions\",\n",
    "                    \"Todas las conversiones\": \"All_Conversions\", \"Valor de conv.\": \"Ads_Income\", \n",
    "                    \"Valor de todas las conversiones\": \"Ads_Income_All\"})"
   ]
  },
  {
   "cell_type": "code",
   "execution_count": null,
   "metadata": {},
   "outputs": [],
   "source": [
    "Then, I select the columns of our interest for this study"
   ]
  },
  {
   "cell_type": "code",
   "execution_count": null,
   "metadata": {},
   "outputs": [],
   "source": [
    "\n",
    "column_interest_adwords = [\"Reference\", \"CatN1\", \"CatN2\", \"Date\", \"Cat_Price\", \"CPC_max\", \"CPC_medio\", \"Impressions\", \n",
    "                           \"Clics\", \"Cost\", \"Conversions\", \"All_Conversions\", \"Ads_Income\", \"Ads_Income_All\"]\n",
    "df_adwords = df_adwords[column_interest_adwords]\n",
    "\n",
    "#Change reference value from int to string in order to save references id as list later\n",
    "df_adwords[\"Reference\"] = df_adwords[\"Reference\"].apply(str)\n",
    "\n",
    "#Parse time to \"Date\" column\n",
    "df_adwords[\"Date\"] = pd.to_datetime(df_adwords[\"Date\"], format = \"%d/%m/%Y\")\n",
    "\n",
    "#Change to float type\n",
    "#float_columns = [\"CPC_medio\", \"Cost\", \"Conversions\", \"All_Conversions\", \"Ads_Income\", \"Ads_Income_All\"]\n",
    "df_adwords[\"CPC_max\"] = df_adwords[\"CPC_max\"].str.replace(\",\",\".\").astype(float)\n",
    "df_adwords[\"CPC_medio\"] = df_adwords[\"CPC_medio\"].str.replace(\",\",\".\").astype(float)\n",
    "df_adwords[\"Cost\"] = df_adwords[\"Cost\"].str.replace(\",\",\".\").astype(float)\n",
    "df_adwords[\"Conversions\"] = df_adwords[\"Conversions\"].str.replace(\",\",\".\").astype(float)\n",
    "df_adwords[\"All_Conversions\"] = df_adwords[\"All_Conversions\"].str.replace(\",\",\".\").astype(float)\n",
    "df_adwords[\"Ads_Income\"] = df_adwords[\"Ads_Income\"].str.replace(\",\",\".\").astype(float)\n",
    "df_adwords[\"Ads_Income_All\"] = df_adwords[\"Ads_Income_All\"].str.replace(\",\",\".\").astype(float)"
   ]
  },
  {
   "cell_type": "code",
   "execution_count": null,
   "metadata": {},
   "outputs": [],
   "source": [
    "df_adwords.head(5)"
   ]
  },
  {
   "cell_type": "code",
   "execution_count": null,
   "metadata": {},
   "outputs": [],
   "source": [
    "df_adwords.info()"
   ]
  },
  {
   "cell_type": "code",
   "execution_count": null,
   "metadata": {},
   "outputs": [],
   "source": [
    "df_adwords.shape"
   ]
  },
  {
   "cell_type": "code",
   "execution_count": null,
   "metadata": {},
   "outputs": [],
   "source": []
  },
  {
   "cell_type": "code",
   "execution_count": null,
   "metadata": {},
   "outputs": [],
   "source": []
  }
 ],
 "metadata": {
  "kernelspec": {
   "display_name": "Python 3",
   "language": "python",
   "name": "python3"
  },
  "language_info": {
   "codemirror_mode": {
    "name": "ipython",
    "version": 3
   },
   "file_extension": ".py",
   "mimetype": "text/x-python",
   "name": "python",
   "nbconvert_exporter": "python",
   "pygments_lexer": "ipython3",
   "version": "3.6.7"
  }
 },
 "nbformat": 4,
 "nbformat_minor": 2
}
