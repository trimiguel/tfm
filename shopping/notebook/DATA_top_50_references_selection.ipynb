{
 "cells": [
  {
   "cell_type": "markdown",
   "metadata": {},
   "source": [
    "- 1) REVISAR\n",
    "- 2) HACER EXPLICACIONES\n",
    "- 3) MATPLOTLIB\n",
    "- 4) MARKDOWN\n",
    "\n",
    "\n",
    "UFO\n",
    "- 1) HACER EN R LOS PASOS\n",
    "- 2) BUSCAR FORMAS DE CONSEGUIR RESTO DATOS\n",
    "- 3) JUSTIFICAR DATOS GA\n",
    "- 4) TABLEAU"
   ]
  },
  {
   "cell_type": "markdown",
   "metadata": {},
   "source": [
    "<a name='top'></a>Contents\n",
    "===\n",
    "- [Introduction](#intro)\n",
    "\n",
    "- [Libraries](#libraries)\n",
    "\n",
    "- [Top 50 references](#top50)\n",
    "    - [BW](#bw)\n",
    "        - [Open BW dataset](#open_bw)\n",
    "        - [Customize BW dataset](#customize_bw)\n",
    "    - [Adwords](#adwords)\n",
    "        - [Open Adwords dataset](#open_ads)\n",
    "        - [Customize Ads dataset](#customize_ads)\n",
    "    - [Merge BW and Adwords data](#merge_bw_ads)\n",
    "    \n",
    "- [References url](#url)\n",
    "    - [Open References url dataset](#open_url)\n",
    "    - [Merge References url and Top 50 references](#merge_url_top50)\n",
    "    - [Customize References url dataset](#customize_url)\n",
    "\n",
    "- [Save dataframe](#save_data)"
   ]
  },
  {
   "cell_type": "markdown",
   "metadata": {},
   "source": [
    "<a name='intro'></a>Introduction\n",
    "===\n",
    "EXPLICAR TODO Y PONER FOTO"
   ]
  },
  {
   "cell_type": "raw",
   "metadata": {},
   "source": [
    "1) VAMOS A SACAR LAS TOP 50 CON BW Y ADWORDS\n",
    "2) VAMOS A HACER MERGE CON URLS\n",
    "3) SAVE IT"
   ]
  },
  {
   "cell_type": "markdown",
   "metadata": {},
   "source": [
    "<a name='libraries'></a>Libraries\n",
    "===\n",
    "First of all, it is necessary to import the required libraries to develop all the steps correctly of this notebbook."
   ]
  },
  {
   "cell_type": "code",
   "execution_count": 3,
   "metadata": {},
   "outputs": [],
   "source": [
    "#import libraries\n",
    "import os\n",
    "import pandas as pd\n",
    "import numpy as np\n",
    "import seaborn as sns\n",
    "import matplotlib.pyplot as plt\n",
    "from datetime import datetime\n",
    "%matplotlib inline\n",
    "\n",
    "\n",
    "#import filter warnings\n",
    "import warnings\n",
    "warnings.filterwarnings('ignore')\n",
    "\n",
    "\n",
    "#display a maximum of 500 columns and rows\n",
    "pd.set_option('display.max_rows',500)\n",
    "pd.set_option('display.max_columns',500)\n",
    "\n",
    "#set directory of work\n",
    "path = '/home/miguel/my_project_python/my_project_env/tfm/shopping'\n",
    "os.chdir(path)"
   ]
  },
  {
   "cell_type": "markdown",
   "metadata": {},
   "source": [
    "<a name='top50'></a>\n",
    "# Top 50 references\n",
    "\n",
    "In this section, it is analyzed the whole enterprise inventory with the purpose of selecting **the most sold references in the last 6 months** (from 1 october 2018 to 31 march 2019).\n",
    "\n",
    "<br>This references has also to accomplish the following requirementes:   \n",
    "   - Net_Incomes > 0€ in BW\n",
    "   - At least more than 30 days with a transaction\n",
    "   - At least more than 30 days of exposition in Adwords\n",
    "   - Cost > 0€ in Adwords"
   ]
  },
  {
   "cell_type": "markdown",
   "metadata": {},
   "source": [
    "******************************************************************************************************************\n",
    "<a name='bw'></a>\n",
    "\n",
    "## BW\n",
    "\n",
    "In this section, it is loaded the transactional information from the company in order to get these data:\n",
    "   - Reference: sku id\n",
    "   - Date: date of the transaction\n",
    "   - Net_Incomes: net incomes per reference\n",
    "   - Units_sold: quantity of units sold per reference\n",
    "\n",
    "\n"
   ]
  },
  {
   "cell_type": "markdown",
   "metadata": {},
   "source": [
    "<a name='open_bw'></a> \n",
    "\n",
    "### Open BW dataset\n",
    "Firstly, it is loaded the BW data with a function"
   ]
  },
  {
   "cell_type": "code",
   "execution_count": 4,
   "metadata": {},
   "outputs": [],
   "source": [
    "def open_bw(file, sheet_name, path_file):\n",
    "    \n",
    "    #open the file xlsx    \n",
    "    df_bw = pd.read_excel(path_file + file, sheet_name)\n",
    "    \n",
    "    #rename the file columns correctly\n",
    "    df_bw = df_bw.rename(index=str, columns={'Referencia':'Reference', 'T Día natural':'Date', \n",
    "                                             'Valor neto pedidos':'Net_Incomes', \n",
    "                                             'Cantidad en unidades (pedidos)':'Units_sold'})\n",
    "    \n",
    "    #date columns to specific datetime format\n",
    "    df_bw['Date'] = pd.to_datetime(df_bw['Date'], format = '%d.%m.%Y')\n",
    "    \n",
    "    return df_bw"
   ]
  },
  {
   "cell_type": "code",
   "execution_count": 5,
   "metadata": {},
   "outputs": [],
   "source": [
    "#open the file\n",
    "df_bw = open_bw('BW.xlsx', 'BW', './data/raw/bw/')"
   ]
  },
  {
   "cell_type": "markdown",
   "metadata": {},
   "source": [
    "After that, it is checked the data:"
   ]
  },
  {
   "cell_type": "code",
   "execution_count": 6,
   "metadata": {
    "scrolled": true
   },
   "outputs": [
    {
     "data": {
      "text/html": [
       "<div>\n",
       "<style scoped>\n",
       "    .dataframe tbody tr th:only-of-type {\n",
       "        vertical-align: middle;\n",
       "    }\n",
       "\n",
       "    .dataframe tbody tr th {\n",
       "        vertical-align: top;\n",
       "    }\n",
       "\n",
       "    .dataframe thead th {\n",
       "        text-align: right;\n",
       "    }\n",
       "</style>\n",
       "<table border=\"1\" class=\"dataframe\">\n",
       "  <thead>\n",
       "    <tr style=\"text-align: right;\">\n",
       "      <th></th>\n",
       "      <th>Reference</th>\n",
       "      <th>Name</th>\n",
       "      <th>Date</th>\n",
       "      <th>Net_Incomes</th>\n",
       "      <th>Units_sold</th>\n",
       "    </tr>\n",
       "  </thead>\n",
       "  <tbody>\n",
       "    <tr>\n",
       "      <th>0</th>\n",
       "      <td>4623</td>\n",
       "      <td>ESPEJO PUERTA \"LCC\" BLANCO POLIETILENO</td>\n",
       "      <td>2017-09-11</td>\n",
       "      <td>18.93</td>\n",
       "      <td>1</td>\n",
       "    </tr>\n",
       "    <tr>\n",
       "      <th>1</th>\n",
       "      <td>4623</td>\n",
       "      <td>ESPEJO PUERTA \"LCC\" BLANCO POLIETILENO</td>\n",
       "      <td>2017-09-21</td>\n",
       "      <td>18.93</td>\n",
       "      <td>1</td>\n",
       "    </tr>\n",
       "    <tr>\n",
       "      <th>2</th>\n",
       "      <td>4623</td>\n",
       "      <td>ESPEJO PUERTA \"LCC\" BLANCO POLIETILENO</td>\n",
       "      <td>2017-10-08</td>\n",
       "      <td>16.08</td>\n",
       "      <td>1</td>\n",
       "    </tr>\n",
       "    <tr>\n",
       "      <th>3</th>\n",
       "      <td>4623</td>\n",
       "      <td>ESPEJO PUERTA \"LCC\" BLANCO POLIETILENO</td>\n",
       "      <td>2017-10-16</td>\n",
       "      <td>16.08</td>\n",
       "      <td>1</td>\n",
       "    </tr>\n",
       "    <tr>\n",
       "      <th>4</th>\n",
       "      <td>4623</td>\n",
       "      <td>ESPEJO PUERTA \"LCC\" BLANCO POLIETILENO</td>\n",
       "      <td>2017-10-21</td>\n",
       "      <td>16.08</td>\n",
       "      <td>1</td>\n",
       "    </tr>\n",
       "  </tbody>\n",
       "</table>\n",
       "</div>"
      ],
      "text/plain": [
       "   Reference                                    Name       Date  Net_Incomes  \\\n",
       "0       4623  ESPEJO PUERTA \"LCC\" BLANCO POLIETILENO 2017-09-11        18.93   \n",
       "1       4623  ESPEJO PUERTA \"LCC\" BLANCO POLIETILENO 2017-09-21        18.93   \n",
       "2       4623  ESPEJO PUERTA \"LCC\" BLANCO POLIETILENO 2017-10-08        16.08   \n",
       "3       4623  ESPEJO PUERTA \"LCC\" BLANCO POLIETILENO 2017-10-16        16.08   \n",
       "4       4623  ESPEJO PUERTA \"LCC\" BLANCO POLIETILENO 2017-10-21        16.08   \n",
       "\n",
       "   Units_sold  \n",
       "0           1  \n",
       "1           1  \n",
       "2           1  \n",
       "3           1  \n",
       "4           1  "
      ]
     },
     "execution_count": 6,
     "metadata": {},
     "output_type": "execute_result"
    }
   ],
   "source": [
    "df_bw.head(5)"
   ]
  },
  {
   "cell_type": "code",
   "execution_count": 7,
   "metadata": {},
   "outputs": [
    {
     "name": "stdout",
     "output_type": "stream",
     "text": [
      "<class 'pandas.core.frame.DataFrame'>\n",
      "Index: 37614 entries, 0 to 37613\n",
      "Data columns (total 5 columns):\n",
      "Reference      37614 non-null int64\n",
      "Name           37614 non-null object\n",
      "Date           37614 non-null datetime64[ns]\n",
      "Net_Incomes    37614 non-null float64\n",
      "Units_sold     37614 non-null int64\n",
      "dtypes: datetime64[ns](1), float64(1), int64(2), object(1)\n",
      "memory usage: 1.7+ MB\n"
     ]
    }
   ],
   "source": [
    "df_bw.info()"
   ]
  },
  {
   "cell_type": "code",
   "execution_count": 8,
   "metadata": {},
   "outputs": [
    {
     "data": {
      "text/plain": [
       "(37614, 5)"
      ]
     },
     "execution_count": 8,
     "metadata": {},
     "output_type": "execute_result"
    }
   ],
   "source": [
    "df_bw.shape"
   ]
  },
  {
   "cell_type": "markdown",
   "metadata": {},
   "source": [
    "<a name='customize_bw'></a> \n",
    "\n",
    "### Customize BW dataset\n",
    "After checking that the dataset is all right, it is necessary to filter that information by:\n",
    "    - Date: from 10.01.2018 to 31.03.2019\n",
    "    - Groupby: Reference\n",
    "    - Net Incomes: > 0€\n",
    "    - Day transactions: > 30 days"
   ]
  },
  {
   "cell_type": "code",
   "execution_count": 9,
   "metadata": {},
   "outputs": [],
   "source": [
    "#filter information from 10 oct 2018\n",
    "df_bw_filter = df_bw[df_bw['Date']>'10.01.2018']\n",
    "\n",
    "#group by Reference \n",
    "df_bw_groupby = df_bw.groupby(by='Reference').agg({'Date':'count', 'Units_sold':'sum','Net_Incomes':'sum'}).sort_values(by='Units_sold',ascending=False)\n",
    "\n",
    "#filter net incomes over a 0€ and a minimum of 30 days with a transaction\n",
    "df_bw_groupby = df_bw_groupby[(df_bw_groupby['Net_Incomes']!=0) & (df_bw_groupby['Date']>=30)]"
   ]
  },
  {
   "cell_type": "markdown",
   "metadata": {},
   "source": [
    "Check the new dataframe:"
   ]
  },
  {
   "cell_type": "code",
   "execution_count": 10,
   "metadata": {},
   "outputs": [
    {
     "data": {
      "text/html": [
       "<div>\n",
       "<style scoped>\n",
       "    .dataframe tbody tr th:only-of-type {\n",
       "        vertical-align: middle;\n",
       "    }\n",
       "\n",
       "    .dataframe tbody tr th {\n",
       "        vertical-align: top;\n",
       "    }\n",
       "\n",
       "    .dataframe thead th {\n",
       "        text-align: right;\n",
       "    }\n",
       "</style>\n",
       "<table border=\"1\" class=\"dataframe\">\n",
       "  <thead>\n",
       "    <tr style=\"text-align: right;\">\n",
       "      <th></th>\n",
       "      <th>Date</th>\n",
       "      <th>Units_sold</th>\n",
       "      <th>Net_Incomes</th>\n",
       "    </tr>\n",
       "    <tr>\n",
       "      <th>Reference</th>\n",
       "      <th></th>\n",
       "      <th></th>\n",
       "      <th></th>\n",
       "    </tr>\n",
       "  </thead>\n",
       "  <tbody>\n",
       "    <tr>\n",
       "      <th>8141600</th>\n",
       "      <td>55</td>\n",
       "      <td>416</td>\n",
       "      <td>8533.68</td>\n",
       "    </tr>\n",
       "    <tr>\n",
       "      <th>82462</th>\n",
       "      <td>38</td>\n",
       "      <td>363</td>\n",
       "      <td>11208.61</td>\n",
       "    </tr>\n",
       "    <tr>\n",
       "      <th>82035</th>\n",
       "      <td>82</td>\n",
       "      <td>336</td>\n",
       "      <td>8336.26</td>\n",
       "    </tr>\n",
       "    <tr>\n",
       "      <th>61119</th>\n",
       "      <td>172</td>\n",
       "      <td>263</td>\n",
       "      <td>11613.23</td>\n",
       "    </tr>\n",
       "    <tr>\n",
       "      <th>95203</th>\n",
       "      <td>46</td>\n",
       "      <td>182</td>\n",
       "      <td>2097.29</td>\n",
       "    </tr>\n",
       "  </tbody>\n",
       "</table>\n",
       "</div>"
      ],
      "text/plain": [
       "           Date  Units_sold  Net_Incomes\n",
       "Reference                               \n",
       "8141600      55         416      8533.68\n",
       "82462        38         363     11208.61\n",
       "82035        82         336      8336.26\n",
       "61119       172         263     11613.23\n",
       "95203        46         182      2097.29"
      ]
     },
     "execution_count": 10,
     "metadata": {},
     "output_type": "execute_result"
    }
   ],
   "source": [
    "df_bw_groupby.head(5)"
   ]
  },
  {
   "cell_type": "code",
   "execution_count": 11,
   "metadata": {},
   "outputs": [
    {
     "name": "stdout",
     "output_type": "stream",
     "text": [
      "<class 'pandas.core.frame.DataFrame'>\n",
      "Int64Index: 137 entries, 8141600 to 122541\n",
      "Data columns (total 3 columns):\n",
      "Date           137 non-null int64\n",
      "Units_sold     137 non-null int64\n",
      "Net_Incomes    137 non-null float64\n",
      "dtypes: float64(1), int64(2)\n",
      "memory usage: 4.3 KB\n"
     ]
    }
   ],
   "source": [
    "df_bw_groupby.info()"
   ]
  },
  {
   "cell_type": "code",
   "execution_count": 12,
   "metadata": {},
   "outputs": [
    {
     "data": {
      "text/plain": [
       "(137, 3)"
      ]
     },
     "execution_count": 12,
     "metadata": {},
     "output_type": "execute_result"
    }
   ],
   "source": [
    "df_bw_groupby.shape"
   ]
  },
  {
   "cell_type": "markdown",
   "metadata": {},
   "source": [
    "******************************************************************************************************************\n",
    "<a name='adwords'></a> \n",
    "## Adwords\n",
    "After having selected the suitable transactional information from BW data, it is necessary to load Adwords dataset in order to filter the information by the last two requirements:\n",
    "   - At least more than 30 days of exposition in Adwords\n",
    "   - Cost > 0€ in Adwords"
   ]
  },
  {
   "cell_type": "markdown",
   "metadata": {},
   "source": [
    "<a name='open_ads'></a> \n",
    "### Open Adwords dataset\n",
    "Open and check the dataset for this period"
   ]
  },
  {
   "cell_type": "code",
   "execution_count": 14,
   "metadata": {},
   "outputs": [],
   "source": [
    "#establish directory\n",
    "path_ads_raw = './data/raw/adwords/'\n",
    "\n",
    "#open adwords data\n",
    "df_ads_2018_19 = pd.read_csv(path_ads_raw + 'TFM_Datos_2018_19.csv', sep=';')"
   ]
  },
  {
   "cell_type": "code",
   "execution_count": 15,
   "metadata": {},
   "outputs": [
    {
     "data": {
      "text/html": [
       "<div>\n",
       "<style scoped>\n",
       "    .dataframe tbody tr th:only-of-type {\n",
       "        vertical-align: middle;\n",
       "    }\n",
       "\n",
       "    .dataframe tbody tr th {\n",
       "        vertical-align: top;\n",
       "    }\n",
       "\n",
       "    .dataframe thead th {\n",
       "        text-align: right;\n",
       "    }\n",
       "</style>\n",
       "<table border=\"1\" class=\"dataframe\">\n",
       "  <thead>\n",
       "    <tr style=\"text-align: right;\">\n",
       "      <th></th>\n",
       "      <th>ID de producto</th>\n",
       "      <th>Campaña</th>\n",
       "      <th>ID de la campaña</th>\n",
       "      <th>Tipo de producto (primer nivel)</th>\n",
       "      <th>Tipo de producto (segundo nivel)</th>\n",
       "      <th>Día</th>\n",
       "      <th>Etiqueta personalizada 1</th>\n",
       "      <th>CPC máximo predeterminado del grupo de anuncios</th>\n",
       "      <th>Moneda</th>\n",
       "      <th>Impresiones</th>\n",
       "      <th>Clics</th>\n",
       "      <th>CTR</th>\n",
       "      <th>CPC medio</th>\n",
       "      <th>Coste</th>\n",
       "      <th>Conversiones</th>\n",
       "      <th>Todas las conversiones</th>\n",
       "      <th>Valor de conv.</th>\n",
       "      <th>Valor de todas las conversiones</th>\n",
       "      <th>Valor conv./coste</th>\n",
       "    </tr>\n",
       "  </thead>\n",
       "  <tbody>\n",
       "    <tr>\n",
       "      <th>0</th>\n",
       "      <td>123624</td>\n",
       "      <td>Shop_Cocina y comedor_N1_Y18_W37</td>\n",
       "      <td>1559515409</td>\n",
       "      <td>cocina y comedor</td>\n",
       "      <td>tazas de café y mugs</td>\n",
       "      <td>12/10/2018</td>\n",
       "      <td>10</td>\n",
       "      <td>0,15</td>\n",
       "      <td>EUR</td>\n",
       "      <td>1</td>\n",
       "      <td>0</td>\n",
       "      <td>0,00 %</td>\n",
       "      <td>0,00</td>\n",
       "      <td>0,00</td>\n",
       "      <td>0,00</td>\n",
       "      <td>0,00</td>\n",
       "      <td>0,00</td>\n",
       "      <td>0,00</td>\n",
       "      <td>0,00</td>\n",
       "    </tr>\n",
       "    <tr>\n",
       "      <th>1</th>\n",
       "      <td>107553</td>\n",
       "      <td>Shop_Smart_Lámparas_Y18_W45</td>\n",
       "      <td>1623248621</td>\n",
       "      <td>lámparas e iluminación</td>\n",
       "      <td>lámparas de techo</td>\n",
       "      <td>31/01/2019</td>\n",
       "      <td>40</td>\n",
       "      <td>0,01</td>\n",
       "      <td>EUR</td>\n",
       "      <td>2</td>\n",
       "      <td>0</td>\n",
       "      <td>0,00 %</td>\n",
       "      <td>0,00</td>\n",
       "      <td>0,00</td>\n",
       "      <td>0,00</td>\n",
       "      <td>0,00</td>\n",
       "      <td>0,00</td>\n",
       "      <td>0,00</td>\n",
       "      <td>0,00</td>\n",
       "    </tr>\n",
       "    <tr>\n",
       "      <th>2</th>\n",
       "      <td>87810</td>\n",
       "      <td>Shop_Navidad_Estrellas de navidad_Y18_W12</td>\n",
       "      <td>1323457572</td>\n",
       "      <td>decoración de navidad</td>\n",
       "      <td>estrellas de navidad</td>\n",
       "      <td>17/10/2018</td>\n",
       "      <td>20</td>\n",
       "      <td>0,2</td>\n",
       "      <td>EUR</td>\n",
       "      <td>1</td>\n",
       "      <td>0</td>\n",
       "      <td>0,00 %</td>\n",
       "      <td>0,00</td>\n",
       "      <td>0,00</td>\n",
       "      <td>0,00</td>\n",
       "      <td>0,00</td>\n",
       "      <td>0,00</td>\n",
       "      <td>0,00</td>\n",
       "      <td>0,00</td>\n",
       "    </tr>\n",
       "    <tr>\n",
       "      <th>3</th>\n",
       "      <td>105114</td>\n",
       "      <td>Shop_Decoración_N1_Y18_W37</td>\n",
       "      <td>1559890739</td>\n",
       "      <td>decoración para tu casa</td>\n",
       "      <td>figuras decorativas</td>\n",
       "      <td>25/10/2018</td>\n",
       "      <td>30</td>\n",
       "      <td>0,15</td>\n",
       "      <td>EUR</td>\n",
       "      <td>4</td>\n",
       "      <td>0</td>\n",
       "      <td>0,00 %</td>\n",
       "      <td>0,00</td>\n",
       "      <td>0,00</td>\n",
       "      <td>0,00</td>\n",
       "      <td>0,00</td>\n",
       "      <td>0,00</td>\n",
       "      <td>0,00</td>\n",
       "      <td>0,00</td>\n",
       "    </tr>\n",
       "    <tr>\n",
       "      <th>4</th>\n",
       "      <td>111017</td>\n",
       "      <td>Shop_Navidad_Portavelas navideños_Y18_W12</td>\n",
       "      <td>1323682318</td>\n",
       "      <td>decoración de navidad</td>\n",
       "      <td>portavelas navideños</td>\n",
       "      <td>21/10/2018</td>\n",
       "      <td>20</td>\n",
       "      <td>0,2</td>\n",
       "      <td>EUR</td>\n",
       "      <td>8</td>\n",
       "      <td>0</td>\n",
       "      <td>0,00 %</td>\n",
       "      <td>0,00</td>\n",
       "      <td>0,00</td>\n",
       "      <td>0,00</td>\n",
       "      <td>0,00</td>\n",
       "      <td>0,00</td>\n",
       "      <td>0,00</td>\n",
       "      <td>0,00</td>\n",
       "    </tr>\n",
       "  </tbody>\n",
       "</table>\n",
       "</div>"
      ],
      "text/plain": [
       "   ID de producto                                    Campaña  \\\n",
       "0          123624           Shop_Cocina y comedor_N1_Y18_W37   \n",
       "1          107553                Shop_Smart_Lámparas_Y18_W45   \n",
       "2           87810  Shop_Navidad_Estrellas de navidad_Y18_W12   \n",
       "3          105114                 Shop_Decoración_N1_Y18_W37   \n",
       "4          111017  Shop_Navidad_Portavelas navideños_Y18_W12   \n",
       "\n",
       "   ID de la campaña Tipo de producto (primer nivel)  \\\n",
       "0        1559515409                cocina y comedor   \n",
       "1        1623248621          lámparas e iluminación   \n",
       "2        1323457572           decoración de navidad   \n",
       "3        1559890739         decoración para tu casa   \n",
       "4        1323682318           decoración de navidad   \n",
       "\n",
       "  Tipo de producto (segundo nivel)         Día Etiqueta personalizada 1  \\\n",
       "0             tazas de café y mugs  12/10/2018                       10   \n",
       "1                lámparas de techo  31/01/2019                       40   \n",
       "2             estrellas de navidad  17/10/2018                       20   \n",
       "3              figuras decorativas  25/10/2018                       30   \n",
       "4             portavelas navideños  21/10/2018                       20   \n",
       "\n",
       "  CPC máximo predeterminado del grupo de anuncios Moneda  Impresiones  Clics  \\\n",
       "0                                            0,15    EUR            1      0   \n",
       "1                                            0,01    EUR            2      0   \n",
       "2                                             0,2    EUR            1      0   \n",
       "3                                            0,15    EUR            4      0   \n",
       "4                                             0,2    EUR            8      0   \n",
       "\n",
       "      CTR CPC medio Coste Conversiones Todas las conversiones Valor de conv.  \\\n",
       "0  0,00 %      0,00  0,00         0,00                   0,00           0,00   \n",
       "1  0,00 %      0,00  0,00         0,00                   0,00           0,00   \n",
       "2  0,00 %      0,00  0,00         0,00                   0,00           0,00   \n",
       "3  0,00 %      0,00  0,00         0,00                   0,00           0,00   \n",
       "4  0,00 %      0,00  0,00         0,00                   0,00           0,00   \n",
       "\n",
       "  Valor de todas las conversiones Valor conv./coste  \n",
       "0                            0,00              0,00  \n",
       "1                            0,00              0,00  \n",
       "2                            0,00              0,00  \n",
       "3                            0,00              0,00  \n",
       "4                            0,00              0,00  "
      ]
     },
     "execution_count": 15,
     "metadata": {},
     "output_type": "execute_result"
    }
   ],
   "source": [
    "df_ads_2018_19.head(5)"
   ]
  },
  {
   "cell_type": "code",
   "execution_count": 16,
   "metadata": {},
   "outputs": [
    {
     "data": {
      "text/plain": [
       "(447539, 19)"
      ]
     },
     "execution_count": 16,
     "metadata": {},
     "output_type": "execute_result"
    }
   ],
   "source": [
    "df_ads_2018_19.shape"
   ]
  },
  {
   "cell_type": "code",
   "execution_count": 17,
   "metadata": {},
   "outputs": [
    {
     "name": "stdout",
     "output_type": "stream",
     "text": [
      "<class 'pandas.core.frame.DataFrame'>\n",
      "RangeIndex: 447539 entries, 0 to 447538\n",
      "Data columns (total 19 columns):\n",
      "ID de producto                                     447539 non-null int64\n",
      "Campaña                                            447539 non-null object\n",
      "ID de la campaña                                   447539 non-null int64\n",
      "Tipo de producto (primer nivel)                    447539 non-null object\n",
      "Tipo de producto (segundo nivel)                   447539 non-null object\n",
      "Día                                                447539 non-null object\n",
      "Etiqueta personalizada 1                           447539 non-null object\n",
      "CPC máximo predeterminado del grupo de anuncios    447539 non-null object\n",
      "Moneda                                             447539 non-null object\n",
      "Impresiones                                        447539 non-null int64\n",
      "Clics                                              447539 non-null int64\n",
      "CTR                                                447539 non-null object\n",
      "CPC medio                                          447539 non-null object\n",
      "Coste                                              447539 non-null object\n",
      "Conversiones                                       447539 non-null object\n",
      "Todas las conversiones                             447539 non-null object\n",
      "Valor de conv.                                     447539 non-null object\n",
      "Valor de todas las conversiones                    447539 non-null object\n",
      "Valor conv./coste                                  447539 non-null object\n",
      "dtypes: int64(4), object(15)\n",
      "memory usage: 64.9+ MB\n"
     ]
    }
   ],
   "source": [
    "df_ads_2018_19.info()"
   ]
  },
  {
   "cell_type": "markdown",
   "metadata": {},
   "source": [
    "After checking the file, let making data wrangling and check again the data"
   ]
  },
  {
   "cell_type": "code",
   "execution_count": 18,
   "metadata": {},
   "outputs": [],
   "source": [
    "#select columns of interest\n",
    "columns_interest_adwords = ['ID de producto', 'Día', 'Coste', 'Impresiones']\n",
    "df_ads = df_ads_2018_19[columns_interest_adwords]\n",
    "\n",
    "#rename columns\n",
    "df_ads = df_ads.rename(index=str, columns={'ID de producto':'Reference', 'Día':'Date', 'Coste':'Cost', 'Impresiones':'Impresions'})\n",
    "\n",
    "#string to datetime and float\n",
    "df_ads['Date'] = pd.to_datetime(df_ads['Date'], format = '%d/%m/%Y')\n",
    "df_ads['Cost'] = df_ads['Cost'].str.replace(',','.').astype(float)\n",
    "\n",
    "#groupby reference\n",
    "df_ads_groupby = df_ads.groupby(by='Reference').agg({'Date':'count', 'Cost':'sum', 'Impresions':'sum'}).sort_values(by='Cost',ascending=False)"
   ]
  },
  {
   "cell_type": "code",
   "execution_count": 19,
   "metadata": {},
   "outputs": [
    {
     "data": {
      "text/html": [
       "<div>\n",
       "<style scoped>\n",
       "    .dataframe tbody tr th:only-of-type {\n",
       "        vertical-align: middle;\n",
       "    }\n",
       "\n",
       "    .dataframe tbody tr th {\n",
       "        vertical-align: top;\n",
       "    }\n",
       "\n",
       "    .dataframe thead th {\n",
       "        text-align: right;\n",
       "    }\n",
       "</style>\n",
       "<table border=\"1\" class=\"dataframe\">\n",
       "  <thead>\n",
       "    <tr style=\"text-align: right;\">\n",
       "      <th></th>\n",
       "      <th>Date</th>\n",
       "      <th>Cost</th>\n",
       "      <th>Impresions</th>\n",
       "    </tr>\n",
       "    <tr>\n",
       "      <th>Reference</th>\n",
       "      <th></th>\n",
       "      <th></th>\n",
       "      <th></th>\n",
       "    </tr>\n",
       "  </thead>\n",
       "  <tbody>\n",
       "    <tr>\n",
       "      <th>64534</th>\n",
       "      <td>182</td>\n",
       "      <td>2701.53</td>\n",
       "      <td>1165107</td>\n",
       "    </tr>\n",
       "    <tr>\n",
       "      <th>123838</th>\n",
       "      <td>132</td>\n",
       "      <td>1803.89</td>\n",
       "      <td>398687</td>\n",
       "    </tr>\n",
       "    <tr>\n",
       "      <th>98064</th>\n",
       "      <td>112</td>\n",
       "      <td>1427.50</td>\n",
       "      <td>482281</td>\n",
       "    </tr>\n",
       "    <tr>\n",
       "      <th>103808</th>\n",
       "      <td>174</td>\n",
       "      <td>1370.33</td>\n",
       "      <td>521766</td>\n",
       "    </tr>\n",
       "    <tr>\n",
       "      <th>64531</th>\n",
       "      <td>185</td>\n",
       "      <td>1365.16</td>\n",
       "      <td>562220</td>\n",
       "    </tr>\n",
       "  </tbody>\n",
       "</table>\n",
       "</div>"
      ],
      "text/plain": [
       "           Date     Cost  Impresions\n",
       "Reference                           \n",
       "64534       182  2701.53     1165107\n",
       "123838      132  1803.89      398687\n",
       "98064       112  1427.50      482281\n",
       "103808      174  1370.33      521766\n",
       "64531       185  1365.16      562220"
      ]
     },
     "execution_count": 19,
     "metadata": {},
     "output_type": "execute_result"
    }
   ],
   "source": [
    "df_ads_groupby.head(5)"
   ]
  },
  {
   "cell_type": "code",
   "execution_count": 20,
   "metadata": {},
   "outputs": [
    {
     "name": "stdout",
     "output_type": "stream",
     "text": [
      "<class 'pandas.core.frame.DataFrame'>\n",
      "Int64Index: 9248 entries, 64534 to 105812\n",
      "Data columns (total 3 columns):\n",
      "Date          9248 non-null int64\n",
      "Cost          9248 non-null float64\n",
      "Impresions    9248 non-null int64\n",
      "dtypes: float64(1), int64(2)\n",
      "memory usage: 289.0 KB\n"
     ]
    }
   ],
   "source": [
    "df_ads_groupby.info()"
   ]
  },
  {
   "cell_type": "markdown",
   "metadata": {},
   "source": [
    "<a name='customize_ads'></a> \n",
    "### Customize Ads dataset\n",
    "\n",
    "\n",
    "After this last step, the data is filtered:"
   ]
  },
  {
   "cell_type": "code",
   "execution_count": 21,
   "metadata": {},
   "outputs": [],
   "source": [
    "df_ads_groupby = df_ads_groupby[(df_ads_groupby['Cost']!=0) & (df_ads_groupby['Date']>=30)]"
   ]
  },
  {
   "cell_type": "markdown",
   "metadata": {},
   "source": [
    "******************************************************************************************************************\n",
    "<a name='merge_bw_ads'></a> \n",
    "\n",
    "## Merge BW and Adwords data\n",
    "In this section, it is merged and clean in a proper way the information got it previosly."
   ]
  },
  {
   "cell_type": "code",
   "execution_count": 22,
   "metadata": {},
   "outputs": [],
   "source": [
    "#merge data from both dataframes\n",
    "merge_bw_ads = df_bw_groupby.merge(df_ads_groupby,\n",
    "           how='inner',\n",
    "           left_on=['Reference'],\n",
    "           right_on=['Reference'])\n",
    "\n",
    "#reset index\n",
    "merge_bw_ads = merge_bw_ads.reset_index()\n",
    "\n",
    "#sort values by Units sold and show the top 50\n",
    "merge_bw_ads = merge_bw_ads.sort_values(by=['Units_sold'], ascending=False).head(50)\n",
    "\n",
    "#select just reference column\n",
    "df_top_50 = merge_bw_ads[['Reference']]"
   ]
  },
  {
   "cell_type": "markdown",
   "metadata": {},
   "source": [
    "**This is the final top 50 references selected to analyze in this study.**"
   ]
  },
  {
   "cell_type": "code",
   "execution_count": 23,
   "metadata": {},
   "outputs": [
    {
     "data": {
      "text/html": [
       "<div>\n",
       "<style scoped>\n",
       "    .dataframe tbody tr th:only-of-type {\n",
       "        vertical-align: middle;\n",
       "    }\n",
       "\n",
       "    .dataframe tbody tr th {\n",
       "        vertical-align: top;\n",
       "    }\n",
       "\n",
       "    .dataframe thead th {\n",
       "        text-align: right;\n",
       "    }\n",
       "</style>\n",
       "<table border=\"1\" class=\"dataframe\">\n",
       "  <thead>\n",
       "    <tr style=\"text-align: right;\">\n",
       "      <th></th>\n",
       "      <th>Reference</th>\n",
       "    </tr>\n",
       "  </thead>\n",
       "  <tbody>\n",
       "    <tr>\n",
       "      <th>0</th>\n",
       "      <td>8141600</td>\n",
       "    </tr>\n",
       "    <tr>\n",
       "      <th>1</th>\n",
       "      <td>82462</td>\n",
       "    </tr>\n",
       "    <tr>\n",
       "      <th>2</th>\n",
       "      <td>82466</td>\n",
       "    </tr>\n",
       "    <tr>\n",
       "      <th>3</th>\n",
       "      <td>8146000</td>\n",
       "    </tr>\n",
       "    <tr>\n",
       "      <th>4</th>\n",
       "      <td>122539</td>\n",
       "    </tr>\n",
       "    <tr>\n",
       "      <th>5</th>\n",
       "      <td>123838</td>\n",
       "    </tr>\n",
       "    <tr>\n",
       "      <th>6</th>\n",
       "      <td>61096</td>\n",
       "    </tr>\n",
       "    <tr>\n",
       "      <th>7</th>\n",
       "      <td>89051</td>\n",
       "    </tr>\n",
       "    <tr>\n",
       "      <th>8</th>\n",
       "      <td>61731</td>\n",
       "    </tr>\n",
       "    <tr>\n",
       "      <th>9</th>\n",
       "      <td>48905</td>\n",
       "    </tr>\n",
       "    <tr>\n",
       "      <th>10</th>\n",
       "      <td>89062</td>\n",
       "    </tr>\n",
       "    <tr>\n",
       "      <th>11</th>\n",
       "      <td>101318</td>\n",
       "    </tr>\n",
       "    <tr>\n",
       "      <th>12</th>\n",
       "      <td>122540</td>\n",
       "    </tr>\n",
       "    <tr>\n",
       "      <th>13</th>\n",
       "      <td>29300</td>\n",
       "    </tr>\n",
       "    <tr>\n",
       "      <th>14</th>\n",
       "      <td>123482</td>\n",
       "    </tr>\n",
       "    <tr>\n",
       "      <th>15</th>\n",
       "      <td>61098</td>\n",
       "    </tr>\n",
       "    <tr>\n",
       "      <th>16</th>\n",
       "      <td>51136</td>\n",
       "    </tr>\n",
       "    <tr>\n",
       "      <th>17</th>\n",
       "      <td>64530</td>\n",
       "    </tr>\n",
       "    <tr>\n",
       "      <th>18</th>\n",
       "      <td>48329</td>\n",
       "    </tr>\n",
       "    <tr>\n",
       "      <th>19</th>\n",
       "      <td>61514</td>\n",
       "    </tr>\n",
       "    <tr>\n",
       "      <th>20</th>\n",
       "      <td>90953</td>\n",
       "    </tr>\n",
       "    <tr>\n",
       "      <th>21</th>\n",
       "      <td>89022</td>\n",
       "    </tr>\n",
       "    <tr>\n",
       "      <th>22</th>\n",
       "      <td>93267</td>\n",
       "    </tr>\n",
       "    <tr>\n",
       "      <th>23</th>\n",
       "      <td>122334</td>\n",
       "    </tr>\n",
       "    <tr>\n",
       "      <th>24</th>\n",
       "      <td>64531</td>\n",
       "    </tr>\n",
       "    <tr>\n",
       "      <th>25</th>\n",
       "      <td>51148</td>\n",
       "    </tr>\n",
       "    <tr>\n",
       "      <th>26</th>\n",
       "      <td>48624</td>\n",
       "    </tr>\n",
       "    <tr>\n",
       "      <th>27</th>\n",
       "      <td>90954</td>\n",
       "    </tr>\n",
       "    <tr>\n",
       "      <th>28</th>\n",
       "      <td>38697</td>\n",
       "    </tr>\n",
       "    <tr>\n",
       "      <th>29</th>\n",
       "      <td>122432</td>\n",
       "    </tr>\n",
       "    <tr>\n",
       "      <th>31</th>\n",
       "      <td>64532</td>\n",
       "    </tr>\n",
       "    <tr>\n",
       "      <th>30</th>\n",
       "      <td>51140</td>\n",
       "    </tr>\n",
       "    <tr>\n",
       "      <th>32</th>\n",
       "      <td>61118</td>\n",
       "    </tr>\n",
       "    <tr>\n",
       "      <th>33</th>\n",
       "      <td>93308</td>\n",
       "    </tr>\n",
       "    <tr>\n",
       "      <th>34</th>\n",
       "      <td>61397</td>\n",
       "    </tr>\n",
       "    <tr>\n",
       "      <th>35</th>\n",
       "      <td>122335</td>\n",
       "    </tr>\n",
       "    <tr>\n",
       "      <th>36</th>\n",
       "      <td>49809</td>\n",
       "    </tr>\n",
       "    <tr>\n",
       "      <th>37</th>\n",
       "      <td>103076</td>\n",
       "    </tr>\n",
       "    <tr>\n",
       "      <th>38</th>\n",
       "      <td>30655</td>\n",
       "    </tr>\n",
       "    <tr>\n",
       "      <th>39</th>\n",
       "      <td>123760</td>\n",
       "    </tr>\n",
       "    <tr>\n",
       "      <th>40</th>\n",
       "      <td>48841</td>\n",
       "    </tr>\n",
       "    <tr>\n",
       "      <th>41</th>\n",
       "      <td>122532</td>\n",
       "    </tr>\n",
       "    <tr>\n",
       "      <th>42</th>\n",
       "      <td>61776</td>\n",
       "    </tr>\n",
       "    <tr>\n",
       "      <th>44</th>\n",
       "      <td>64534</td>\n",
       "    </tr>\n",
       "    <tr>\n",
       "      <th>43</th>\n",
       "      <td>51149</td>\n",
       "    </tr>\n",
       "    <tr>\n",
       "      <th>45</th>\n",
       "      <td>89040</td>\n",
       "    </tr>\n",
       "    <tr>\n",
       "      <th>46</th>\n",
       "      <td>101981</td>\n",
       "    </tr>\n",
       "    <tr>\n",
       "      <th>47</th>\n",
       "      <td>122331</td>\n",
       "    </tr>\n",
       "    <tr>\n",
       "      <th>48</th>\n",
       "      <td>123839</td>\n",
       "    </tr>\n",
       "    <tr>\n",
       "      <th>49</th>\n",
       "      <td>49918</td>\n",
       "    </tr>\n",
       "  </tbody>\n",
       "</table>\n",
       "</div>"
      ],
      "text/plain": [
       "    Reference\n",
       "0     8141600\n",
       "1       82462\n",
       "2       82466\n",
       "3     8146000\n",
       "4      122539\n",
       "5      123838\n",
       "6       61096\n",
       "7       89051\n",
       "8       61731\n",
       "9       48905\n",
       "10      89062\n",
       "11     101318\n",
       "12     122540\n",
       "13      29300\n",
       "14     123482\n",
       "15      61098\n",
       "16      51136\n",
       "17      64530\n",
       "18      48329\n",
       "19      61514\n",
       "20      90953\n",
       "21      89022\n",
       "22      93267\n",
       "23     122334\n",
       "24      64531\n",
       "25      51148\n",
       "26      48624\n",
       "27      90954\n",
       "28      38697\n",
       "29     122432\n",
       "31      64532\n",
       "30      51140\n",
       "32      61118\n",
       "33      93308\n",
       "34      61397\n",
       "35     122335\n",
       "36      49809\n",
       "37     103076\n",
       "38      30655\n",
       "39     123760\n",
       "40      48841\n",
       "41     122532\n",
       "42      61776\n",
       "44      64534\n",
       "43      51149\n",
       "45      89040\n",
       "46     101981\n",
       "47     122331\n",
       "48     123839\n",
       "49      49918"
      ]
     },
     "execution_count": 23,
     "metadata": {},
     "output_type": "execute_result"
    }
   ],
   "source": [
    "df_top_50"
   ]
  },
  {
   "cell_type": "markdown",
   "metadata": {},
   "source": [
    "<a name='url'></a> \n",
    "\n",
    "# Reference url\n",
    "Next step, it is going to be joined the top 50 references gathered with their related url."
   ]
  },
  {
   "cell_type": "markdown",
   "metadata": {},
   "source": [
    "<a name='open_url'></a> \n",
    "\n",
    "## Open References url dataset\n",
    "Open and check the url dataset"
   ]
  },
  {
   "cell_type": "code",
   "execution_count": 26,
   "metadata": {},
   "outputs": [
    {
     "data": {
      "text/plain": [
       "'/home/miguel/my_project_python/my_project_env/tfm/shopping'"
      ]
     },
     "execution_count": 26,
     "metadata": {},
     "output_type": "execute_result"
    }
   ],
   "source": [
    "pwd"
   ]
  },
  {
   "cell_type": "code",
   "execution_count": 27,
   "metadata": {},
   "outputs": [],
   "source": [
    "#select path\n",
    "path_url_raw = './data/raw/url/'\n",
    "\n",
    "#open 'reference url' dataset\n",
    "df_url = pd.read_excel(path_url_raw + 'references_url.xlsx', sheet_name='URL')"
   ]
  },
  {
   "cell_type": "code",
   "execution_count": 28,
   "metadata": {},
   "outputs": [
    {
     "data": {
      "text/html": [
       "<div>\n",
       "<style scoped>\n",
       "    .dataframe tbody tr th:only-of-type {\n",
       "        vertical-align: middle;\n",
       "    }\n",
       "\n",
       "    .dataframe tbody tr th {\n",
       "        vertical-align: top;\n",
       "    }\n",
       "\n",
       "    .dataframe thead th {\n",
       "        text-align: right;\n",
       "    }\n",
       "</style>\n",
       "<table border=\"1\" class=\"dataframe\">\n",
       "  <thead>\n",
       "    <tr style=\"text-align: right;\">\n",
       "      <th></th>\n",
       "      <th>sku</th>\n",
       "      <th>URL</th>\n",
       "    </tr>\n",
       "  </thead>\n",
       "  <tbody>\n",
       "    <tr>\n",
       "      <th>0</th>\n",
       "      <td>1540</td>\n",
       "      <td>/figura-zapato-plateado-resina-decoracion-10-5...</td>\n",
       "    </tr>\n",
       "    <tr>\n",
       "      <th>1</th>\n",
       "      <td>1541</td>\n",
       "      <td>/figura-zapato-plateado-resina-decoracion-15-5...</td>\n",
       "    </tr>\n",
       "    <tr>\n",
       "      <th>2</th>\n",
       "      <td>1542</td>\n",
       "      <td>/figura-zapato-clasico-plateado-resina-decorac...</td>\n",
       "    </tr>\n",
       "    <tr>\n",
       "      <th>3</th>\n",
       "      <td>1544</td>\n",
       "      <td>/figura-zapato-plateado-resina-decoracion-12-x...</td>\n",
       "    </tr>\n",
       "    <tr>\n",
       "      <th>4</th>\n",
       "      <td>1547</td>\n",
       "      <td>/figura-zapato-clasico-plateado-resina-decorac...</td>\n",
       "    </tr>\n",
       "  </tbody>\n",
       "</table>\n",
       "</div>"
      ],
      "text/plain": [
       "    sku                                                URL\n",
       "0  1540  /figura-zapato-plateado-resina-decoracion-10-5...\n",
       "1  1541  /figura-zapato-plateado-resina-decoracion-15-5...\n",
       "2  1542  /figura-zapato-clasico-plateado-resina-decorac...\n",
       "3  1544  /figura-zapato-plateado-resina-decoracion-12-x...\n",
       "4  1547  /figura-zapato-clasico-plateado-resina-decorac..."
      ]
     },
     "execution_count": 28,
     "metadata": {},
     "output_type": "execute_result"
    }
   ],
   "source": [
    "df_url.head(5)"
   ]
  },
  {
   "cell_type": "code",
   "execution_count": 29,
   "metadata": {},
   "outputs": [
    {
     "name": "stdout",
     "output_type": "stream",
     "text": [
      "<class 'pandas.core.frame.DataFrame'>\n",
      "RangeIndex: 30583 entries, 0 to 30582\n",
      "Data columns (total 2 columns):\n",
      "sku    30583 non-null object\n",
      "URL    30583 non-null object\n",
      "dtypes: object(2)\n",
      "memory usage: 477.9+ KB\n"
     ]
    }
   ],
   "source": [
    "df_url.info()"
   ]
  },
  {
   "cell_type": "code",
   "execution_count": 30,
   "metadata": {},
   "outputs": [
    {
     "data": {
      "text/plain": [
       "(30583, 2)"
      ]
     },
     "execution_count": 30,
     "metadata": {},
     "output_type": "execute_result"
    }
   ],
   "source": [
    "df_url.shape"
   ]
  },
  {
   "cell_type": "markdown",
   "metadata": {},
   "source": [
    "<a name='merge_url_top50'></a> \n",
    "## Merge References url and Top 50 references\n",
    "It is merged the url dataframe with the top 50 references dataframe"
   ]
  },
  {
   "cell_type": "code",
   "execution_count": 31,
   "metadata": {},
   "outputs": [],
   "source": [
    "#merge data\n",
    "merge_url = df_url.merge(df_top_50,\n",
    "           how='inner',\n",
    "           left_on=['sku'],\n",
    "           right_on=['Reference'])\n",
    "\n",
    "#select column of interest\n",
    "columns_interest = ['Reference', 'URL']\n",
    "merge_url = merge_url[columns_interest]"
   ]
  },
  {
   "cell_type": "code",
   "execution_count": 32,
   "metadata": {},
   "outputs": [
    {
     "data": {
      "text/html": [
       "<div>\n",
       "<style scoped>\n",
       "    .dataframe tbody tr th:only-of-type {\n",
       "        vertical-align: middle;\n",
       "    }\n",
       "\n",
       "    .dataframe tbody tr th {\n",
       "        vertical-align: top;\n",
       "    }\n",
       "\n",
       "    .dataframe thead th {\n",
       "        text-align: right;\n",
       "    }\n",
       "</style>\n",
       "<table border=\"1\" class=\"dataframe\">\n",
       "  <thead>\n",
       "    <tr style=\"text-align: right;\">\n",
       "      <th></th>\n",
       "      <th>Reference</th>\n",
       "      <th>URL</th>\n",
       "    </tr>\n",
       "  </thead>\n",
       "  <tbody>\n",
       "    <tr>\n",
       "      <th>0</th>\n",
       "      <td>122532</td>\n",
       "      <td>/espejo-pie-nordico-blanco-plastico-dormitorio...</td>\n",
       "    </tr>\n",
       "    <tr>\n",
       "      <th>1</th>\n",
       "      <td>51148</td>\n",
       "      <td>/consola-3-cajones-y-4-puertas-oriental-rojo-m...</td>\n",
       "    </tr>\n",
       "    <tr>\n",
       "      <th>2</th>\n",
       "      <td>51149</td>\n",
       "      <td>/consola-6-cajones-y-2-puertas-oriental-rojo-m...</td>\n",
       "    </tr>\n",
       "    <tr>\n",
       "      <th>3</th>\n",
       "      <td>51136</td>\n",
       "      <td>/consola-3-cajones-y-4-puertas-oriental-negro-...</td>\n",
       "    </tr>\n",
       "    <tr>\n",
       "      <th>4</th>\n",
       "      <td>51140</td>\n",
       "      <td>/mesilla-de-noche-1-cajon-y-2-puertas-oriental...</td>\n",
       "    </tr>\n",
       "  </tbody>\n",
       "</table>\n",
       "</div>"
      ],
      "text/plain": [
       "   Reference                                                URL\n",
       "0     122532  /espejo-pie-nordico-blanco-plastico-dormitorio...\n",
       "1      51148  /consola-3-cajones-y-4-puertas-oriental-rojo-m...\n",
       "2      51149  /consola-6-cajones-y-2-puertas-oriental-rojo-m...\n",
       "3      51136  /consola-3-cajones-y-4-puertas-oriental-negro-...\n",
       "4      51140  /mesilla-de-noche-1-cajon-y-2-puertas-oriental..."
      ]
     },
     "execution_count": 32,
     "metadata": {},
     "output_type": "execute_result"
    }
   ],
   "source": [
    "merge_url.head(5)"
   ]
  },
  {
   "cell_type": "code",
   "execution_count": 33,
   "metadata": {},
   "outputs": [
    {
     "data": {
      "text/plain": [
       "(50, 2)"
      ]
     },
     "execution_count": 33,
     "metadata": {},
     "output_type": "execute_result"
    }
   ],
   "source": [
    "merge_url.shape"
   ]
  },
  {
   "cell_type": "markdown",
   "metadata": {},
   "source": [
    "<a name='save_data'></a> \n",
    "# Save dataframe\n",
    "Finally, it is saved the last dataframe created with the following informations:\n",
    "    - Reference\n",
    "    - url"
   ]
  },
  {
   "cell_type": "code",
   "execution_count": 54,
   "metadata": {},
   "outputs": [],
   "source": [
    "#set directory\n",
    "path = '/home/miguel/my_project_python/my_project_env/tfm/shopping/data/customize/top_50'\n",
    "os.chdir(path)\n",
    "\n",
    "#save data\n",
    "merge_url.to_csv('references_url.csv', sep='\\t')"
   ]
  }
 ],
 "metadata": {
  "kernelspec": {
   "display_name": "Python 3",
   "language": "python",
   "name": "python3"
  },
  "language_info": {
   "codemirror_mode": {
    "name": "ipython",
    "version": 3
   },
   "file_extension": ".py",
   "mimetype": "text/x-python",
   "name": "python",
   "nbconvert_exporter": "python",
   "pygments_lexer": "ipython3",
   "version": "3.6.7"
  }
 },
 "nbformat": 4,
 "nbformat_minor": 2
}
