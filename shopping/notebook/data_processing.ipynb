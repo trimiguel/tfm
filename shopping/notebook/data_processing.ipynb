{
 "cells": [
  {
   "cell_type": "markdown",
   "metadata": {},
   "source": [
    "<a name=\"top\"></a>Contents\n",
    "===\n",
    "- [Introduction: Top 50 references](#intro)\n",
    "- [Libraries](#libraries)\n",
    "- [BW](#bw)\n",
    "    - [Open BW dataset](#open)\n",
    "    - [Filter BW information](#filter)\n",
    "    - [Exercises](#exercises_what)\n",
    "- [Common operations with dictionaries](#common_operations)\n",
    "    - [Adding new key-value pairs](#adding_pairs)\n",
    "    - [Modifying values in a dictionary](#modifying_values)\n",
    "    - [Removing key-value pairs](#removing_pairs)\n",
    "    - [Modifying keys in a dictionary](#modifying_keys)\n",
    "    - [Exercises](#exercises_common_operations)\n",
    "- [Looping through a dictionary](#looping)\n",
    "    - [Looping through all key-value pairs](#loop_all_keys_values)\n",
    "    - [Looping through all keys in a dictionary](#loop_all_keys)\n",
    "    - [Looping through all values in a dictionary](#loop_all_values)\n",
    "    - [Looping through a dictionary in order](#looping_in_order)\n",
    "    - [Exercises](#exercises_looping)\n",
    "- [Nesting](#nesting)\n",
    "    - [Lists in a dictionary](#lists_in_dictionary)\n",
    "    - [Dictionaries in a dictionary](#dictionaries_in_dictionary)\n",
    "    - [An important note about nesting](#important_note)\n",
    "    - [Exercises](#exercises_nesting)\n",
    "- [Overall Challenges](#overall_challenges)"
   ]
  },
  {
   "cell_type": "markdown",
   "metadata": {},
   "source": [
    "<a name='intro'></a>Introduction: Top 50 references\n",
    "===\n",
    "EXPLICAR TODO Y PONER FOTO"
   ]
  },
  {
   "cell_type": "markdown",
   "metadata": {},
   "source": []
  },
  {
   "cell_type": "markdown",
   "metadata": {},
   "source": [
    "<a name='libraries'></a>Libraries\n",
    "===\n",
    "First of all, it is necessary to import the required libraries to develop all the steps correctly of this notebbook."
   ]
  },
  {
   "cell_type": "code",
   "execution_count": 1,
   "metadata": {},
   "outputs": [],
   "source": [
    "import os\n",
    "import pandas as pd\n",
    "import numpy as np\n",
    "import seaborn as sns\n",
    "import matplotlib.pyplot as plt\n",
    "from datetime import datetime\n",
    "%matplotlib inline\n",
    "\n",
    "#seguramente haya que pones mas librerias"
   ]
  },
  {
   "cell_type": "markdown",
   "metadata": {},
   "source": [
    "<a name='bw'></a>BW\n",
    "===\n",
    "In this section, I am going to analyze which are the references most sold in the last 6 months (from 1 october 2018 to 31 march 2019).\n",
    "\n",
    "-----\n",
    "\n",
    "RELLENAR\n",
    "\n",
    "\n",
    "-----"
   ]
  },
  {
   "cell_type": "markdown",
   "metadata": {},
   "source": [
    "<a name='open'></a> Open BW dataset\n",
    "---\n",
    "RELLENAR"
   ]
  },
  {
   "cell_type": "code",
   "execution_count": 5,
   "metadata": {},
   "outputs": [],
   "source": [
    "def open_bw(file,sheet_name, path):\n",
    "    \n",
    "    #set directory to open the file\n",
    "    os.chdir(path)\n",
    "    \n",
    "    #open the file xlsx    \n",
    "    df_bw = pd.read_excel(file, sheet_name)\n",
    "    \n",
    "    #rename the file columns correctly\n",
    "    df_bw = df_bw.rename(index=str, columns={'Referencia':'Reference', 'T Día natural':'Date', \n",
    "                                             'Valor neto pedidos':'Net_Incomes', \n",
    "                                             'Cantidad en unidades (pedidos)':'Units_sold'})\n",
    "    \n",
    "    #parse date columns\n",
    "    df_bw['Date'] = pd.to_datetime(df_bw['Date'], format = '%d.%m.%Y')\n",
    "    \n",
    "    return df_bw"
   ]
  },
  {
   "cell_type": "code",
   "execution_count": 7,
   "metadata": {},
   "outputs": [],
   "source": [
    "#open the file\n",
    "df_bw = open_bw('BW.xlsx', 'BW', '/home/miguel/my_project_python/my_project_env/tfm/shopping/data/raw/bw')"
   ]
  },
  {
   "cell_type": "code",
   "execution_count": null,
   "metadata": {},
   "outputs": [],
   "source": []
  },
  {
   "cell_type": "code",
   "execution_count": 10,
   "metadata": {
    "scrolled": true
   },
   "outputs": [
    {
     "data": {
      "text/html": [
       "<div>\n",
       "<style scoped>\n",
       "    .dataframe tbody tr th:only-of-type {\n",
       "        vertical-align: middle;\n",
       "    }\n",
       "\n",
       "    .dataframe tbody tr th {\n",
       "        vertical-align: top;\n",
       "    }\n",
       "\n",
       "    .dataframe thead th {\n",
       "        text-align: right;\n",
       "    }\n",
       "</style>\n",
       "<table border=\"1\" class=\"dataframe\">\n",
       "  <thead>\n",
       "    <tr style=\"text-align: right;\">\n",
       "      <th></th>\n",
       "      <th>Reference</th>\n",
       "      <th>Name</th>\n",
       "      <th>Date</th>\n",
       "      <th>Net_Incomes</th>\n",
       "      <th>Units_sold</th>\n",
       "    </tr>\n",
       "  </thead>\n",
       "  <tbody>\n",
       "    <tr>\n",
       "      <th>0</th>\n",
       "      <td>4623</td>\n",
       "      <td>ESPEJO PUERTA \"LCC\" BLANCO POLIETILENO</td>\n",
       "      <td>2017-09-11</td>\n",
       "      <td>18.93</td>\n",
       "      <td>1</td>\n",
       "    </tr>\n",
       "    <tr>\n",
       "      <th>1</th>\n",
       "      <td>4623</td>\n",
       "      <td>ESPEJO PUERTA \"LCC\" BLANCO POLIETILENO</td>\n",
       "      <td>2017-09-21</td>\n",
       "      <td>18.93</td>\n",
       "      <td>1</td>\n",
       "    </tr>\n",
       "    <tr>\n",
       "      <th>2</th>\n",
       "      <td>4623</td>\n",
       "      <td>ESPEJO PUERTA \"LCC\" BLANCO POLIETILENO</td>\n",
       "      <td>2017-10-08</td>\n",
       "      <td>16.08</td>\n",
       "      <td>1</td>\n",
       "    </tr>\n",
       "    <tr>\n",
       "      <th>3</th>\n",
       "      <td>4623</td>\n",
       "      <td>ESPEJO PUERTA \"LCC\" BLANCO POLIETILENO</td>\n",
       "      <td>2017-10-16</td>\n",
       "      <td>16.08</td>\n",
       "      <td>1</td>\n",
       "    </tr>\n",
       "    <tr>\n",
       "      <th>4</th>\n",
       "      <td>4623</td>\n",
       "      <td>ESPEJO PUERTA \"LCC\" BLANCO POLIETILENO</td>\n",
       "      <td>2017-10-21</td>\n",
       "      <td>16.08</td>\n",
       "      <td>1</td>\n",
       "    </tr>\n",
       "  </tbody>\n",
       "</table>\n",
       "</div>"
      ],
      "text/plain": [
       "   Reference                                    Name       Date  Net_Incomes  \\\n",
       "0       4623  ESPEJO PUERTA \"LCC\" BLANCO POLIETILENO 2017-09-11        18.93   \n",
       "1       4623  ESPEJO PUERTA \"LCC\" BLANCO POLIETILENO 2017-09-21        18.93   \n",
       "2       4623  ESPEJO PUERTA \"LCC\" BLANCO POLIETILENO 2017-10-08        16.08   \n",
       "3       4623  ESPEJO PUERTA \"LCC\" BLANCO POLIETILENO 2017-10-16        16.08   \n",
       "4       4623  ESPEJO PUERTA \"LCC\" BLANCO POLIETILENO 2017-10-21        16.08   \n",
       "\n",
       "   Units_sold  \n",
       "0           1  \n",
       "1           1  \n",
       "2           1  \n",
       "3           1  \n",
       "4           1  "
      ]
     },
     "execution_count": 10,
     "metadata": {},
     "output_type": "execute_result"
    }
   ],
   "source": [
    "df_bw.head(5)"
   ]
  },
  {
   "cell_type": "code",
   "execution_count": null,
   "metadata": {},
   "outputs": [],
   "source": []
  },
  {
   "cell_type": "code",
   "execution_count": 11,
   "metadata": {},
   "outputs": [
    {
     "name": "stdout",
     "output_type": "stream",
     "text": [
      "<class 'pandas.core.frame.DataFrame'>\n",
      "Index: 37614 entries, 0 to 37613\n",
      "Data columns (total 5 columns):\n",
      "Reference      37614 non-null int64\n",
      "Name           37614 non-null object\n",
      "Date           37614 non-null datetime64[ns]\n",
      "Net_Incomes    37614 non-null float64\n",
      "Units_sold     37614 non-null int64\n",
      "dtypes: datetime64[ns](1), float64(1), int64(2), object(1)\n",
      "memory usage: 1.7+ MB\n"
     ]
    }
   ],
   "source": [
    "df_bw.info()"
   ]
  },
  {
   "cell_type": "code",
   "execution_count": 12,
   "metadata": {},
   "outputs": [
    {
     "data": {
      "text/plain": [
       "(37614, 5)"
      ]
     },
     "execution_count": 12,
     "metadata": {},
     "output_type": "execute_result"
    }
   ],
   "source": [
    "df_bw.shape"
   ]
  },
  {
   "cell_type": "markdown",
   "metadata": {},
   "source": [
    "<a name='filter'></a> Filter BW information\n",
    "---\n",
    "RELLENAR"
   ]
  },
  {
   "cell_type": "code",
   "execution_count": 13,
   "metadata": {},
   "outputs": [],
   "source": [
    "#filter information from 10 oct 2018\n",
    "df_bw_filter = df_bw[df_bw[\"Date\"]>\"10.01.2018\"]\n",
    "\n",
    "#group by Reference and enumerate how many days each reference\n",
    "df_bw_groupby = df_bw.groupby(by=\"Reference\").agg({\"Date\":\"count\", \"Units_sold\":\"sum\",\"Net_Incomes\":\"sum\"}).sort_values(by='Units_sold',ascending=False)\n",
    "\n",
    "#filter net incomes over a 0€ and a minimum of 30 days with a transaction\n",
    "df_bw_groupby = df_bw_groupby[(df_bw_groupby[\"Net_Incomes\"]!=0) & (df_bw_groupby[\"Date\"]>=30)]"
   ]
  },
  {
   "cell_type": "code",
   "execution_count": 14,
   "metadata": {},
   "outputs": [
    {
     "data": {
      "text/html": [
       "<div>\n",
       "<style scoped>\n",
       "    .dataframe tbody tr th:only-of-type {\n",
       "        vertical-align: middle;\n",
       "    }\n",
       "\n",
       "    .dataframe tbody tr th {\n",
       "        vertical-align: top;\n",
       "    }\n",
       "\n",
       "    .dataframe thead th {\n",
       "        text-align: right;\n",
       "    }\n",
       "</style>\n",
       "<table border=\"1\" class=\"dataframe\">\n",
       "  <thead>\n",
       "    <tr style=\"text-align: right;\">\n",
       "      <th></th>\n",
       "      <th>Date</th>\n",
       "      <th>Units_sold</th>\n",
       "      <th>Net_Incomes</th>\n",
       "    </tr>\n",
       "    <tr>\n",
       "      <th>Reference</th>\n",
       "      <th></th>\n",
       "      <th></th>\n",
       "      <th></th>\n",
       "    </tr>\n",
       "  </thead>\n",
       "  <tbody>\n",
       "    <tr>\n",
       "      <th>8141600</th>\n",
       "      <td>55</td>\n",
       "      <td>416</td>\n",
       "      <td>8533.68</td>\n",
       "    </tr>\n",
       "    <tr>\n",
       "      <th>82462</th>\n",
       "      <td>38</td>\n",
       "      <td>363</td>\n",
       "      <td>11208.61</td>\n",
       "    </tr>\n",
       "    <tr>\n",
       "      <th>82035</th>\n",
       "      <td>82</td>\n",
       "      <td>336</td>\n",
       "      <td>8336.26</td>\n",
       "    </tr>\n",
       "    <tr>\n",
       "      <th>61119</th>\n",
       "      <td>172</td>\n",
       "      <td>263</td>\n",
       "      <td>11613.23</td>\n",
       "    </tr>\n",
       "    <tr>\n",
       "      <th>95203</th>\n",
       "      <td>46</td>\n",
       "      <td>182</td>\n",
       "      <td>2097.29</td>\n",
       "    </tr>\n",
       "  </tbody>\n",
       "</table>\n",
       "</div>"
      ],
      "text/plain": [
       "           Date  Units_sold  Net_Incomes\n",
       "Reference                               \n",
       "8141600      55         416      8533.68\n",
       "82462        38         363     11208.61\n",
       "82035        82         336      8336.26\n",
       "61119       172         263     11613.23\n",
       "95203        46         182      2097.29"
      ]
     },
     "execution_count": 14,
     "metadata": {},
     "output_type": "execute_result"
    }
   ],
   "source": [
    "df_bw_groupby.head(5)"
   ]
  },
  {
   "cell_type": "code",
   "execution_count": 15,
   "metadata": {},
   "outputs": [
    {
     "name": "stdout",
     "output_type": "stream",
     "text": [
      "<class 'pandas.core.frame.DataFrame'>\n",
      "Int64Index: 137 entries, 8141600 to 122541\n",
      "Data columns (total 3 columns):\n",
      "Date           137 non-null int64\n",
      "Units_sold     137 non-null int64\n",
      "Net_Incomes    137 non-null float64\n",
      "dtypes: float64(1), int64(2)\n",
      "memory usage: 4.3 KB\n"
     ]
    }
   ],
   "source": [
    "df_bw_groupby.info()"
   ]
  },
  {
   "cell_type": "code",
   "execution_count": 16,
   "metadata": {},
   "outputs": [
    {
     "data": {
      "text/plain": [
       "(137, 3)"
      ]
     },
     "execution_count": 16,
     "metadata": {},
     "output_type": "execute_result"
    }
   ],
   "source": [
    "df_bw_groupby.shape"
   ]
  },
  {
   "cell_type": "code",
   "execution_count": null,
   "metadata": {},
   "outputs": [],
   "source": []
  },
  {
   "cell_type": "code",
   "execution_count": null,
   "metadata": {},
   "outputs": [],
   "source": []
  }
 ],
 "metadata": {
  "kernelspec": {
   "display_name": "Python 3",
   "language": "python",
   "name": "python3"
  },
  "language_info": {
   "codemirror_mode": {
    "name": "ipython",
    "version": 3
   },
   "file_extension": ".py",
   "mimetype": "text/x-python",
   "name": "python",
   "nbconvert_exporter": "python",
   "pygments_lexer": "ipython3",
   "version": "3.6.7"
  }
 },
 "nbformat": 4,
 "nbformat_minor": 2
}
