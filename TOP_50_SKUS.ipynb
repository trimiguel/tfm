{
 "cells": [
  {
   "cell_type": "markdown",
   "metadata": {},
   "source": [
    "### TOP 50 SKUS\n",
    "\n",
    "In this section, I am going to analyze which are the references most sold in the last 6 months (from 1 october 2018 to 31 march 2019)."
   ]
  },
  {
   "cell_type": "markdown",
   "metadata": {},
   "source": [
    "First of all, we set as path the directory which contains the data"
   ]
  },
  {
   "cell_type": "code",
   "execution_count": 10,
   "metadata": {},
   "outputs": [],
   "source": [
    "import os\n",
    "\n",
    "path = '/home/miguel/Escritorio/TFM'\n",
    "os.chdir(path)"
   ]
  },
  {
   "cell_type": "code",
   "execution_count": 11,
   "metadata": {},
   "outputs": [
    {
     "data": {
      "text/plain": [
       "'/home/miguel/Escritorio/TFM'"
      ]
     },
     "execution_count": 11,
     "metadata": {},
     "output_type": "execute_result"
    }
   ],
   "source": [
    "pwd"
   ]
  },
  {
   "cell_type": "markdown",
   "metadata": {},
   "source": [
    "Secondly, I import the libraries that I am going to work in this script"
   ]
  },
  {
   "cell_type": "code",
   "execution_count": 12,
   "metadata": {},
   "outputs": [],
   "source": [
    "import pandas as pd\n",
    "import numpy as np\n",
    "import seaborn as sns\n",
    "import matplotlib.pyplot as plt\n",
    "%matplotlib inline"
   ]
  },
  {
   "cell_type": "markdown",
   "metadata": {},
   "source": [
    "After that, I load xlsx file with the required data:\n",
    "    - References\n",
    "    - Name References\n",
    "    - Date time \n",
    "    - Net incomes\n",
    "    - Units sold per transaction"
   ]
  },
  {
   "cell_type": "code",
   "execution_count": 13,
   "metadata": {},
   "outputs": [],
   "source": [
    "df_bw = pd.read_excel('BW.xlsx', sheet_name=\"BW\")"
   ]
  },
  {
   "cell_type": "code",
   "execution_count": 14,
   "metadata": {},
   "outputs": [
    {
     "data": {
      "text/html": [
       "<div>\n",
       "<style scoped>\n",
       "    .dataframe tbody tr th:only-of-type {\n",
       "        vertical-align: middle;\n",
       "    }\n",
       "\n",
       "    .dataframe tbody tr th {\n",
       "        vertical-align: top;\n",
       "    }\n",
       "\n",
       "    .dataframe thead th {\n",
       "        text-align: right;\n",
       "    }\n",
       "</style>\n",
       "<table border=\"1\" class=\"dataframe\">\n",
       "  <thead>\n",
       "    <tr style=\"text-align: right;\">\n",
       "      <th></th>\n",
       "      <th>Referencia</th>\n",
       "      <th>Name</th>\n",
       "      <th>T Día natural</th>\n",
       "      <th>Valor neto pedidos</th>\n",
       "      <th>Cantidad en unidades (pedidos)</th>\n",
       "    </tr>\n",
       "  </thead>\n",
       "  <tbody>\n",
       "    <tr>\n",
       "      <th>0</th>\n",
       "      <td>4623</td>\n",
       "      <td>ESPEJO PUERTA \"LCC\" BLANCO POLIETILENO</td>\n",
       "      <td>11.09.2017</td>\n",
       "      <td>18.93</td>\n",
       "      <td>1</td>\n",
       "    </tr>\n",
       "    <tr>\n",
       "      <th>1</th>\n",
       "      <td>4623</td>\n",
       "      <td>ESPEJO PUERTA \"LCC\" BLANCO POLIETILENO</td>\n",
       "      <td>21.09.2017</td>\n",
       "      <td>18.93</td>\n",
       "      <td>1</td>\n",
       "    </tr>\n",
       "    <tr>\n",
       "      <th>2</th>\n",
       "      <td>4623</td>\n",
       "      <td>ESPEJO PUERTA \"LCC\" BLANCO POLIETILENO</td>\n",
       "      <td>08.10.2017</td>\n",
       "      <td>16.08</td>\n",
       "      <td>1</td>\n",
       "    </tr>\n",
       "    <tr>\n",
       "      <th>3</th>\n",
       "      <td>4623</td>\n",
       "      <td>ESPEJO PUERTA \"LCC\" BLANCO POLIETILENO</td>\n",
       "      <td>16.10.2017</td>\n",
       "      <td>16.08</td>\n",
       "      <td>1</td>\n",
       "    </tr>\n",
       "    <tr>\n",
       "      <th>4</th>\n",
       "      <td>4623</td>\n",
       "      <td>ESPEJO PUERTA \"LCC\" BLANCO POLIETILENO</td>\n",
       "      <td>21.10.2017</td>\n",
       "      <td>16.08</td>\n",
       "      <td>1</td>\n",
       "    </tr>\n",
       "  </tbody>\n",
       "</table>\n",
       "</div>"
      ],
      "text/plain": [
       "   Referencia                                    Name T Día natural  \\\n",
       "0        4623  ESPEJO PUERTA \"LCC\" BLANCO POLIETILENO    11.09.2017   \n",
       "1        4623  ESPEJO PUERTA \"LCC\" BLANCO POLIETILENO    21.09.2017   \n",
       "2        4623  ESPEJO PUERTA \"LCC\" BLANCO POLIETILENO    08.10.2017   \n",
       "3        4623  ESPEJO PUERTA \"LCC\" BLANCO POLIETILENO    16.10.2017   \n",
       "4        4623  ESPEJO PUERTA \"LCC\" BLANCO POLIETILENO    21.10.2017   \n",
       "\n",
       "   Valor neto pedidos  Cantidad en unidades (pedidos)  \n",
       "0               18.93                               1  \n",
       "1               18.93                               1  \n",
       "2               16.08                               1  \n",
       "3               16.08                               1  \n",
       "4               16.08                               1  "
      ]
     },
     "execution_count": 14,
     "metadata": {},
     "output_type": "execute_result"
    }
   ],
   "source": [
    "df_bw.head(5)"
   ]
  },
  {
   "cell_type": "markdown",
   "metadata": {},
   "source": [
    "I also check the shape and info of this data"
   ]
  },
  {
   "cell_type": "code",
   "execution_count": 15,
   "metadata": {},
   "outputs": [
    {
     "data": {
      "text/plain": [
       "(37614, 5)"
      ]
     },
     "execution_count": 15,
     "metadata": {},
     "output_type": "execute_result"
    }
   ],
   "source": [
    "df_bw.shape"
   ]
  },
  {
   "cell_type": "code",
   "execution_count": 16,
   "metadata": {},
   "outputs": [
    {
     "name": "stdout",
     "output_type": "stream",
     "text": [
      "<class 'pandas.core.frame.DataFrame'>\n",
      "RangeIndex: 37614 entries, 0 to 37613\n",
      "Data columns (total 5 columns):\n",
      "Referencia                        37614 non-null int64\n",
      "Name                              37614 non-null object\n",
      "T Día natural                     37614 non-null object\n",
      "Valor neto pedidos                37614 non-null float64\n",
      "Cantidad en unidades (pedidos)    37614 non-null int64\n",
      "dtypes: float64(1), int64(2), object(2)\n",
      "memory usage: 1.4+ MB\n"
     ]
    }
   ],
   "source": [
    "df_bw.info()"
   ]
  },
  {
   "cell_type": "markdown",
   "metadata": {},
   "source": [
    "It is all right.\n",
    "\n",
    "Then, I continue renaming the columns with the purpose of removing black spaces"
   ]
  },
  {
   "cell_type": "code",
   "execution_count": 17,
   "metadata": {},
   "outputs": [],
   "source": [
    "df_bw = df_bw.rename(index=str, columns={\"Referencia\":\"Reference\", \"T Día natural\":\"Date\", \"Valor neto pedidos\":\"Net_Incomes\", \"Cantidad en unidades (pedidos)\":\"Units_sold\"})"
   ]
  },
  {
   "cell_type": "code",
   "execution_count": 18,
   "metadata": {},
   "outputs": [
    {
     "data": {
      "text/html": [
       "<div>\n",
       "<style scoped>\n",
       "    .dataframe tbody tr th:only-of-type {\n",
       "        vertical-align: middle;\n",
       "    }\n",
       "\n",
       "    .dataframe tbody tr th {\n",
       "        vertical-align: top;\n",
       "    }\n",
       "\n",
       "    .dataframe thead th {\n",
       "        text-align: right;\n",
       "    }\n",
       "</style>\n",
       "<table border=\"1\" class=\"dataframe\">\n",
       "  <thead>\n",
       "    <tr style=\"text-align: right;\">\n",
       "      <th></th>\n",
       "      <th>Reference</th>\n",
       "      <th>Name</th>\n",
       "      <th>Date</th>\n",
       "      <th>Net_Incomes</th>\n",
       "      <th>Units_sold</th>\n",
       "    </tr>\n",
       "  </thead>\n",
       "  <tbody>\n",
       "    <tr>\n",
       "      <th>0</th>\n",
       "      <td>4623</td>\n",
       "      <td>ESPEJO PUERTA \"LCC\" BLANCO POLIETILENO</td>\n",
       "      <td>11.09.2017</td>\n",
       "      <td>18.93</td>\n",
       "      <td>1</td>\n",
       "    </tr>\n",
       "    <tr>\n",
       "      <th>1</th>\n",
       "      <td>4623</td>\n",
       "      <td>ESPEJO PUERTA \"LCC\" BLANCO POLIETILENO</td>\n",
       "      <td>21.09.2017</td>\n",
       "      <td>18.93</td>\n",
       "      <td>1</td>\n",
       "    </tr>\n",
       "    <tr>\n",
       "      <th>2</th>\n",
       "      <td>4623</td>\n",
       "      <td>ESPEJO PUERTA \"LCC\" BLANCO POLIETILENO</td>\n",
       "      <td>08.10.2017</td>\n",
       "      <td>16.08</td>\n",
       "      <td>1</td>\n",
       "    </tr>\n",
       "    <tr>\n",
       "      <th>3</th>\n",
       "      <td>4623</td>\n",
       "      <td>ESPEJO PUERTA \"LCC\" BLANCO POLIETILENO</td>\n",
       "      <td>16.10.2017</td>\n",
       "      <td>16.08</td>\n",
       "      <td>1</td>\n",
       "    </tr>\n",
       "    <tr>\n",
       "      <th>4</th>\n",
       "      <td>4623</td>\n",
       "      <td>ESPEJO PUERTA \"LCC\" BLANCO POLIETILENO</td>\n",
       "      <td>21.10.2017</td>\n",
       "      <td>16.08</td>\n",
       "      <td>1</td>\n",
       "    </tr>\n",
       "  </tbody>\n",
       "</table>\n",
       "</div>"
      ],
      "text/plain": [
       "   Reference                                    Name        Date  Net_Incomes  \\\n",
       "0       4623  ESPEJO PUERTA \"LCC\" BLANCO POLIETILENO  11.09.2017        18.93   \n",
       "1       4623  ESPEJO PUERTA \"LCC\" BLANCO POLIETILENO  21.09.2017        18.93   \n",
       "2       4623  ESPEJO PUERTA \"LCC\" BLANCO POLIETILENO  08.10.2017        16.08   \n",
       "3       4623  ESPEJO PUERTA \"LCC\" BLANCO POLIETILENO  16.10.2017        16.08   \n",
       "4       4623  ESPEJO PUERTA \"LCC\" BLANCO POLIETILENO  21.10.2017        16.08   \n",
       "\n",
       "   Units_sold  \n",
       "0           1  \n",
       "1           1  \n",
       "2           1  \n",
       "3           1  \n",
       "4           1  "
      ]
     },
     "execution_count": 18,
     "metadata": {},
     "output_type": "execute_result"
    }
   ],
   "source": [
    "df_bw.head(5)"
   ]
  },
  {
   "cell_type": "markdown",
   "metadata": {},
   "source": [
    "Now, I filter the transactions from 1 october 2018 to 31 march 2019.\n",
    "\n",
    "To develop correctly this filter, it is necessary to change \"Date\" column from object type to datetime"
   ]
  },
  {
   "cell_type": "code",
   "execution_count": 19,
   "metadata": {},
   "outputs": [],
   "source": [
    "from datetime import datetime"
   ]
  },
  {
   "cell_type": "code",
   "execution_count": 20,
   "metadata": {},
   "outputs": [],
   "source": [
    "df_bw[\"Date\"] = pd.to_datetime(df_bw[\"Date\"], format = '%d.%m.%Y')"
   ]
  },
  {
   "cell_type": "code",
   "execution_count": 29,
   "metadata": {},
   "outputs": [],
   "source": [
    "df_bw_filter = df_bw[df_bw[\"Date\"]>\"10.01.2018\"]"
   ]
  },
  {
   "cell_type": "code",
   "execution_count": 30,
   "metadata": {},
   "outputs": [
    {
     "data": {
      "text/html": [
       "<div>\n",
       "<style scoped>\n",
       "    .dataframe tbody tr th:only-of-type {\n",
       "        vertical-align: middle;\n",
       "    }\n",
       "\n",
       "    .dataframe tbody tr th {\n",
       "        vertical-align: top;\n",
       "    }\n",
       "\n",
       "    .dataframe thead th {\n",
       "        text-align: right;\n",
       "    }\n",
       "</style>\n",
       "<table border=\"1\" class=\"dataframe\">\n",
       "  <thead>\n",
       "    <tr style=\"text-align: right;\">\n",
       "      <th></th>\n",
       "      <th>Reference</th>\n",
       "      <th>Name</th>\n",
       "      <th>Date</th>\n",
       "      <th>Net_Incomes</th>\n",
       "      <th>Units_sold</th>\n",
       "    </tr>\n",
       "  </thead>\n",
       "  <tbody>\n",
       "    <tr>\n",
       "      <th>33</th>\n",
       "      <td>6558</td>\n",
       "      <td>JARRÓN CILÍNDRICO VIDRIO</td>\n",
       "      <td>2018-12-09</td>\n",
       "      <td>13.97</td>\n",
       "      <td>1</td>\n",
       "    </tr>\n",
       "    <tr>\n",
       "      <th>37</th>\n",
       "      <td>6565</td>\n",
       "      <td>JARRÓN ESFERA VIDRIO</td>\n",
       "      <td>2018-11-08</td>\n",
       "      <td>11.08</td>\n",
       "      <td>1</td>\n",
       "    </tr>\n",
       "    <tr>\n",
       "      <th>38</th>\n",
       "      <td>6565</td>\n",
       "      <td>JARRÓN ESFERA VIDRIO</td>\n",
       "      <td>2018-11-23</td>\n",
       "      <td>22.14</td>\n",
       "      <td>2</td>\n",
       "    </tr>\n",
       "    <tr>\n",
       "      <th>39</th>\n",
       "      <td>6565</td>\n",
       "      <td>JARRÓN ESFERA VIDRIO</td>\n",
       "      <td>2019-02-04</td>\n",
       "      <td>14.90</td>\n",
       "      <td>1</td>\n",
       "    </tr>\n",
       "    <tr>\n",
       "      <th>40</th>\n",
       "      <td>6565</td>\n",
       "      <td>JARRÓN ESFERA VIDRIO</td>\n",
       "      <td>2019-03-12</td>\n",
       "      <td>12.31</td>\n",
       "      <td>1</td>\n",
       "    </tr>\n",
       "  </tbody>\n",
       "</table>\n",
       "</div>"
      ],
      "text/plain": [
       "    Reference                      Name       Date  Net_Incomes  Units_sold\n",
       "33       6558  JARRÓN CILÍNDRICO VIDRIO 2018-12-09        13.97           1\n",
       "37       6565      JARRÓN ESFERA VIDRIO 2018-11-08        11.08           1\n",
       "38       6565      JARRÓN ESFERA VIDRIO 2018-11-23        22.14           2\n",
       "39       6565      JARRÓN ESFERA VIDRIO 2019-02-04        14.90           1\n",
       "40       6565      JARRÓN ESFERA VIDRIO 2019-03-12        12.31           1"
      ]
     },
     "execution_count": 30,
     "metadata": {},
     "output_type": "execute_result"
    }
   ],
   "source": [
    "df_bw_filter.head(5)"
   ]
  },
  {
   "cell_type": "code",
   "execution_count": 31,
   "metadata": {},
   "outputs": [
    {
     "data": {
      "text/plain": [
       "(15032, 5)"
      ]
     },
     "execution_count": 31,
     "metadata": {},
     "output_type": "execute_result"
    }
   ],
   "source": [
    "df_bw_filter.shape"
   ]
  },
  {
   "cell_type": "markdown",
   "metadata": {},
   "source": [
    "Once I have obtained the selected data, I group by Reference and I enumerate how many days each reference has been sold during that period in order to be able to find the most sold products with high frequency."
   ]
  },
  {
   "cell_type": "code",
   "execution_count": 53,
   "metadata": {},
   "outputs": [
    {
     "data": {
      "text/html": [
       "<div>\n",
       "<style scoped>\n",
       "    .dataframe tbody tr th:only-of-type {\n",
       "        vertical-align: middle;\n",
       "    }\n",
       "\n",
       "    .dataframe tbody tr th {\n",
       "        vertical-align: top;\n",
       "    }\n",
       "\n",
       "    .dataframe thead th {\n",
       "        text-align: right;\n",
       "    }\n",
       "</style>\n",
       "<table border=\"1\" class=\"dataframe\">\n",
       "  <thead>\n",
       "    <tr style=\"text-align: right;\">\n",
       "      <th></th>\n",
       "      <th>Date</th>\n",
       "      <th>Units_sold</th>\n",
       "      <th>Net_Incomes</th>\n",
       "    </tr>\n",
       "    <tr>\n",
       "      <th>Reference</th>\n",
       "      <th></th>\n",
       "      <th></th>\n",
       "      <th></th>\n",
       "    </tr>\n",
       "  </thead>\n",
       "  <tbody>\n",
       "    <tr>\n",
       "      <th>265400</th>\n",
       "      <td>82</td>\n",
       "      <td>1092</td>\n",
       "      <td>0.0</td>\n",
       "    </tr>\n",
       "    <tr>\n",
       "      <th>265600</th>\n",
       "      <td>82</td>\n",
       "      <td>1092</td>\n",
       "      <td>0.0</td>\n",
       "    </tr>\n",
       "    <tr>\n",
       "      <th>251900</th>\n",
       "      <td>82</td>\n",
       "      <td>904</td>\n",
       "      <td>0.0</td>\n",
       "    </tr>\n",
       "    <tr>\n",
       "      <th>10040</th>\n",
       "      <td>58</td>\n",
       "      <td>562</td>\n",
       "      <td>0.0</td>\n",
       "    </tr>\n",
       "    <tr>\n",
       "      <th>10048</th>\n",
       "      <td>48</td>\n",
       "      <td>506</td>\n",
       "      <td>0.0</td>\n",
       "    </tr>\n",
       "  </tbody>\n",
       "</table>\n",
       "</div>"
      ],
      "text/plain": [
       "           Date  Units_sold  Net_Incomes\n",
       "Reference                               \n",
       "265400       82        1092          0.0\n",
       "265600       82        1092          0.0\n",
       "251900       82         904          0.0\n",
       "10040        58         562          0.0\n",
       "10048        48         506          0.0"
      ]
     },
     "execution_count": 53,
     "metadata": {},
     "output_type": "execute_result"
    }
   ],
   "source": [
    "df_bw_groupby = df_bw.groupby(by=\"Reference\").agg({\"Date\":\"count\", \"Units_sold\":\"sum\",\"Net_Incomes\":\"sum\"}).sort_values(by='Units_sold',ascending=False)\n",
    "df_bw_groupby.head(5)"
   ]
  },
  {
   "cell_type": "code",
   "execution_count": 46,
   "metadata": {},
   "outputs": [
    {
     "data": {
      "text/html": [
       "<div>\n",
       "<style scoped>\n",
       "    .dataframe tbody tr th:only-of-type {\n",
       "        vertical-align: middle;\n",
       "    }\n",
       "\n",
       "    .dataframe tbody tr th {\n",
       "        vertical-align: top;\n",
       "    }\n",
       "\n",
       "    .dataframe thead th {\n",
       "        text-align: right;\n",
       "    }\n",
       "</style>\n",
       "<table border=\"1\" class=\"dataframe\">\n",
       "  <thead>\n",
       "    <tr style=\"text-align: right;\">\n",
       "      <th></th>\n",
       "      <th>Date</th>\n",
       "      <th>Units_sold</th>\n",
       "      <th>Net_Incomes</th>\n",
       "    </tr>\n",
       "  </thead>\n",
       "  <tbody>\n",
       "    <tr>\n",
       "      <th>count</th>\n",
       "      <td>8477.000000</td>\n",
       "      <td>8477.000000</td>\n",
       "      <td>8477.000000</td>\n",
       "    </tr>\n",
       "    <tr>\n",
       "      <th>mean</th>\n",
       "      <td>4.286422</td>\n",
       "      <td>5.971334</td>\n",
       "      <td>260.089599</td>\n",
       "    </tr>\n",
       "    <tr>\n",
       "      <th>std</th>\n",
       "      <td>7.488394</td>\n",
       "      <td>13.186183</td>\n",
       "      <td>699.587363</td>\n",
       "    </tr>\n",
       "    <tr>\n",
       "      <th>min</th>\n",
       "      <td>1.000000</td>\n",
       "      <td>1.000000</td>\n",
       "      <td>2.150000</td>\n",
       "    </tr>\n",
       "    <tr>\n",
       "      <th>25%</th>\n",
       "      <td>1.000000</td>\n",
       "      <td>1.000000</td>\n",
       "      <td>32.930000</td>\n",
       "    </tr>\n",
       "    <tr>\n",
       "      <th>50%</th>\n",
       "      <td>2.000000</td>\n",
       "      <td>3.000000</td>\n",
       "      <td>78.350000</td>\n",
       "    </tr>\n",
       "    <tr>\n",
       "      <th>75%</th>\n",
       "      <td>4.000000</td>\n",
       "      <td>6.000000</td>\n",
       "      <td>218.600000</td>\n",
       "    </tr>\n",
       "    <tr>\n",
       "      <th>max</th>\n",
       "      <td>172.000000</td>\n",
       "      <td>416.000000</td>\n",
       "      <td>14050.750000</td>\n",
       "    </tr>\n",
       "  </tbody>\n",
       "</table>\n",
       "</div>"
      ],
      "text/plain": [
       "              Date   Units_sold   Net_Incomes\n",
       "count  8477.000000  8477.000000   8477.000000\n",
       "mean      4.286422     5.971334    260.089599\n",
       "std       7.488394    13.186183    699.587363\n",
       "min       1.000000     1.000000      2.150000\n",
       "25%       1.000000     1.000000     32.930000\n",
       "50%       2.000000     3.000000     78.350000\n",
       "75%       4.000000     6.000000    218.600000\n",
       "max     172.000000   416.000000  14050.750000"
      ]
     },
     "execution_count": 46,
     "metadata": {},
     "output_type": "execute_result"
    }
   ],
   "source": [
    "df_bw_groupby.describe()"
   ]
  },
  {
   "cell_type": "markdown",
   "metadata": {},
   "source": [
    "After grouping and checking the new dataframe, I should select the most suitable references for this study following these steps:\n",
    "   - Net_Incomes > 0€ in BW\n",
    "   - At least more than 30 transactaions\n",
    "   - At least more than 30 days of exposition in Adwords\n",
    "   - Cost > 0€ in Adwords"
   ]
  },
  {
   "cell_type": "code",
   "execution_count": null,
   "metadata": {},
   "outputs": [],
   "source": [
    "df_bw_groupby = df_bw_groupby[ df_bw_groupby[\"Net_Incomes\"]!=0]"
   ]
  },
  {
   "cell_type": "code",
   "execution_count": null,
   "metadata": {},
   "outputs": [],
   "source": [
    "df_bw_groupby[ df_bw_groupby[\"Date\"]>30].head(30)"
   ]
  }
 ],
 "metadata": {
  "kernelspec": {
   "display_name": "Python 3",
   "language": "python",
   "name": "python3"
  },
  "language_info": {
   "codemirror_mode": {
    "name": "ipython",
    "version": 3
   },
   "file_extension": ".py",
   "mimetype": "text/x-python",
   "name": "python",
   "nbconvert_exporter": "python",
   "pygments_lexer": "ipython3",
   "version": "3.6.7"
  }
 },
 "nbformat": 4,
 "nbformat_minor": 2
}
