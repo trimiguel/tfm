{
 "cells": [
  {
   "cell_type": "code",
   "execution_count": null,
   "metadata": {},
   "outputs": [],
   "source": [
    "import setuptools\n",
    "\n",
    "setuptools.setup(\n",
    "    name=\"setup\",\n",
    "    version=\"1.0\",\n",
    "    author=\"Miguel Sanchez\",\n",
    "    author_email=\"migueldasb@gmail.com\",\n",
    "    description=\"A package to work in this study\",\n",
    "    url=\"https://github.com/trimiguel/tfm\",\n",
    "    packages=setuptools.find_packages()\n",
    ")"
   ]
  }
 ],
 "metadata": {
  "kernelspec": {
   "display_name": "Python 3",
   "language": "python",
   "name": "python3"
  },
  "language_info": {
   "codemirror_mode": {
    "name": "ipython",
    "version": 3
   },
   "file_extension": ".py",
   "mimetype": "text/x-python",
   "name": "python",
   "nbconvert_exporter": "python",
   "pygments_lexer": "ipython3",
   "version": "3.6.7"
  }
 },
 "nbformat": 4,
 "nbformat_minor": 2
}
