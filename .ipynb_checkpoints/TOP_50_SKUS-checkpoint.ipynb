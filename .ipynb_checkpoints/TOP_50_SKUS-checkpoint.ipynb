{
 "cells": [
  {
   "cell_type": "markdown",
   "metadata": {},
   "source": [
    "### TOP 50 SKUS\n",
    "\n",
    "In this section, I am going to analyze which are the references most sold in the last 6 months (from 1 october 2018 to 31 march 2019)."
   ]
  },
  {
   "cell_type": "markdown",
   "metadata": {},
   "source": [
    "First of all, we set as path the directory which contains the data"
   ]
  },
  {
   "cell_type": "code",
   "execution_count": 10,
   "metadata": {},
   "outputs": [],
   "source": [
    "import os\n",
    "\n",
    "path = '/home/miguel/Escritorio/TFM'\n",
    "os.chdir(path)"
   ]
  },
  {
   "cell_type": "code",
   "execution_count": 11,
   "metadata": {},
   "outputs": [
    {
     "data": {
      "text/plain": [
       "'/home/miguel/Escritorio/TFM'"
      ]
     },
     "execution_count": 11,
     "metadata": {},
     "output_type": "execute_result"
    }
   ],
   "source": [
    "pwd"
   ]
  },
  {
   "cell_type": "markdown",
   "metadata": {},
   "source": [
    "Secondly, I import the libraries that I am going to work in this script"
   ]
  },
  {
   "cell_type": "code",
   "execution_count": 99,
   "metadata": {},
   "outputs": [],
   "source": [
    "import io\n",
    "import pandas as pd\n",
    "import numpy as np\n",
    "import seaborn as sns\n",
    "import matplotlib.pyplot as plt\n",
    "%matplotlib inline"
   ]
  },
  {
   "cell_type": "markdown",
   "metadata": {},
   "source": [
    "After that, I load xlsx file with the required data:\n",
    "    - References\n",
    "    - Name References\n",
    "    - Date time \n",
    "    - Net incomes\n",
    "    - Units sold per transaction"
   ]
  },
  {
   "cell_type": "code",
   "execution_count": 13,
   "metadata": {},
   "outputs": [],
   "source": [
    "df_bw = pd.read_excel('BW.xlsx', sheet_name=\"BW\")"
   ]
  },
  {
   "cell_type": "code",
   "execution_count": 14,
   "metadata": {},
   "outputs": [
    {
     "data": {
      "text/html": [
       "<div>\n",
       "<style scoped>\n",
       "    .dataframe tbody tr th:only-of-type {\n",
       "        vertical-align: middle;\n",
       "    }\n",
       "\n",
       "    .dataframe tbody tr th {\n",
       "        vertical-align: top;\n",
       "    }\n",
       "\n",
       "    .dataframe thead th {\n",
       "        text-align: right;\n",
       "    }\n",
       "</style>\n",
       "<table border=\"1\" class=\"dataframe\">\n",
       "  <thead>\n",
       "    <tr style=\"text-align: right;\">\n",
       "      <th></th>\n",
       "      <th>Referencia</th>\n",
       "      <th>Name</th>\n",
       "      <th>T Día natural</th>\n",
       "      <th>Valor neto pedidos</th>\n",
       "      <th>Cantidad en unidades (pedidos)</th>\n",
       "    </tr>\n",
       "  </thead>\n",
       "  <tbody>\n",
       "    <tr>\n",
       "      <th>0</th>\n",
       "      <td>4623</td>\n",
       "      <td>ESPEJO PUERTA \"LCC\" BLANCO POLIETILENO</td>\n",
       "      <td>11.09.2017</td>\n",
       "      <td>18.93</td>\n",
       "      <td>1</td>\n",
       "    </tr>\n",
       "    <tr>\n",
       "      <th>1</th>\n",
       "      <td>4623</td>\n",
       "      <td>ESPEJO PUERTA \"LCC\" BLANCO POLIETILENO</td>\n",
       "      <td>21.09.2017</td>\n",
       "      <td>18.93</td>\n",
       "      <td>1</td>\n",
       "    </tr>\n",
       "    <tr>\n",
       "      <th>2</th>\n",
       "      <td>4623</td>\n",
       "      <td>ESPEJO PUERTA \"LCC\" BLANCO POLIETILENO</td>\n",
       "      <td>08.10.2017</td>\n",
       "      <td>16.08</td>\n",
       "      <td>1</td>\n",
       "    </tr>\n",
       "    <tr>\n",
       "      <th>3</th>\n",
       "      <td>4623</td>\n",
       "      <td>ESPEJO PUERTA \"LCC\" BLANCO POLIETILENO</td>\n",
       "      <td>16.10.2017</td>\n",
       "      <td>16.08</td>\n",
       "      <td>1</td>\n",
       "    </tr>\n",
       "    <tr>\n",
       "      <th>4</th>\n",
       "      <td>4623</td>\n",
       "      <td>ESPEJO PUERTA \"LCC\" BLANCO POLIETILENO</td>\n",
       "      <td>21.10.2017</td>\n",
       "      <td>16.08</td>\n",
       "      <td>1</td>\n",
       "    </tr>\n",
       "  </tbody>\n",
       "</table>\n",
       "</div>"
      ],
      "text/plain": [
       "   Referencia                                    Name T Día natural  \\\n",
       "0        4623  ESPEJO PUERTA \"LCC\" BLANCO POLIETILENO    11.09.2017   \n",
       "1        4623  ESPEJO PUERTA \"LCC\" BLANCO POLIETILENO    21.09.2017   \n",
       "2        4623  ESPEJO PUERTA \"LCC\" BLANCO POLIETILENO    08.10.2017   \n",
       "3        4623  ESPEJO PUERTA \"LCC\" BLANCO POLIETILENO    16.10.2017   \n",
       "4        4623  ESPEJO PUERTA \"LCC\" BLANCO POLIETILENO    21.10.2017   \n",
       "\n",
       "   Valor neto pedidos  Cantidad en unidades (pedidos)  \n",
       "0               18.93                               1  \n",
       "1               18.93                               1  \n",
       "2               16.08                               1  \n",
       "3               16.08                               1  \n",
       "4               16.08                               1  "
      ]
     },
     "execution_count": 14,
     "metadata": {},
     "output_type": "execute_result"
    }
   ],
   "source": [
    "df_bw.head(5)"
   ]
  },
  {
   "cell_type": "markdown",
   "metadata": {},
   "source": [
    "I also check the shape and info of this data"
   ]
  },
  {
   "cell_type": "code",
   "execution_count": 15,
   "metadata": {},
   "outputs": [
    {
     "data": {
      "text/plain": [
       "(37614, 5)"
      ]
     },
     "execution_count": 15,
     "metadata": {},
     "output_type": "execute_result"
    }
   ],
   "source": [
    "df_bw.shape"
   ]
  },
  {
   "cell_type": "code",
   "execution_count": 16,
   "metadata": {},
   "outputs": [
    {
     "name": "stdout",
     "output_type": "stream",
     "text": [
      "<class 'pandas.core.frame.DataFrame'>\n",
      "RangeIndex: 37614 entries, 0 to 37613\n",
      "Data columns (total 5 columns):\n",
      "Referencia                        37614 non-null int64\n",
      "Name                              37614 non-null object\n",
      "T Día natural                     37614 non-null object\n",
      "Valor neto pedidos                37614 non-null float64\n",
      "Cantidad en unidades (pedidos)    37614 non-null int64\n",
      "dtypes: float64(1), int64(2), object(2)\n",
      "memory usage: 1.4+ MB\n"
     ]
    }
   ],
   "source": [
    "df_bw.info()"
   ]
  },
  {
   "cell_type": "markdown",
   "metadata": {},
   "source": [
    "It is all right.\n",
    "\n",
    "Then, I continue renaming the columns with the purpose of removing black spaces"
   ]
  },
  {
   "cell_type": "code",
   "execution_count": 17,
   "metadata": {},
   "outputs": [],
   "source": [
    "df_bw = df_bw.rename(index=str, columns={\"Referencia\":\"Reference\", \"T Día natural\":\"Date\", \"Valor neto pedidos\":\"Net_Incomes\", \"Cantidad en unidades (pedidos)\":\"Units_sold\"})"
   ]
  },
  {
   "cell_type": "code",
   "execution_count": 18,
   "metadata": {},
   "outputs": [
    {
     "data": {
      "text/html": [
       "<div>\n",
       "<style scoped>\n",
       "    .dataframe tbody tr th:only-of-type {\n",
       "        vertical-align: middle;\n",
       "    }\n",
       "\n",
       "    .dataframe tbody tr th {\n",
       "        vertical-align: top;\n",
       "    }\n",
       "\n",
       "    .dataframe thead th {\n",
       "        text-align: right;\n",
       "    }\n",
       "</style>\n",
       "<table border=\"1\" class=\"dataframe\">\n",
       "  <thead>\n",
       "    <tr style=\"text-align: right;\">\n",
       "      <th></th>\n",
       "      <th>Reference</th>\n",
       "      <th>Name</th>\n",
       "      <th>Date</th>\n",
       "      <th>Net_Incomes</th>\n",
       "      <th>Units_sold</th>\n",
       "    </tr>\n",
       "  </thead>\n",
       "  <tbody>\n",
       "    <tr>\n",
       "      <th>0</th>\n",
       "      <td>4623</td>\n",
       "      <td>ESPEJO PUERTA \"LCC\" BLANCO POLIETILENO</td>\n",
       "      <td>11.09.2017</td>\n",
       "      <td>18.93</td>\n",
       "      <td>1</td>\n",
       "    </tr>\n",
       "    <tr>\n",
       "      <th>1</th>\n",
       "      <td>4623</td>\n",
       "      <td>ESPEJO PUERTA \"LCC\" BLANCO POLIETILENO</td>\n",
       "      <td>21.09.2017</td>\n",
       "      <td>18.93</td>\n",
       "      <td>1</td>\n",
       "    </tr>\n",
       "    <tr>\n",
       "      <th>2</th>\n",
       "      <td>4623</td>\n",
       "      <td>ESPEJO PUERTA \"LCC\" BLANCO POLIETILENO</td>\n",
       "      <td>08.10.2017</td>\n",
       "      <td>16.08</td>\n",
       "      <td>1</td>\n",
       "    </tr>\n",
       "    <tr>\n",
       "      <th>3</th>\n",
       "      <td>4623</td>\n",
       "      <td>ESPEJO PUERTA \"LCC\" BLANCO POLIETILENO</td>\n",
       "      <td>16.10.2017</td>\n",
       "      <td>16.08</td>\n",
       "      <td>1</td>\n",
       "    </tr>\n",
       "    <tr>\n",
       "      <th>4</th>\n",
       "      <td>4623</td>\n",
       "      <td>ESPEJO PUERTA \"LCC\" BLANCO POLIETILENO</td>\n",
       "      <td>21.10.2017</td>\n",
       "      <td>16.08</td>\n",
       "      <td>1</td>\n",
       "    </tr>\n",
       "  </tbody>\n",
       "</table>\n",
       "</div>"
      ],
      "text/plain": [
       "   Reference                                    Name        Date  Net_Incomes  \\\n",
       "0       4623  ESPEJO PUERTA \"LCC\" BLANCO POLIETILENO  11.09.2017        18.93   \n",
       "1       4623  ESPEJO PUERTA \"LCC\" BLANCO POLIETILENO  21.09.2017        18.93   \n",
       "2       4623  ESPEJO PUERTA \"LCC\" BLANCO POLIETILENO  08.10.2017        16.08   \n",
       "3       4623  ESPEJO PUERTA \"LCC\" BLANCO POLIETILENO  16.10.2017        16.08   \n",
       "4       4623  ESPEJO PUERTA \"LCC\" BLANCO POLIETILENO  21.10.2017        16.08   \n",
       "\n",
       "   Units_sold  \n",
       "0           1  \n",
       "1           1  \n",
       "2           1  \n",
       "3           1  \n",
       "4           1  "
      ]
     },
     "execution_count": 18,
     "metadata": {},
     "output_type": "execute_result"
    }
   ],
   "source": [
    "df_bw.head(5)"
   ]
  },
  {
   "cell_type": "markdown",
   "metadata": {},
   "source": [
    "Now, I filter the transactions from 1 october 2018 to 31 march 2019.\n",
    "\n",
    "To develop correctly this filter, it is necessary to change \"Date\" column from object type to datetime"
   ]
  },
  {
   "cell_type": "code",
   "execution_count": 19,
   "metadata": {},
   "outputs": [],
   "source": [
    "from datetime import datetime"
   ]
  },
  {
   "cell_type": "code",
   "execution_count": 20,
   "metadata": {},
   "outputs": [],
   "source": [
    "df_bw[\"Date\"] = pd.to_datetime(df_bw[\"Date\"], format = '%d.%m.%Y')"
   ]
  },
  {
   "cell_type": "code",
   "execution_count": 29,
   "metadata": {},
   "outputs": [],
   "source": [
    "df_bw_filter = df_bw[df_bw[\"Date\"]>\"10.01.2018\"]"
   ]
  },
  {
   "cell_type": "code",
   "execution_count": 30,
   "metadata": {},
   "outputs": [
    {
     "data": {
      "text/html": [
       "<div>\n",
       "<style scoped>\n",
       "    .dataframe tbody tr th:only-of-type {\n",
       "        vertical-align: middle;\n",
       "    }\n",
       "\n",
       "    .dataframe tbody tr th {\n",
       "        vertical-align: top;\n",
       "    }\n",
       "\n",
       "    .dataframe thead th {\n",
       "        text-align: right;\n",
       "    }\n",
       "</style>\n",
       "<table border=\"1\" class=\"dataframe\">\n",
       "  <thead>\n",
       "    <tr style=\"text-align: right;\">\n",
       "      <th></th>\n",
       "      <th>Reference</th>\n",
       "      <th>Name</th>\n",
       "      <th>Date</th>\n",
       "      <th>Net_Incomes</th>\n",
       "      <th>Units_sold</th>\n",
       "    </tr>\n",
       "  </thead>\n",
       "  <tbody>\n",
       "    <tr>\n",
       "      <th>33</th>\n",
       "      <td>6558</td>\n",
       "      <td>JARRÓN CILÍNDRICO VIDRIO</td>\n",
       "      <td>2018-12-09</td>\n",
       "      <td>13.97</td>\n",
       "      <td>1</td>\n",
       "    </tr>\n",
       "    <tr>\n",
       "      <th>37</th>\n",
       "      <td>6565</td>\n",
       "      <td>JARRÓN ESFERA VIDRIO</td>\n",
       "      <td>2018-11-08</td>\n",
       "      <td>11.08</td>\n",
       "      <td>1</td>\n",
       "    </tr>\n",
       "    <tr>\n",
       "      <th>38</th>\n",
       "      <td>6565</td>\n",
       "      <td>JARRÓN ESFERA VIDRIO</td>\n",
       "      <td>2018-11-23</td>\n",
       "      <td>22.14</td>\n",
       "      <td>2</td>\n",
       "    </tr>\n",
       "    <tr>\n",
       "      <th>39</th>\n",
       "      <td>6565</td>\n",
       "      <td>JARRÓN ESFERA VIDRIO</td>\n",
       "      <td>2019-02-04</td>\n",
       "      <td>14.90</td>\n",
       "      <td>1</td>\n",
       "    </tr>\n",
       "    <tr>\n",
       "      <th>40</th>\n",
       "      <td>6565</td>\n",
       "      <td>JARRÓN ESFERA VIDRIO</td>\n",
       "      <td>2019-03-12</td>\n",
       "      <td>12.31</td>\n",
       "      <td>1</td>\n",
       "    </tr>\n",
       "  </tbody>\n",
       "</table>\n",
       "</div>"
      ],
      "text/plain": [
       "    Reference                      Name       Date  Net_Incomes  Units_sold\n",
       "33       6558  JARRÓN CILÍNDRICO VIDRIO 2018-12-09        13.97           1\n",
       "37       6565      JARRÓN ESFERA VIDRIO 2018-11-08        11.08           1\n",
       "38       6565      JARRÓN ESFERA VIDRIO 2018-11-23        22.14           2\n",
       "39       6565      JARRÓN ESFERA VIDRIO 2019-02-04        14.90           1\n",
       "40       6565      JARRÓN ESFERA VIDRIO 2019-03-12        12.31           1"
      ]
     },
     "execution_count": 30,
     "metadata": {},
     "output_type": "execute_result"
    }
   ],
   "source": [
    "df_bw_filter.head(5)"
   ]
  },
  {
   "cell_type": "code",
   "execution_count": 31,
   "metadata": {},
   "outputs": [
    {
     "data": {
      "text/plain": [
       "(15032, 5)"
      ]
     },
     "execution_count": 31,
     "metadata": {},
     "output_type": "execute_result"
    }
   ],
   "source": [
    "df_bw_filter.shape"
   ]
  },
  {
   "cell_type": "markdown",
   "metadata": {},
   "source": [
    "Once I have obtained the selected data, I group by Reference and I enumerate how many days each reference has been sold during that period in order to be able to find the most sold products with high frequency."
   ]
  },
  {
   "cell_type": "code",
   "execution_count": 53,
   "metadata": {},
   "outputs": [
    {
     "data": {
      "text/html": [
       "<div>\n",
       "<style scoped>\n",
       "    .dataframe tbody tr th:only-of-type {\n",
       "        vertical-align: middle;\n",
       "    }\n",
       "\n",
       "    .dataframe tbody tr th {\n",
       "        vertical-align: top;\n",
       "    }\n",
       "\n",
       "    .dataframe thead th {\n",
       "        text-align: right;\n",
       "    }\n",
       "</style>\n",
       "<table border=\"1\" class=\"dataframe\">\n",
       "  <thead>\n",
       "    <tr style=\"text-align: right;\">\n",
       "      <th></th>\n",
       "      <th>Date</th>\n",
       "      <th>Units_sold</th>\n",
       "      <th>Net_Incomes</th>\n",
       "    </tr>\n",
       "    <tr>\n",
       "      <th>Reference</th>\n",
       "      <th></th>\n",
       "      <th></th>\n",
       "      <th></th>\n",
       "    </tr>\n",
       "  </thead>\n",
       "  <tbody>\n",
       "    <tr>\n",
       "      <th>265400</th>\n",
       "      <td>82</td>\n",
       "      <td>1092</td>\n",
       "      <td>0.0</td>\n",
       "    </tr>\n",
       "    <tr>\n",
       "      <th>265600</th>\n",
       "      <td>82</td>\n",
       "      <td>1092</td>\n",
       "      <td>0.0</td>\n",
       "    </tr>\n",
       "    <tr>\n",
       "      <th>251900</th>\n",
       "      <td>82</td>\n",
       "      <td>904</td>\n",
       "      <td>0.0</td>\n",
       "    </tr>\n",
       "    <tr>\n",
       "      <th>10040</th>\n",
       "      <td>58</td>\n",
       "      <td>562</td>\n",
       "      <td>0.0</td>\n",
       "    </tr>\n",
       "    <tr>\n",
       "      <th>10048</th>\n",
       "      <td>48</td>\n",
       "      <td>506</td>\n",
       "      <td>0.0</td>\n",
       "    </tr>\n",
       "  </tbody>\n",
       "</table>\n",
       "</div>"
      ],
      "text/plain": [
       "           Date  Units_sold  Net_Incomes\n",
       "Reference                               \n",
       "265400       82        1092          0.0\n",
       "265600       82        1092          0.0\n",
       "251900       82         904          0.0\n",
       "10040        58         562          0.0\n",
       "10048        48         506          0.0"
      ]
     },
     "execution_count": 53,
     "metadata": {},
     "output_type": "execute_result"
    }
   ],
   "source": [
    "df_bw_groupby = df_bw.groupby(by=\"Reference\").agg({\"Date\":\"count\", \"Units_sold\":\"sum\",\"Net_Incomes\":\"sum\"}).sort_values(by='Units_sold',ascending=False)\n",
    "df_bw_groupby.head(5)"
   ]
  },
  {
   "cell_type": "code",
   "execution_count": 46,
   "metadata": {},
   "outputs": [
    {
     "data": {
      "text/html": [
       "<div>\n",
       "<style scoped>\n",
       "    .dataframe tbody tr th:only-of-type {\n",
       "        vertical-align: middle;\n",
       "    }\n",
       "\n",
       "    .dataframe tbody tr th {\n",
       "        vertical-align: top;\n",
       "    }\n",
       "\n",
       "    .dataframe thead th {\n",
       "        text-align: right;\n",
       "    }\n",
       "</style>\n",
       "<table border=\"1\" class=\"dataframe\">\n",
       "  <thead>\n",
       "    <tr style=\"text-align: right;\">\n",
       "      <th></th>\n",
       "      <th>Date</th>\n",
       "      <th>Units_sold</th>\n",
       "      <th>Net_Incomes</th>\n",
       "    </tr>\n",
       "  </thead>\n",
       "  <tbody>\n",
       "    <tr>\n",
       "      <th>count</th>\n",
       "      <td>8477.000000</td>\n",
       "      <td>8477.000000</td>\n",
       "      <td>8477.000000</td>\n",
       "    </tr>\n",
       "    <tr>\n",
       "      <th>mean</th>\n",
       "      <td>4.286422</td>\n",
       "      <td>5.971334</td>\n",
       "      <td>260.089599</td>\n",
       "    </tr>\n",
       "    <tr>\n",
       "      <th>std</th>\n",
       "      <td>7.488394</td>\n",
       "      <td>13.186183</td>\n",
       "      <td>699.587363</td>\n",
       "    </tr>\n",
       "    <tr>\n",
       "      <th>min</th>\n",
       "      <td>1.000000</td>\n",
       "      <td>1.000000</td>\n",
       "      <td>2.150000</td>\n",
       "    </tr>\n",
       "    <tr>\n",
       "      <th>25%</th>\n",
       "      <td>1.000000</td>\n",
       "      <td>1.000000</td>\n",
       "      <td>32.930000</td>\n",
       "    </tr>\n",
       "    <tr>\n",
       "      <th>50%</th>\n",
       "      <td>2.000000</td>\n",
       "      <td>3.000000</td>\n",
       "      <td>78.350000</td>\n",
       "    </tr>\n",
       "    <tr>\n",
       "      <th>75%</th>\n",
       "      <td>4.000000</td>\n",
       "      <td>6.000000</td>\n",
       "      <td>218.600000</td>\n",
       "    </tr>\n",
       "    <tr>\n",
       "      <th>max</th>\n",
       "      <td>172.000000</td>\n",
       "      <td>416.000000</td>\n",
       "      <td>14050.750000</td>\n",
       "    </tr>\n",
       "  </tbody>\n",
       "</table>\n",
       "</div>"
      ],
      "text/plain": [
       "              Date   Units_sold   Net_Incomes\n",
       "count  8477.000000  8477.000000   8477.000000\n",
       "mean      4.286422     5.971334    260.089599\n",
       "std       7.488394    13.186183    699.587363\n",
       "min       1.000000     1.000000      2.150000\n",
       "25%       1.000000     1.000000     32.930000\n",
       "50%       2.000000     3.000000     78.350000\n",
       "75%       4.000000     6.000000    218.600000\n",
       "max     172.000000   416.000000  14050.750000"
      ]
     },
     "execution_count": 46,
     "metadata": {},
     "output_type": "execute_result"
    }
   ],
   "source": [
    "df_bw_groupby.describe()"
   ]
  },
  {
   "cell_type": "markdown",
   "metadata": {},
   "source": [
    "After grouping and checking the new dataframe, I should select the most suitable references for this study following these steps:\n",
    "   - Net_Incomes > 0€ in BW\n",
    "   - At least more than 30 days with a transaction\n",
    "   - At least more than 30 days of exposition in Adwords\n",
    "   - Cost > 0€ in Adwords"
   ]
  },
  {
   "cell_type": "markdown",
   "metadata": {},
   "source": [
    "Firstly, I filter net incomes over a 0€ and a minimum of 30 days with a transaction"
   ]
  },
  {
   "cell_type": "code",
   "execution_count": 56,
   "metadata": {},
   "outputs": [],
   "source": [
    "df_bw_groupby = df_bw_groupby[(df_bw_groupby[\"Net_Incomes\"]!=0) & (df_bw_groupby[\"Date\"]>=30)]"
   ]
  },
  {
   "cell_type": "markdown",
   "metadata": {},
   "source": [
    "Second, I must load the file which contains Adwords data:"
   ]
  },
  {
   "cell_type": "code",
   "execution_count": 88,
   "metadata": {},
   "outputs": [
    {
     "name": "stderr",
     "output_type": "stream",
     "text": [
      "/home/miguel/my_project_python/my_project_env/lib/python3.6/site-packages/IPython/core/interactiveshell.py:3049: DtypeWarning: Columns (6) have mixed types. Specify dtype option on import or set low_memory=False.\n",
      "  interactivity=interactivity, compiler=compiler, result=result)\n"
     ]
    }
   ],
   "source": [
    "df_ads_2018_19 = pd.read_csv('TFM_Datos_2018-19.csv', sep=';', error_bad_lines=True)"
   ]
  },
  {
   "cell_type": "code",
   "execution_count": 89,
   "metadata": {},
   "outputs": [
    {
     "data": {
      "text/html": [
       "<div>\n",
       "<style scoped>\n",
       "    .dataframe tbody tr th:only-of-type {\n",
       "        vertical-align: middle;\n",
       "    }\n",
       "\n",
       "    .dataframe tbody tr th {\n",
       "        vertical-align: top;\n",
       "    }\n",
       "\n",
       "    .dataframe thead th {\n",
       "        text-align: right;\n",
       "    }\n",
       "</style>\n",
       "<table border=\"1\" class=\"dataframe\">\n",
       "  <thead>\n",
       "    <tr style=\"text-align: right;\">\n",
       "      <th></th>\n",
       "      <th>ID de producto</th>\n",
       "      <th>Campaña</th>\n",
       "      <th>ID de la campaña</th>\n",
       "      <th>Tipo de producto (primer nivel)</th>\n",
       "      <th>Tipo de producto (segundo nivel)</th>\n",
       "      <th>Día</th>\n",
       "      <th>Etiqueta personalizada 1</th>\n",
       "      <th>CPC máximo predeterminado del grupo de anuncios</th>\n",
       "      <th>Moneda</th>\n",
       "      <th>Impresiones</th>\n",
       "      <th>...</th>\n",
       "      <th>CTR</th>\n",
       "      <th>CPC medio</th>\n",
       "      <th>Coste</th>\n",
       "      <th>Conversiones</th>\n",
       "      <th>Todas las conversiones</th>\n",
       "      <th>Tasa de conversión</th>\n",
       "      <th>Coste/conv.</th>\n",
       "      <th>Coste/todas las conversiones</th>\n",
       "      <th>Valor conv./coste</th>\n",
       "      <th>Valor de todas las conversiones/coste</th>\n",
       "    </tr>\n",
       "  </thead>\n",
       "  <tbody>\n",
       "    <tr>\n",
       "      <th>206594</th>\n",
       "      <td>123939</td>\n",
       "      <td>Shop_Muebles_Puffs_Y18_W12</td>\n",
       "      <td>1317839683</td>\n",
       "      <td>muebles</td>\n",
       "      <td>puffs</td>\n",
       "      <td>06/02/2019</td>\n",
       "      <td>40</td>\n",
       "      <td>0,25</td>\n",
       "      <td>EUR</td>\n",
       "      <td>262.0</td>\n",
       "      <td>...</td>\n",
       "      <td>0,00 %</td>\n",
       "      <td>0</td>\n",
       "      <td>0</td>\n",
       "      <td>0</td>\n",
       "      <td>0</td>\n",
       "      <td>0,00 %</td>\n",
       "      <td>0</td>\n",
       "      <td>0</td>\n",
       "      <td>0</td>\n",
       "      <td>0</td>\n",
       "    </tr>\n",
       "    <tr>\n",
       "      <th>149353</th>\n",
       "      <td>105589</td>\n",
       "      <td>Shop_Muebles_Sillones y butacas_Y18_W12</td>\n",
       "      <td>1317840426</td>\n",
       "      <td>muebles</td>\n",
       "      <td>sillones y butacas</td>\n",
       "      <td>12/11/2018</td>\n",
       "      <td>300</td>\n",
       "      <td>0,3</td>\n",
       "      <td>EUR</td>\n",
       "      <td>164.0</td>\n",
       "      <td>...</td>\n",
       "      <td>0,00 %</td>\n",
       "      <td>0</td>\n",
       "      <td>0</td>\n",
       "      <td>0</td>\n",
       "      <td>0</td>\n",
       "      <td>0,00 %</td>\n",
       "      <td>0</td>\n",
       "      <td>0</td>\n",
       "      <td>0</td>\n",
       "      <td>0</td>\n",
       "    </tr>\n",
       "    <tr>\n",
       "      <th>251140</th>\n",
       "      <td>74510</td>\n",
       "      <td>Shop_Navidad_Muñecos y figuras de navidad_Y18_W12</td>\n",
       "      <td>1323658312</td>\n",
       "      <td>decoración de navidad</td>\n",
       "      <td>muñecos y figuras de navidad</td>\n",
       "      <td>20/12/2018</td>\n",
       "      <td>30</td>\n",
       "      <td>0,14</td>\n",
       "      <td>EUR</td>\n",
       "      <td>7.0</td>\n",
       "      <td>...</td>\n",
       "      <td>14,29 %</td>\n",
       "      <td>0,09</td>\n",
       "      <td>0,09</td>\n",
       "      <td>0</td>\n",
       "      <td>0</td>\n",
       "      <td>0,00 %</td>\n",
       "      <td>0</td>\n",
       "      <td>0</td>\n",
       "      <td>0</td>\n",
       "      <td>0</td>\n",
       "    </tr>\n",
       "    <tr>\n",
       "      <th>239514</th>\n",
       "      <td>48745</td>\n",
       "      <td>Shop_Textil_hogar_N1_Y18_W37</td>\n",
       "      <td>1559765508</td>\n",
       "      <td>textil hogar</td>\n",
       "      <td>cortinas y visillos</td>\n",
       "      <td>03/10/2018</td>\n",
       "      <td>20</td>\n",
       "      <td>0,1</td>\n",
       "      <td>EUR</td>\n",
       "      <td>18.0</td>\n",
       "      <td>...</td>\n",
       "      <td>0,00 %</td>\n",
       "      <td>0</td>\n",
       "      <td>0</td>\n",
       "      <td>0</td>\n",
       "      <td>0</td>\n",
       "      <td>0,00 %</td>\n",
       "      <td>0</td>\n",
       "      <td>0</td>\n",
       "      <td>0</td>\n",
       "      <td>0</td>\n",
       "    </tr>\n",
       "    <tr>\n",
       "      <th>159512</th>\n",
       "      <td>30539</td>\n",
       "      <td>Shop_Smart_N1_Baño_Y19_W5</td>\n",
       "      <td>1623532023</td>\n",
       "      <td>baño</td>\n",
       "      <td>cestos de ropa</td>\n",
       "      <td>18/03/2019</td>\n",
       "      <td>20</td>\n",
       "      <td>0,01</td>\n",
       "      <td>EUR</td>\n",
       "      <td>0.0</td>\n",
       "      <td>...</td>\n",
       "      <td>0,00 %</td>\n",
       "      <td>0</td>\n",
       "      <td>0</td>\n",
       "      <td>0</td>\n",
       "      <td>0</td>\n",
       "      <td>0,00 %</td>\n",
       "      <td>0</td>\n",
       "      <td>0</td>\n",
       "      <td>0</td>\n",
       "      <td>0</td>\n",
       "    </tr>\n",
       "  </tbody>\n",
       "</table>\n",
       "<p>5 rows × 21 columns</p>\n",
       "</div>"
      ],
      "text/plain": [
       "        ID de producto                                            Campaña  \\\n",
       "206594          123939                         Shop_Muebles_Puffs_Y18_W12   \n",
       "149353          105589            Shop_Muebles_Sillones y butacas_Y18_W12   \n",
       "251140           74510  Shop_Navidad_Muñecos y figuras de navidad_Y18_W12   \n",
       "239514           48745                       Shop_Textil_hogar_N1_Y18_W37   \n",
       "159512           30539                          Shop_Smart_N1_Baño_Y19_W5   \n",
       "\n",
       "        ID de la campaña Tipo de producto (primer nivel)  \\\n",
       "206594        1317839683                         muebles   \n",
       "149353        1317840426                         muebles   \n",
       "251140        1323658312           decoración de navidad   \n",
       "239514        1559765508                    textil hogar   \n",
       "159512        1623532023                            baño   \n",
       "\n",
       "       Tipo de producto (segundo nivel)         Día Etiqueta personalizada 1  \\\n",
       "206594                            puffs  06/02/2019                       40   \n",
       "149353               sillones y butacas  12/11/2018                      300   \n",
       "251140     muñecos y figuras de navidad  20/12/2018                       30   \n",
       "239514              cortinas y visillos  03/10/2018                       20   \n",
       "159512                   cestos de ropa  18/03/2019                       20   \n",
       "\n",
       "       CPC máximo predeterminado del grupo de anuncios Moneda  Impresiones  \\\n",
       "206594                                            0,25    EUR        262.0   \n",
       "149353                                             0,3    EUR        164.0   \n",
       "251140                                            0,14    EUR          7.0   \n",
       "239514                                             0,1    EUR         18.0   \n",
       "159512                                            0,01    EUR          0.0   \n",
       "\n",
       "        ...      CTR CPC medio Coste Conversiones Todas las conversiones  \\\n",
       "206594  ...   0,00 %         0     0            0                      0   \n",
       "149353  ...   0,00 %         0     0            0                      0   \n",
       "251140  ...  14,29 %      0,09  0,09            0                      0   \n",
       "239514  ...   0,00 %         0     0            0                      0   \n",
       "159512  ...   0,00 %         0     0            0                      0   \n",
       "\n",
       "       Tasa de conversión Coste/conv. Coste/todas las conversiones  \\\n",
       "206594             0,00 %           0                            0   \n",
       "149353             0,00 %           0                            0   \n",
       "251140             0,00 %           0                            0   \n",
       "239514             0,00 %           0                            0   \n",
       "159512             0,00 %           0                            0   \n",
       "\n",
       "       Valor conv./coste Valor de todas las conversiones/coste  \n",
       "206594                 0                                     0  \n",
       "149353                 0                                     0  \n",
       "251140                 0                                     0  \n",
       "239514                 0                                     0  \n",
       "159512                 0                                     0  \n",
       "\n",
       "[5 rows x 21 columns]"
      ]
     },
     "execution_count": 89,
     "metadata": {},
     "output_type": "execute_result"
    }
   ],
   "source": [
    "df_ads_2018_19.sample(5)"
   ]
  },
  {
   "cell_type": "code",
   "execution_count": 90,
   "metadata": {},
   "outputs": [
    {
     "data": {
      "text/plain": [
       "(447539, 21)"
      ]
     },
     "execution_count": 90,
     "metadata": {},
     "output_type": "execute_result"
    }
   ],
   "source": [
    "df_ads_2018_19.shape"
   ]
  },
  {
   "cell_type": "code",
   "execution_count": 91,
   "metadata": {},
   "outputs": [
    {
     "name": "stdout",
     "output_type": "stream",
     "text": [
      "<class 'pandas.core.frame.DataFrame'>\n",
      "RangeIndex: 447539 entries, 0 to 447538\n",
      "Data columns (total 21 columns):\n",
      "ID de producto                                     447539 non-null int64\n",
      "Campaña                                            447539 non-null object\n",
      "ID de la campaña                                   447539 non-null int64\n",
      "Tipo de producto (primer nivel)                    447539 non-null object\n",
      "Tipo de producto (segundo nivel)                   447539 non-null object\n",
      "Día                                                447539 non-null object\n",
      "Etiqueta personalizada 1                           447539 non-null object\n",
      "CPC máximo predeterminado del grupo de anuncios    447539 non-null object\n",
      "Moneda                                             447539 non-null object\n",
      "Impresiones                                        447539 non-null float64\n",
      "Clics                                              447539 non-null int64\n",
      "CTR                                                447539 non-null object\n",
      "CPC medio                                          447539 non-null object\n",
      "Coste                                              447539 non-null object\n",
      "Conversiones                                       447539 non-null object\n",
      "Todas las conversiones                             447539 non-null object\n",
      "Tasa de conversión                                 447539 non-null object\n",
      "Coste/conv.                                        447539 non-null object\n",
      "Coste/todas las conversiones                       447539 non-null object\n",
      "Valor conv./coste                                  447539 non-null object\n",
      "Valor de todas las conversiones/coste              447539 non-null object\n",
      "dtypes: float64(1), int64(3), object(17)\n",
      "memory usage: 71.7+ MB\n"
     ]
    }
   ],
   "source": [
    "df_ads_2018_19.info()"
   ]
  },
  {
   "cell_type": "markdown",
   "metadata": {},
   "source": [
    "After checking the file, let choosing the required columns to analyze cost and day' transactions"
   ]
  },
  {
   "cell_type": "code",
   "execution_count": 104,
   "metadata": {},
   "outputs": [],
   "source": [
    "columns_interest = [\"ID de producto\", \"Día\", \"Coste\"]\n",
    "df_ads = df_ads_2018_19[columns_interest]"
   ]
  },
  {
   "cell_type": "code",
   "execution_count": 105,
   "metadata": {},
   "outputs": [
    {
     "data": {
      "text/html": [
       "<div>\n",
       "<style scoped>\n",
       "    .dataframe tbody tr th:only-of-type {\n",
       "        vertical-align: middle;\n",
       "    }\n",
       "\n",
       "    .dataframe tbody tr th {\n",
       "        vertical-align: top;\n",
       "    }\n",
       "\n",
       "    .dataframe thead th {\n",
       "        text-align: right;\n",
       "    }\n",
       "</style>\n",
       "<table border=\"1\" class=\"dataframe\">\n",
       "  <thead>\n",
       "    <tr style=\"text-align: right;\">\n",
       "      <th></th>\n",
       "      <th>ID de producto</th>\n",
       "      <th>Día</th>\n",
       "      <th>Coste</th>\n",
       "    </tr>\n",
       "  </thead>\n",
       "  <tbody>\n",
       "    <tr>\n",
       "      <th>0</th>\n",
       "      <td>127156</td>\n",
       "      <td>20/02/2019</td>\n",
       "      <td>0</td>\n",
       "    </tr>\n",
       "    <tr>\n",
       "      <th>1</th>\n",
       "      <td>104268</td>\n",
       "      <td>16/10/2018</td>\n",
       "      <td>0</td>\n",
       "    </tr>\n",
       "    <tr>\n",
       "      <th>2</th>\n",
       "      <td>123872</td>\n",
       "      <td>25/03/2019</td>\n",
       "      <td>0</td>\n",
       "    </tr>\n",
       "    <tr>\n",
       "      <th>3</th>\n",
       "      <td>110275</td>\n",
       "      <td>18/12/2018</td>\n",
       "      <td>0</td>\n",
       "    </tr>\n",
       "    <tr>\n",
       "      <th>4</th>\n",
       "      <td>49843</td>\n",
       "      <td>16/02/2019</td>\n",
       "      <td>0</td>\n",
       "    </tr>\n",
       "  </tbody>\n",
       "</table>\n",
       "</div>"
      ],
      "text/plain": [
       "   ID de producto         Día Coste\n",
       "0          127156  20/02/2019     0\n",
       "1          104268  16/10/2018     0\n",
       "2          123872  25/03/2019     0\n",
       "3          110275  18/12/2018     0\n",
       "4           49843  16/02/2019     0"
      ]
     },
     "execution_count": 105,
     "metadata": {},
     "output_type": "execute_result"
    }
   ],
   "source": [
    "df_ads.head(5)"
   ]
  },
  {
   "cell_type": "markdown",
   "metadata": {},
   "source": [
    "Once, I have filtered, I should repeat the same process as in the previous file:\n",
    "    - Rename columns\n",
    "    - Column \"Día\" from string to datetime and column \"Coste\" from string to float64\n",
    "    - Groupby by \"ID de producto\" and agreggate \"Día\" as count and \"Coste\" as sum(it is not necessary to filter by date because the file contains the period analyzed)"
   ]
  },
  {
   "cell_type": "code",
   "execution_count": 113,
   "metadata": {},
   "outputs": [],
   "source": [
    "#Step1: Rename\n",
    "df_ads = df_ads.rename(index=str, columns={\"ID de producto\":\"Reference\", \"Día\":\"Date\", \"Coste\":\"Cost\"})\n",
    "\n",
    "#Step2: from string to datetime and float\n",
    "df_ads[\"Date\"] = pd.to_datetime(df_ads[\"Date\"], format = '%d/%m/%Y')\n",
    "df_ads[\"Cost\"] = pd.to_numeric(df_ads[\"Cost\"], errors='coerce')\n",
    "\n",
    "#Step3: grouping\n",
    "df_ads_groupby = df_ads.groupby(by=\"Reference\").agg({\"Date\":\"count\", \"Cost\":\"sum\"}).sort_values(by='Date',ascending=False)"
   ]
  },
  {
   "cell_type": "code",
   "execution_count": 114,
   "metadata": {},
   "outputs": [
    {
     "data": {
      "text/html": [
       "<div>\n",
       "<style scoped>\n",
       "    .dataframe tbody tr th:only-of-type {\n",
       "        vertical-align: middle;\n",
       "    }\n",
       "\n",
       "    .dataframe tbody tr th {\n",
       "        vertical-align: top;\n",
       "    }\n",
       "\n",
       "    .dataframe thead th {\n",
       "        text-align: right;\n",
       "    }\n",
       "</style>\n",
       "<table border=\"1\" class=\"dataframe\">\n",
       "  <thead>\n",
       "    <tr style=\"text-align: right;\">\n",
       "      <th></th>\n",
       "      <th>Date</th>\n",
       "      <th>Cost</th>\n",
       "    </tr>\n",
       "    <tr>\n",
       "      <th>Reference</th>\n",
       "      <th></th>\n",
       "      <th></th>\n",
       "    </tr>\n",
       "  </thead>\n",
       "  <tbody>\n",
       "    <tr>\n",
       "      <th>123759</th>\n",
       "      <td>200</td>\n",
       "      <td>0.0</td>\n",
       "    </tr>\n",
       "    <tr>\n",
       "      <th>106198</th>\n",
       "      <td>195</td>\n",
       "      <td>0.0</td>\n",
       "    </tr>\n",
       "    <tr>\n",
       "      <th>103989</th>\n",
       "      <td>191</td>\n",
       "      <td>1.0</td>\n",
       "    </tr>\n",
       "    <tr>\n",
       "      <th>106186</th>\n",
       "      <td>191</td>\n",
       "      <td>3.0</td>\n",
       "    </tr>\n",
       "    <tr>\n",
       "      <th>106159</th>\n",
       "      <td>191</td>\n",
       "      <td>0.0</td>\n",
       "    </tr>\n",
       "  </tbody>\n",
       "</table>\n",
       "</div>"
      ],
      "text/plain": [
       "           Date  Cost\n",
       "Reference            \n",
       "123759      200   0.0\n",
       "106198      195   0.0\n",
       "103989      191   1.0\n",
       "106186      191   3.0\n",
       "106159      191   0.0"
      ]
     },
     "execution_count": 114,
     "metadata": {},
     "output_type": "execute_result"
    }
   ],
   "source": [
    "df_ads_groupby.head(5)"
   ]
  },
  {
   "cell_type": "code",
   "execution_count": null,
   "metadata": {},
   "outputs": [],
   "source": []
  }
 ],
 "metadata": {
  "kernelspec": {
   "display_name": "Python 3",
   "language": "python",
   "name": "python3"
  },
  "language_info": {
   "codemirror_mode": {
    "name": "ipython",
    "version": 3
   },
   "file_extension": ".py",
   "mimetype": "text/x-python",
   "name": "python",
   "nbconvert_exporter": "python",
   "pygments_lexer": "ipython3",
   "version": "3.6.7"
  }
 },
 "nbformat": 4,
 "nbformat_minor": 2
}
