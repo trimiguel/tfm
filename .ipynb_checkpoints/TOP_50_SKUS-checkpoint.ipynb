{
 "cells": [
  {
   "cell_type": "markdown",
   "metadata": {},
   "source": [
    "### TOP 50 SKUS\n",
    "\n",
    "In this section, I am going to analyze which are the references most sold in the last 6 months (from 1 october 2018 to 31 march 2019)."
   ]
  },
  {
   "cell_type": "markdown",
   "metadata": {},
   "source": [
    "First of all, we set as path the directory which contains the data"
   ]
  },
  {
   "cell_type": "code",
   "execution_count": 10,
   "metadata": {},
   "outputs": [],
   "source": [
    "import os\n",
    "\n",
    "path = '/home/miguel/Escritorio/TFM'\n",
    "os.chdir(path)"
   ]
  },
  {
   "cell_type": "code",
   "execution_count": 11,
   "metadata": {},
   "outputs": [
    {
     "data": {
      "text/plain": [
       "'/home/miguel/Escritorio/TFM'"
      ]
     },
     "execution_count": 11,
     "metadata": {},
     "output_type": "execute_result"
    }
   ],
   "source": [
    "pwd"
   ]
  },
  {
   "cell_type": "markdown",
   "metadata": {},
   "source": [
    "Secondly, I import the libraries that I am going to work in this script"
   ]
  },
  {
   "cell_type": "code",
   "execution_count": 12,
   "metadata": {},
   "outputs": [],
   "source": [
    "import pandas as pd\n",
    "import numpy as np\n",
    "import seaborn as sns\n",
    "import matplotlib.pyplot as plt\n",
    "%matplotlib inline"
   ]
  },
  {
   "cell_type": "markdown",
   "metadata": {},
   "source": [
    "After that, I load xlsx file with the required data:\n",
    "    - References\n",
    "    - Name References\n",
    "    - Date time \n",
    "    - Net incomes\n",
    "    - Units sold per transaction"
   ]
  },
  {
   "cell_type": "code",
   "execution_count": 13,
   "metadata": {},
   "outputs": [],
   "source": [
    "df_bw = pd.read_excel('BW.xlsx', sheet_name=\"BW\")"
   ]
  },
  {
   "cell_type": "code",
   "execution_count": 14,
   "metadata": {},
   "outputs": [
    {
     "data": {
      "text/html": [
       "<div>\n",
       "<style scoped>\n",
       "    .dataframe tbody tr th:only-of-type {\n",
       "        vertical-align: middle;\n",
       "    }\n",
       "\n",
       "    .dataframe tbody tr th {\n",
       "        vertical-align: top;\n",
       "    }\n",
       "\n",
       "    .dataframe thead th {\n",
       "        text-align: right;\n",
       "    }\n",
       "</style>\n",
       "<table border=\"1\" class=\"dataframe\">\n",
       "  <thead>\n",
       "    <tr style=\"text-align: right;\">\n",
       "      <th></th>\n",
       "      <th>Referencia</th>\n",
       "      <th>Name</th>\n",
       "      <th>T Día natural</th>\n",
       "      <th>Valor neto pedidos</th>\n",
       "      <th>Cantidad en unidades (pedidos)</th>\n",
       "    </tr>\n",
       "  </thead>\n",
       "  <tbody>\n",
       "    <tr>\n",
       "      <th>0</th>\n",
       "      <td>4623</td>\n",
       "      <td>ESPEJO PUERTA \"LCC\" BLANCO POLIETILENO</td>\n",
       "      <td>11.09.2017</td>\n",
       "      <td>18.93</td>\n",
       "      <td>1</td>\n",
       "    </tr>\n",
       "    <tr>\n",
       "      <th>1</th>\n",
       "      <td>4623</td>\n",
       "      <td>ESPEJO PUERTA \"LCC\" BLANCO POLIETILENO</td>\n",
       "      <td>21.09.2017</td>\n",
       "      <td>18.93</td>\n",
       "      <td>1</td>\n",
       "    </tr>\n",
       "    <tr>\n",
       "      <th>2</th>\n",
       "      <td>4623</td>\n",
       "      <td>ESPEJO PUERTA \"LCC\" BLANCO POLIETILENO</td>\n",
       "      <td>08.10.2017</td>\n",
       "      <td>16.08</td>\n",
       "      <td>1</td>\n",
       "    </tr>\n",
       "    <tr>\n",
       "      <th>3</th>\n",
       "      <td>4623</td>\n",
       "      <td>ESPEJO PUERTA \"LCC\" BLANCO POLIETILENO</td>\n",
       "      <td>16.10.2017</td>\n",
       "      <td>16.08</td>\n",
       "      <td>1</td>\n",
       "    </tr>\n",
       "    <tr>\n",
       "      <th>4</th>\n",
       "      <td>4623</td>\n",
       "      <td>ESPEJO PUERTA \"LCC\" BLANCO POLIETILENO</td>\n",
       "      <td>21.10.2017</td>\n",
       "      <td>16.08</td>\n",
       "      <td>1</td>\n",
       "    </tr>\n",
       "  </tbody>\n",
       "</table>\n",
       "</div>"
      ],
      "text/plain": [
       "   Referencia                                    Name T Día natural  \\\n",
       "0        4623  ESPEJO PUERTA \"LCC\" BLANCO POLIETILENO    11.09.2017   \n",
       "1        4623  ESPEJO PUERTA \"LCC\" BLANCO POLIETILENO    21.09.2017   \n",
       "2        4623  ESPEJO PUERTA \"LCC\" BLANCO POLIETILENO    08.10.2017   \n",
       "3        4623  ESPEJO PUERTA \"LCC\" BLANCO POLIETILENO    16.10.2017   \n",
       "4        4623  ESPEJO PUERTA \"LCC\" BLANCO POLIETILENO    21.10.2017   \n",
       "\n",
       "   Valor neto pedidos  Cantidad en unidades (pedidos)  \n",
       "0               18.93                               1  \n",
       "1               18.93                               1  \n",
       "2               16.08                               1  \n",
       "3               16.08                               1  \n",
       "4               16.08                               1  "
      ]
     },
     "execution_count": 14,
     "metadata": {},
     "output_type": "execute_result"
    }
   ],
   "source": [
    "df_bw.head(5)"
   ]
  },
  {
   "cell_type": "markdown",
   "metadata": {},
   "source": [
    "I also check the shape and info of this data"
   ]
  },
  {
   "cell_type": "code",
   "execution_count": 15,
   "metadata": {},
   "outputs": [
    {
     "data": {
      "text/plain": [
       "(37614, 5)"
      ]
     },
     "execution_count": 15,
     "metadata": {},
     "output_type": "execute_result"
    }
   ],
   "source": [
    "df_bw.shape"
   ]
  },
  {
   "cell_type": "code",
   "execution_count": 16,
   "metadata": {},
   "outputs": [
    {
     "name": "stdout",
     "output_type": "stream",
     "text": [
      "<class 'pandas.core.frame.DataFrame'>\n",
      "RangeIndex: 37614 entries, 0 to 37613\n",
      "Data columns (total 5 columns):\n",
      "Referencia                        37614 non-null int64\n",
      "Name                              37614 non-null object\n",
      "T Día natural                     37614 non-null object\n",
      "Valor neto pedidos                37614 non-null float64\n",
      "Cantidad en unidades (pedidos)    37614 non-null int64\n",
      "dtypes: float64(1), int64(2), object(2)\n",
      "memory usage: 1.4+ MB\n"
     ]
    }
   ],
   "source": [
    "df_bw.info()"
   ]
  },
  {
   "cell_type": "markdown",
   "metadata": {},
   "source": [
    "It is all right.\n",
    "\n",
    "Then, I continue renaming the columns with the purpose of removing black spaces"
   ]
  },
  {
   "cell_type": "code",
   "execution_count": 17,
   "metadata": {},
   "outputs": [],
   "source": [
    "df_bw = df_bw.rename(index=str, columns={\"Referencia\":\"Reference\", \"T Día natural\":\"Date\", \"Valor neto pedidos\":\"Net_Incomes\", \"Cantidad en unidades (pedidos)\":\"Units_sold\"})"
   ]
  },
  {
   "cell_type": "code",
   "execution_count": 18,
   "metadata": {},
   "outputs": [
    {
     "data": {
      "text/html": [
       "<div>\n",
       "<style scoped>\n",
       "    .dataframe tbody tr th:only-of-type {\n",
       "        vertical-align: middle;\n",
       "    }\n",
       "\n",
       "    .dataframe tbody tr th {\n",
       "        vertical-align: top;\n",
       "    }\n",
       "\n",
       "    .dataframe thead th {\n",
       "        text-align: right;\n",
       "    }\n",
       "</style>\n",
       "<table border=\"1\" class=\"dataframe\">\n",
       "  <thead>\n",
       "    <tr style=\"text-align: right;\">\n",
       "      <th></th>\n",
       "      <th>Reference</th>\n",
       "      <th>Name</th>\n",
       "      <th>Date</th>\n",
       "      <th>Net_Incomes</th>\n",
       "      <th>Units_sold</th>\n",
       "    </tr>\n",
       "  </thead>\n",
       "  <tbody>\n",
       "    <tr>\n",
       "      <th>0</th>\n",
       "      <td>4623</td>\n",
       "      <td>ESPEJO PUERTA \"LCC\" BLANCO POLIETILENO</td>\n",
       "      <td>11.09.2017</td>\n",
       "      <td>18.93</td>\n",
       "      <td>1</td>\n",
       "    </tr>\n",
       "    <tr>\n",
       "      <th>1</th>\n",
       "      <td>4623</td>\n",
       "      <td>ESPEJO PUERTA \"LCC\" BLANCO POLIETILENO</td>\n",
       "      <td>21.09.2017</td>\n",
       "      <td>18.93</td>\n",
       "      <td>1</td>\n",
       "    </tr>\n",
       "    <tr>\n",
       "      <th>2</th>\n",
       "      <td>4623</td>\n",
       "      <td>ESPEJO PUERTA \"LCC\" BLANCO POLIETILENO</td>\n",
       "      <td>08.10.2017</td>\n",
       "      <td>16.08</td>\n",
       "      <td>1</td>\n",
       "    </tr>\n",
       "    <tr>\n",
       "      <th>3</th>\n",
       "      <td>4623</td>\n",
       "      <td>ESPEJO PUERTA \"LCC\" BLANCO POLIETILENO</td>\n",
       "      <td>16.10.2017</td>\n",
       "      <td>16.08</td>\n",
       "      <td>1</td>\n",
       "    </tr>\n",
       "    <tr>\n",
       "      <th>4</th>\n",
       "      <td>4623</td>\n",
       "      <td>ESPEJO PUERTA \"LCC\" BLANCO POLIETILENO</td>\n",
       "      <td>21.10.2017</td>\n",
       "      <td>16.08</td>\n",
       "      <td>1</td>\n",
       "    </tr>\n",
       "  </tbody>\n",
       "</table>\n",
       "</div>"
      ],
      "text/plain": [
       "   Reference                                    Name        Date  Net_Incomes  \\\n",
       "0       4623  ESPEJO PUERTA \"LCC\" BLANCO POLIETILENO  11.09.2017        18.93   \n",
       "1       4623  ESPEJO PUERTA \"LCC\" BLANCO POLIETILENO  21.09.2017        18.93   \n",
       "2       4623  ESPEJO PUERTA \"LCC\" BLANCO POLIETILENO  08.10.2017        16.08   \n",
       "3       4623  ESPEJO PUERTA \"LCC\" BLANCO POLIETILENO  16.10.2017        16.08   \n",
       "4       4623  ESPEJO PUERTA \"LCC\" BLANCO POLIETILENO  21.10.2017        16.08   \n",
       "\n",
       "   Units_sold  \n",
       "0           1  \n",
       "1           1  \n",
       "2           1  \n",
       "3           1  \n",
       "4           1  "
      ]
     },
     "execution_count": 18,
     "metadata": {},
     "output_type": "execute_result"
    }
   ],
   "source": [
    "df_bw.head(5)"
   ]
  },
  {
   "cell_type": "markdown",
   "metadata": {},
   "source": [
    "Now, I filter the transactions from 1 october 2018 to 31 march 2019.\n",
    "\n",
    "To develop correctly this filter, it is necessary to change \"Date\" column from object type to datetime"
   ]
  },
  {
   "cell_type": "code",
   "execution_count": 19,
   "metadata": {},
   "outputs": [],
   "source": [
    "from datetime import datetime"
   ]
  },
  {
   "cell_type": "code",
   "execution_count": 20,
   "metadata": {},
   "outputs": [],
   "source": [
    "df_bw[\"Date\"] = pd.to_datetime(df_bw[\"Date\"], format = '%d.%m.%Y')"
   ]
  },
  {
   "cell_type": "code",
   "execution_count": null,
   "metadata": {},
   "outputs": [],
   "source": []
  }
 ],
 "metadata": {
  "kernelspec": {
   "display_name": "Python 3",
   "language": "python",
   "name": "python3"
  },
  "language_info": {
   "codemirror_mode": {
    "name": "ipython",
    "version": 3
   },
   "file_extension": ".py",
   "mimetype": "text/x-python",
   "name": "python",
   "nbconvert_exporter": "python",
   "pygments_lexer": "ipython3",
   "version": "3.6.7"
  }
 },
 "nbformat": 4,
 "nbformat_minor": 2
}
