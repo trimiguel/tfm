{
 "cells": [
  {
   "cell_type": "markdown",
   "metadata": {},
   "source": [
    "# HACER INIT CON LA CARGA DEL ARCHIVO Y PEGARLO TAMBIEN EN CO1"
   ]
  },
  {
   "cell_type": "markdown",
   "metadata": {},
   "source": [
    "# REVISAR\n",
    "\n",
    "# BW\n",
    "\n",
    "In this notebook, I am going to merge work with BW dataset that contains following column information:\n",
    "    - Reference\n",
    "    - Date\n",
    "    - Pageviews"
   ]
  },
  {
   "cell_type": "code",
   "execution_count": 12,
   "metadata": {},
   "outputs": [],
   "source": [
    "from datetime import datetime\n",
    "import numpy as np\n",
    "import pandas as pd\n",
    "import io #IO SIRVE?\n",
    "import os"
   ]
  },
  {
   "cell_type": "markdown",
   "metadata": {},
   "source": [
    "I set the directory to open \"BW\" dataset"
   ]
  },
  {
   "cell_type": "code",
   "execution_count": 13,
   "metadata": {},
   "outputs": [],
   "source": [
    "path = \"/media/sf_Carpeta/Smart_Shopping/Data/BW\"\n",
    "os.chdir(path)"
   ]
  },
  {
   "cell_type": "code",
   "execution_count": 14,
   "metadata": {},
   "outputs": [
    {
     "data": {
      "text/plain": [
       "'/media/sf_Carpeta/Smart_Shopping/Data/BW'"
      ]
     },
     "execution_count": 14,
     "metadata": {},
     "output_type": "execute_result"
    }
   ],
   "source": [
    "pwd"
   ]
  },
  {
   "cell_type": "markdown",
   "metadata": {},
   "source": [
    "I open the excel file and I check it"
   ]
  },
  {
   "cell_type": "code",
   "execution_count": 19,
   "metadata": {},
   "outputs": [],
   "source": [
    "df_bw = pd.read_excel(\"BW.xlsx\", sheet_name=\"BW\")"
   ]
  },
  {
   "cell_type": "code",
   "execution_count": 20,
   "metadata": {},
   "outputs": [
    {
     "data": {
      "text/html": [
       "<div>\n",
       "<style scoped>\n",
       "    .dataframe tbody tr th:only-of-type {\n",
       "        vertical-align: middle;\n",
       "    }\n",
       "\n",
       "    .dataframe tbody tr th {\n",
       "        vertical-align: top;\n",
       "    }\n",
       "\n",
       "    .dataframe thead th {\n",
       "        text-align: right;\n",
       "    }\n",
       "</style>\n",
       "<table border=\"1\" class=\"dataframe\">\n",
       "  <thead>\n",
       "    <tr style=\"text-align: right;\">\n",
       "      <th></th>\n",
       "      <th>Referencia</th>\n",
       "      <th>Name</th>\n",
       "      <th>T Día natural</th>\n",
       "      <th>Valor neto pedidos</th>\n",
       "      <th>Cantidad en unidades (pedidos)</th>\n",
       "    </tr>\n",
       "  </thead>\n",
       "  <tbody>\n",
       "    <tr>\n",
       "      <th>0</th>\n",
       "      <td>4623</td>\n",
       "      <td>ESPEJO PUERTA \"LCC\" BLANCO POLIETILENO</td>\n",
       "      <td>11.09.2017</td>\n",
       "      <td>18.93</td>\n",
       "      <td>1</td>\n",
       "    </tr>\n",
       "    <tr>\n",
       "      <th>1</th>\n",
       "      <td>4623</td>\n",
       "      <td>ESPEJO PUERTA \"LCC\" BLANCO POLIETILENO</td>\n",
       "      <td>21.09.2017</td>\n",
       "      <td>18.93</td>\n",
       "      <td>1</td>\n",
       "    </tr>\n",
       "    <tr>\n",
       "      <th>2</th>\n",
       "      <td>4623</td>\n",
       "      <td>ESPEJO PUERTA \"LCC\" BLANCO POLIETILENO</td>\n",
       "      <td>08.10.2017</td>\n",
       "      <td>16.08</td>\n",
       "      <td>1</td>\n",
       "    </tr>\n",
       "    <tr>\n",
       "      <th>3</th>\n",
       "      <td>4623</td>\n",
       "      <td>ESPEJO PUERTA \"LCC\" BLANCO POLIETILENO</td>\n",
       "      <td>16.10.2017</td>\n",
       "      <td>16.08</td>\n",
       "      <td>1</td>\n",
       "    </tr>\n",
       "    <tr>\n",
       "      <th>4</th>\n",
       "      <td>4623</td>\n",
       "      <td>ESPEJO PUERTA \"LCC\" BLANCO POLIETILENO</td>\n",
       "      <td>21.10.2017</td>\n",
       "      <td>16.08</td>\n",
       "      <td>1</td>\n",
       "    </tr>\n",
       "  </tbody>\n",
       "</table>\n",
       "</div>"
      ],
      "text/plain": [
       "   Referencia                                    Name T Día natural  \\\n",
       "0        4623  ESPEJO PUERTA \"LCC\" BLANCO POLIETILENO    11.09.2017   \n",
       "1        4623  ESPEJO PUERTA \"LCC\" BLANCO POLIETILENO    21.09.2017   \n",
       "2        4623  ESPEJO PUERTA \"LCC\" BLANCO POLIETILENO    08.10.2017   \n",
       "3        4623  ESPEJO PUERTA \"LCC\" BLANCO POLIETILENO    16.10.2017   \n",
       "4        4623  ESPEJO PUERTA \"LCC\" BLANCO POLIETILENO    21.10.2017   \n",
       "\n",
       "   Valor neto pedidos  Cantidad en unidades (pedidos)  \n",
       "0               18.93                               1  \n",
       "1               18.93                               1  \n",
       "2               16.08                               1  \n",
       "3               16.08                               1  \n",
       "4               16.08                               1  "
      ]
     },
     "execution_count": 20,
     "metadata": {},
     "output_type": "execute_result"
    }
   ],
   "source": [
    "df_bw.head(5)"
   ]
  },
  {
   "cell_type": "markdown",
   "metadata": {},
   "source": [
    "I rename the columns"
   ]
  },
  {
   "cell_type": "code",
   "execution_count": 21,
   "metadata": {},
   "outputs": [],
   "source": [
    "df_bw = df_bw.rename(index=str, columns={\"Referencia\":\"Reference\", \"T Día natural\": \"Date\", \"Valor neto pedidos\": \"Net Incomes\", \"Cantidad en unidades (pedidos)\": \"Units_Sold\"})"
   ]
  },
  {
   "cell_type": "markdown",
   "metadata": {},
   "source": [
    "I check type of series"
   ]
  },
  {
   "cell_type": "code",
   "execution_count": 22,
   "metadata": {},
   "outputs": [
    {
     "name": "stdout",
     "output_type": "stream",
     "text": [
      "<class 'pandas.core.frame.DataFrame'>\n",
      "Index: 37614 entries, 0 to 37613\n",
      "Data columns (total 5 columns):\n",
      "Reference      37614 non-null int64\n",
      "Name           37614 non-null object\n",
      "Date           37614 non-null object\n",
      "Net Incomes    37614 non-null float64\n",
      "Units_Sold     37614 non-null int64\n",
      "dtypes: float64(1), int64(2), object(2)\n",
      "memory usage: 1.7+ MB\n"
     ]
    }
   ],
   "source": [
    "df_bw.info()"
   ]
  },
  {
   "cell_type": "markdown",
   "metadata": {},
   "source": [
    "I parse datetime column"
   ]
  },
  {
   "cell_type": "code",
   "execution_count": 23,
   "metadata": {},
   "outputs": [],
   "source": [
    "df_bw[\"Date\"] = pd.to_datetime(df_bw[\"Date\"], format = \"%d.%m.%Y\")"
   ]
  },
  {
   "cell_type": "markdown",
   "metadata": {},
   "source": [
    "I also change \"Reference\" column from int64 to string in order to create a list later"
   ]
  },
  {
   "cell_type": "code",
   "execution_count": 24,
   "metadata": {},
   "outputs": [],
   "source": [
    "df_bw[\"Reference\"] = df_bw[\"Reference\"].apply(str)"
   ]
  },
  {
   "cell_type": "markdown",
   "metadata": {},
   "source": [
    "I check again the info of columns type"
   ]
  },
  {
   "cell_type": "code",
   "execution_count": 25,
   "metadata": {},
   "outputs": [
    {
     "name": "stdout",
     "output_type": "stream",
     "text": [
      "<class 'pandas.core.frame.DataFrame'>\n",
      "Index: 37614 entries, 0 to 37613\n",
      "Data columns (total 5 columns):\n",
      "Reference      37614 non-null object\n",
      "Name           37614 non-null object\n",
      "Date           37614 non-null datetime64[ns]\n",
      "Net Incomes    37614 non-null float64\n",
      "Units_Sold     37614 non-null int64\n",
      "dtypes: datetime64[ns](1), float64(1), int64(1), object(2)\n",
      "memory usage: 1.7+ MB\n"
     ]
    }
   ],
   "source": [
    "df_bw.info()"
   ]
  },
  {
   "cell_type": "markdown",
   "metadata": {},
   "source": [
    "I write the steps to split dataframes into different dataframes"
   ]
  },
  {
   "cell_type": "code",
   "execution_count": 26,
   "metadata": {},
   "outputs": [],
   "source": [
    "#create some data with Names column\n",
    "#data = pd.DataFrame({'Names': ['Joe', 'John', 'Jasper', 'Jez'] *4, 'Ob1' : np.random.rand(16), 'Ob2' : np.random.rand(16)})\n",
    "\n",
    "#create unique list of names\n",
    "#UniqueNames = data.Names.unique()\n",
    "referencess = df_bw['Reference'].unique().tolist()\n",
    "\n",
    "#create a data frame dictionary to store your data frames\n",
    "DataFrameDict = {elem : pd.DataFrame for elem in referencess}\n",
    "\n",
    "for key in DataFrameDict.keys():\n",
    "    DataFrameDict[key] = df_bw[:][df_bw.Reference == key]"
   ]
  },
  {
   "cell_type": "markdown",
   "metadata": {},
   "source": [
    "I use a reference id as example to check if it is working correctly"
   ]
  },
  {
   "cell_type": "code",
   "execution_count": 27,
   "metadata": {
    "scrolled": true
   },
   "outputs": [
    {
     "data": {
      "text/html": [
       "<div>\n",
       "<style scoped>\n",
       "    .dataframe tbody tr th:only-of-type {\n",
       "        vertical-align: middle;\n",
       "    }\n",
       "\n",
       "    .dataframe tbody tr th {\n",
       "        vertical-align: top;\n",
       "    }\n",
       "\n",
       "    .dataframe thead th {\n",
       "        text-align: right;\n",
       "    }\n",
       "</style>\n",
       "<table border=\"1\" class=\"dataframe\">\n",
       "  <thead>\n",
       "    <tr style=\"text-align: right;\">\n",
       "      <th></th>\n",
       "      <th>Reference</th>\n",
       "      <th>Name</th>\n",
       "      <th>Date</th>\n",
       "      <th>Net Incomes</th>\n",
       "      <th>Units_Sold</th>\n",
       "    </tr>\n",
       "  </thead>\n",
       "  <tbody>\n",
       "    <tr>\n",
       "      <th>0</th>\n",
       "      <td>4623</td>\n",
       "      <td>ESPEJO PUERTA \"LCC\" BLANCO POLIETILENO</td>\n",
       "      <td>2017-09-11</td>\n",
       "      <td>18.93</td>\n",
       "      <td>1</td>\n",
       "    </tr>\n",
       "    <tr>\n",
       "      <th>1</th>\n",
       "      <td>4623</td>\n",
       "      <td>ESPEJO PUERTA \"LCC\" BLANCO POLIETILENO</td>\n",
       "      <td>2017-09-21</td>\n",
       "      <td>18.93</td>\n",
       "      <td>1</td>\n",
       "    </tr>\n",
       "    <tr>\n",
       "      <th>2</th>\n",
       "      <td>4623</td>\n",
       "      <td>ESPEJO PUERTA \"LCC\" BLANCO POLIETILENO</td>\n",
       "      <td>2017-10-08</td>\n",
       "      <td>16.08</td>\n",
       "      <td>1</td>\n",
       "    </tr>\n",
       "    <tr>\n",
       "      <th>3</th>\n",
       "      <td>4623</td>\n",
       "      <td>ESPEJO PUERTA \"LCC\" BLANCO POLIETILENO</td>\n",
       "      <td>2017-10-16</td>\n",
       "      <td>16.08</td>\n",
       "      <td>1</td>\n",
       "    </tr>\n",
       "    <tr>\n",
       "      <th>4</th>\n",
       "      <td>4623</td>\n",
       "      <td>ESPEJO PUERTA \"LCC\" BLANCO POLIETILENO</td>\n",
       "      <td>2017-10-21</td>\n",
       "      <td>16.08</td>\n",
       "      <td>1</td>\n",
       "    </tr>\n",
       "  </tbody>\n",
       "</table>\n",
       "</div>"
      ],
      "text/plain": [
       "  Reference                                    Name       Date  Net Incomes  \\\n",
       "0      4623  ESPEJO PUERTA \"LCC\" BLANCO POLIETILENO 2017-09-11        18.93   \n",
       "1      4623  ESPEJO PUERTA \"LCC\" BLANCO POLIETILENO 2017-09-21        18.93   \n",
       "2      4623  ESPEJO PUERTA \"LCC\" BLANCO POLIETILENO 2017-10-08        16.08   \n",
       "3      4623  ESPEJO PUERTA \"LCC\" BLANCO POLIETILENO 2017-10-16        16.08   \n",
       "4      4623  ESPEJO PUERTA \"LCC\" BLANCO POLIETILENO 2017-10-21        16.08   \n",
       "\n",
       "   Units_Sold  \n",
       "0           1  \n",
       "1           1  \n",
       "2           1  \n",
       "3           1  \n",
       "4           1  "
      ]
     },
     "execution_count": 27,
     "metadata": {},
     "output_type": "execute_result"
    }
   ],
   "source": [
    "DataFrameDict['4623']"
   ]
  },
  {
   "cell_type": "markdown",
   "metadata": {},
   "source": [
    "As we can see, it works well!\n",
    "\n",
    "Now, I am going to use split the dataframe using only the top 50 references"
   ]
  },
  {
   "cell_type": "markdown",
   "metadata": {},
   "source": [
    "I set a directory to open the top_50_reference file"
   ]
  },
  {
   "cell_type": "code",
   "execution_count": 28,
   "metadata": {},
   "outputs": [],
   "source": [
    "path = \"/home/miguel/my_project_python/my_project_env/tfm/datasets\"\n",
    "os.chdir(path)"
   ]
  },
  {
   "cell_type": "markdown",
   "metadata": {},
   "source": [
    "I open that file and I choose the column of our interest"
   ]
  },
  {
   "cell_type": "code",
   "execution_count": 29,
   "metadata": {},
   "outputs": [],
   "source": [
    "df_reference_url = pd.read_csv(\"references_url.csv\", sep='\\t')\n",
    "column_interest_reference = [\"Reference\"]\n",
    "df_reference_url = df_reference_url[column_interest_reference]"
   ]
  },
  {
   "cell_type": "markdown",
   "metadata": {},
   "source": [
    "I check the data"
   ]
  },
  {
   "cell_type": "code",
   "execution_count": 30,
   "metadata": {},
   "outputs": [
    {
     "data": {
      "text/html": [
       "<div>\n",
       "<style scoped>\n",
       "    .dataframe tbody tr th:only-of-type {\n",
       "        vertical-align: middle;\n",
       "    }\n",
       "\n",
       "    .dataframe tbody tr th {\n",
       "        vertical-align: top;\n",
       "    }\n",
       "\n",
       "    .dataframe thead th {\n",
       "        text-align: right;\n",
       "    }\n",
       "</style>\n",
       "<table border=\"1\" class=\"dataframe\">\n",
       "  <thead>\n",
       "    <tr style=\"text-align: right;\">\n",
       "      <th></th>\n",
       "      <th>Reference</th>\n",
       "    </tr>\n",
       "  </thead>\n",
       "  <tbody>\n",
       "    <tr>\n",
       "      <th>0</th>\n",
       "      <td>122532</td>\n",
       "    </tr>\n",
       "    <tr>\n",
       "      <th>1</th>\n",
       "      <td>51148</td>\n",
       "    </tr>\n",
       "    <tr>\n",
       "      <th>2</th>\n",
       "      <td>51149</td>\n",
       "    </tr>\n",
       "    <tr>\n",
       "      <th>3</th>\n",
       "      <td>51136</td>\n",
       "    </tr>\n",
       "    <tr>\n",
       "      <th>4</th>\n",
       "      <td>51140</td>\n",
       "    </tr>\n",
       "  </tbody>\n",
       "</table>\n",
       "</div>"
      ],
      "text/plain": [
       "   Reference\n",
       "0     122532\n",
       "1      51148\n",
       "2      51149\n",
       "3      51136\n",
       "4      51140"
      ]
     },
     "execution_count": 30,
     "metadata": {},
     "output_type": "execute_result"
    }
   ],
   "source": [
    "df_reference_url.head(5)"
   ]
  },
  {
   "cell_type": "code",
   "execution_count": 31,
   "metadata": {},
   "outputs": [
    {
     "name": "stdout",
     "output_type": "stream",
     "text": [
      "<class 'pandas.core.frame.DataFrame'>\n",
      "RangeIndex: 50 entries, 0 to 49\n",
      "Data columns (total 1 columns):\n",
      "Reference    50 non-null int64\n",
      "dtypes: int64(1)\n",
      "memory usage: 480.0 bytes\n"
     ]
    }
   ],
   "source": [
    "df_reference_url.info()"
   ]
  },
  {
   "cell_type": "markdown",
   "metadata": {},
   "source": [
    "I create another list using last dataset (I apply string to \"Reference\" column as I have also made before)"
   ]
  },
  {
   "cell_type": "code",
   "execution_count": 33,
   "metadata": {},
   "outputs": [],
   "source": [
    "lista = df_reference_url[\"Reference\"].apply(str)\n",
    "c = lista.values.tolist()"
   ]
  },
  {
   "cell_type": "markdown",
   "metadata": {},
   "source": [
    "I make a for loop to:\n",
    "    - Read each component of the list and check its data from DataFrameDict.\n",
    "    - Set the directory to storage the data\n",
    "    - Save a csv file for each reference"
   ]
  },
  {
   "cell_type": "code",
   "execution_count": 34,
   "metadata": {},
   "outputs": [],
   "source": [
    "for i in range(len(c)):\n",
    "    df_test = DataFrameDict[c[i]]\n",
    "    file = c[i]\n",
    "    \n",
    "    path = \"/home/miguel/my_project_python/my_project_env/tfm/datasets/bw/Untitled_Folder\"\n",
    "    os.chdir(path)\n",
    "    \n",
    "    df_test.to_csv(file)"
   ]
  },
  {
   "cell_type": "code",
   "execution_count": 35,
   "metadata": {},
   "outputs": [],
   "source": [
    "df_top_50 = pd.read_csv(\"101318\", sep=\",\", error_bad_lines=True)"
   ]
  },
  {
   "cell_type": "code",
   "execution_count": 36,
   "metadata": {},
   "outputs": [
    {
     "name": "stdout",
     "output_type": "stream",
     "text": [
      "<class 'pandas.core.frame.DataFrame'>\n",
      "RangeIndex: 31 entries, 0 to 30\n",
      "Data columns (total 6 columns):\n",
      "Unnamed: 0     31 non-null int64\n",
      "Reference      31 non-null int64\n",
      "Name           31 non-null object\n",
      "Date           31 non-null object\n",
      "Net Incomes    31 non-null float64\n",
      "Units_Sold     31 non-null int64\n",
      "dtypes: float64(1), int64(3), object(2)\n",
      "memory usage: 1.5+ KB\n"
     ]
    }
   ],
   "source": [
    "df_top_50.info()"
   ]
  },
  {
   "cell_type": "code",
   "execution_count": 37,
   "metadata": {},
   "outputs": [
    {
     "data": {
      "text/html": [
       "<div>\n",
       "<style scoped>\n",
       "    .dataframe tbody tr th:only-of-type {\n",
       "        vertical-align: middle;\n",
       "    }\n",
       "\n",
       "    .dataframe tbody tr th {\n",
       "        vertical-align: top;\n",
       "    }\n",
       "\n",
       "    .dataframe thead th {\n",
       "        text-align: right;\n",
       "    }\n",
       "</style>\n",
       "<table border=\"1\" class=\"dataframe\">\n",
       "  <thead>\n",
       "    <tr style=\"text-align: right;\">\n",
       "      <th></th>\n",
       "      <th>Unnamed: 0</th>\n",
       "      <th>Reference</th>\n",
       "      <th>Name</th>\n",
       "      <th>Date</th>\n",
       "      <th>Net Incomes</th>\n",
       "      <th>Units_Sold</th>\n",
       "    </tr>\n",
       "  </thead>\n",
       "  <tbody>\n",
       "    <tr>\n",
       "      <th>0</th>\n",
       "      <td>21074</td>\n",
       "      <td>101318</td>\n",
       "      <td>SILLA MARRÓN PU/METAL SALÓN</td>\n",
       "      <td>2017-10-05</td>\n",
       "      <td>151.53</td>\n",
       "      <td>3</td>\n",
       "    </tr>\n",
       "    <tr>\n",
       "      <th>1</th>\n",
       "      <td>21075</td>\n",
       "      <td>101318</td>\n",
       "      <td>SILLA MARRÓN PU/METAL SALÓN</td>\n",
       "      <td>2017-10-12</td>\n",
       "      <td>118.85</td>\n",
       "      <td>2</td>\n",
       "    </tr>\n",
       "    <tr>\n",
       "      <th>2</th>\n",
       "      <td>21076</td>\n",
       "      <td>101318</td>\n",
       "      <td>SILLA MARRÓN PU/METAL SALÓN</td>\n",
       "      <td>2017-10-15</td>\n",
       "      <td>202.05</td>\n",
       "      <td>4</td>\n",
       "    </tr>\n",
       "    <tr>\n",
       "      <th>3</th>\n",
       "      <td>21077</td>\n",
       "      <td>101318</td>\n",
       "      <td>SILLA MARRÓN PU/METAL SALÓN</td>\n",
       "      <td>2018-02-06</td>\n",
       "      <td>44.55</td>\n",
       "      <td>1</td>\n",
       "    </tr>\n",
       "    <tr>\n",
       "      <th>4</th>\n",
       "      <td>21078</td>\n",
       "      <td>101318</td>\n",
       "      <td>SILLA MARRÓN PU/METAL SALÓN</td>\n",
       "      <td>2018-02-22</td>\n",
       "      <td>237.69</td>\n",
       "      <td>4</td>\n",
       "    </tr>\n",
       "  </tbody>\n",
       "</table>\n",
       "</div>"
      ],
      "text/plain": [
       "   Unnamed: 0  Reference                         Name        Date  \\\n",
       "0       21074     101318  SILLA MARRÓN PU/METAL SALÓN  2017-10-05   \n",
       "1       21075     101318  SILLA MARRÓN PU/METAL SALÓN  2017-10-12   \n",
       "2       21076     101318  SILLA MARRÓN PU/METAL SALÓN  2017-10-15   \n",
       "3       21077     101318  SILLA MARRÓN PU/METAL SALÓN  2018-02-06   \n",
       "4       21078     101318  SILLA MARRÓN PU/METAL SALÓN  2018-02-22   \n",
       "\n",
       "   Net Incomes  Units_Sold  \n",
       "0       151.53           3  \n",
       "1       118.85           2  \n",
       "2       202.05           4  \n",
       "3        44.55           1  \n",
       "4       237.69           4  "
      ]
     },
     "execution_count": 37,
     "metadata": {},
     "output_type": "execute_result"
    }
   ],
   "source": [
    "df_top_50.head(5)"
   ]
  },
  {
   "cell_type": "code",
   "execution_count": 1,
   "metadata": {},
   "outputs": [
    {
     "data": {
      "text/plain": [
       "'/home/miguel/my_project_python/my_project_env/tfm/notebooks'"
      ]
     },
     "execution_count": 1,
     "metadata": {},
     "output_type": "execute_result"
    }
   ],
   "source": [
    "pwd"
   ]
  },
  {
   "cell_type": "code",
   "execution_count": 4,
   "metadata": {},
   "outputs": [],
   "source": [
    "path = \"/home/miguel/my_project_python/my_project_env/tfm/datasets/\"\n",
    "os.chdir(path)"
   ]
  },
  {
   "cell_type": "code",
   "execution_count": 6,
   "metadata": {},
   "outputs": [
    {
     "data": {
      "text/html": [
       "<div>\n",
       "<style scoped>\n",
       "    .dataframe tbody tr th:only-of-type {\n",
       "        vertical-align: middle;\n",
       "    }\n",
       "\n",
       "    .dataframe tbody tr th {\n",
       "        vertical-align: top;\n",
       "    }\n",
       "\n",
       "    .dataframe thead th {\n",
       "        text-align: right;\n",
       "    }\n",
       "</style>\n",
       "<table border=\"1\" class=\"dataframe\">\n",
       "  <thead>\n",
       "    <tr style=\"text-align: right;\">\n",
       "      <th></th>\n",
       "      <th>Reference</th>\n",
       "      <th>Date_BW</th>\n",
       "      <th>Units_sold</th>\n",
       "      <th>Net_Incomes</th>\n",
       "      <th>Date_ADS</th>\n",
       "      <th>Cost</th>\n",
       "      <th>Impresions</th>\n",
       "    </tr>\n",
       "  </thead>\n",
       "  <tbody>\n",
       "    <tr>\n",
       "      <th>0</th>\n",
       "      <td>8141600</td>\n",
       "      <td>55</td>\n",
       "      <td>416</td>\n",
       "      <td>8533.68</td>\n",
       "      <td>126</td>\n",
       "      <td>379.78</td>\n",
       "      <td>174498</td>\n",
       "    </tr>\n",
       "    <tr>\n",
       "      <th>1</th>\n",
       "      <td>82462</td>\n",
       "      <td>38</td>\n",
       "      <td>363</td>\n",
       "      <td>11208.61</td>\n",
       "      <td>56</td>\n",
       "      <td>121.41</td>\n",
       "      <td>57854</td>\n",
       "    </tr>\n",
       "    <tr>\n",
       "      <th>2</th>\n",
       "      <td>82466</td>\n",
       "      <td>41</td>\n",
       "      <td>180</td>\n",
       "      <td>6270.32</td>\n",
       "      <td>126</td>\n",
       "      <td>158.68</td>\n",
       "      <td>96652</td>\n",
       "    </tr>\n",
       "    <tr>\n",
       "      <th>3</th>\n",
       "      <td>8146000</td>\n",
       "      <td>98</td>\n",
       "      <td>179</td>\n",
       "      <td>4401.90</td>\n",
       "      <td>39</td>\n",
       "      <td>263.21</td>\n",
       "      <td>106009</td>\n",
       "    </tr>\n",
       "    <tr>\n",
       "      <th>4</th>\n",
       "      <td>122539</td>\n",
       "      <td>99</td>\n",
       "      <td>148</td>\n",
       "      <td>5667.47</td>\n",
       "      <td>110</td>\n",
       "      <td>965.58</td>\n",
       "      <td>282555</td>\n",
       "    </tr>\n",
       "  </tbody>\n",
       "</table>\n",
       "</div>"
      ],
      "text/plain": [
       "   Reference  Date_BW  Units_sold  Net_Incomes  Date_ADS    Cost  Impresions\n",
       "0    8141600       55         416      8533.68       126  379.78      174498\n",
       "1      82462       38         363     11208.61        56  121.41       57854\n",
       "2      82466       41         180      6270.32       126  158.68       96652\n",
       "3    8146000       98         179      4401.90        39  263.21      106009\n",
       "4     122539       99         148      5667.47       110  965.58      282555"
      ]
     },
     "execution_count": 6,
     "metadata": {},
     "output_type": "execute_result"
    }
   ],
   "source": [
    "df_top_50_references = pd.read_csv(\"top_50_references.csv\", sep = \"\\t\")\n",
    "df_top_50_references.head(5)"
   ]
  },
  {
   "cell_type": "code",
   "execution_count": 7,
   "metadata": {},
   "outputs": [
    {
     "data": {
      "text/html": [
       "<div>\n",
       "<style scoped>\n",
       "    .dataframe tbody tr th:only-of-type {\n",
       "        vertical-align: middle;\n",
       "    }\n",
       "\n",
       "    .dataframe tbody tr th {\n",
       "        vertical-align: top;\n",
       "    }\n",
       "\n",
       "    .dataframe thead th {\n",
       "        text-align: right;\n",
       "    }\n",
       "</style>\n",
       "<table border=\"1\" class=\"dataframe\">\n",
       "  <thead>\n",
       "    <tr style=\"text-align: right;\">\n",
       "      <th></th>\n",
       "      <th>Unnamed: 0</th>\n",
       "      <th>Dates</th>\n",
       "    </tr>\n",
       "  </thead>\n",
       "  <tbody>\n",
       "    <tr>\n",
       "      <th>0</th>\n",
       "      <td>0</td>\n",
       "      <td>2017-09-02</td>\n",
       "    </tr>\n",
       "    <tr>\n",
       "      <th>1</th>\n",
       "      <td>1</td>\n",
       "      <td>2017-09-03</td>\n",
       "    </tr>\n",
       "    <tr>\n",
       "      <th>2</th>\n",
       "      <td>2</td>\n",
       "      <td>2017-09-04</td>\n",
       "    </tr>\n",
       "    <tr>\n",
       "      <th>3</th>\n",
       "      <td>3</td>\n",
       "      <td>2017-09-05</td>\n",
       "    </tr>\n",
       "    <tr>\n",
       "      <th>4</th>\n",
       "      <td>4</td>\n",
       "      <td>2017-09-06</td>\n",
       "    </tr>\n",
       "  </tbody>\n",
       "</table>\n",
       "</div>"
      ],
      "text/plain": [
       "   Unnamed: 0       Dates\n",
       "0           0  2017-09-02\n",
       "1           1  2017-09-03\n",
       "2           2  2017-09-04\n",
       "3           3  2017-09-05\n",
       "4           4  2017-09-06"
      ]
     },
     "execution_count": 7,
     "metadata": {},
     "output_type": "execute_result"
    }
   ],
   "source": [
    "df_date = pd.read_csv(\"datetime_df.csv\")\n",
    "df_date.head(5)"
   ]
  },
  {
   "cell_type": "code",
   "execution_count": 40,
   "metadata": {},
   "outputs": [],
   "source": [
    "def bw_missing_values(path1, path2, file):\n",
    "    \n",
    "    os.chdir(path1)\n",
    "    df_datetime = pd.read_csv(\"datetime_df.csv\")\n",
    "    \n",
    "    column_interest_datetime = [\"Dates\"]\n",
    "    df_datetime = df_datetime[column_interest_datetime]\n",
    "    df_datetime[\"Dates\"] = pd.to_datetime(df_datetime[\"Dates\"], format = \"%Y-%m-%d\")\n",
    "    \n",
    "        \n",
    "    os.chdir(path2)\n",
    "    \n",
    "    #open the csv file for each reference\n",
    "    df_bw_ref = pd.read_csv(c[i])\n",
    "        \n",
    "    #data wranggling of this data        \n",
    "    df_bw_ref[\"Date\"] = pd.to_datetime(df_bw_ref[\"Date\"], format = \"%Y-%m-%d\")\n",
    "    #df_bw_ref = df_bw_ref.rename(index=str, columns={\"Cantidad en unidades (pedidos)\": \"Units_Sold\"})\n",
    "        \n",
    "    #select columns \n",
    "    column_interest_bw = [\"Reference\", \"Name\", \"Date\", \"Net Incomes\", \"Units_Sold\"]\n",
    "    df_bw_ref = df_bw_ref[column_interest_bw]\n",
    "        \n",
    "    #merge with df_datetime\n",
    "    merge_bw = df_bw_ref.merge(df_datetime,\n",
    "        how=\"right\",\n",
    "        left_on=[\"Dates\"],\n",
    "        right_on=[\"Date\"])\n",
    "        \n",
    "    #fill NaN values\n",
    "    merge__bw[\"Reference\"].fillna(method='ffill', inplace = True)\n",
    "    merge_bw.fillna(0, inplace = True)\n",
    "        \n",
    "    #save file\n",
    "    #df_test = DataFrameDict[c[i]]\n",
    "    #file = c[i]\n",
    "    #merge_bw.to_csv(file, sep=\"\\t\", path=\"/home/miguel/my_project_python/my_project_env/tfm/datasets/bw/transform_data\")\n",
    "            \n",
    "    return merge_bw"
   ]
  },
  {
   "cell_type": "code",
   "execution_count": 41,
   "metadata": {},
   "outputs": [
    {
     "ename": "KeyError",
     "evalue": "\"['Units_Sold'] not in index\"",
     "output_type": "error",
     "traceback": [
      "\u001b[0;31m---------------------------------------------------------------------------\u001b[0m",
      "\u001b[0;31mKeyError\u001b[0m                                  Traceback (most recent call last)",
      "\u001b[0;32m<ipython-input-41-985eb345aa69>\u001b[0m in \u001b[0;36m<module>\u001b[0;34m\u001b[0m\n\u001b[1;32m      3\u001b[0m \u001b[0;34m\u001b[0m\u001b[0m\n\u001b[1;32m      4\u001b[0m \u001b[0;32mfor\u001b[0m \u001b[0mi\u001b[0m \u001b[0;32min\u001b[0m \u001b[0mrange\u001b[0m\u001b[0;34m(\u001b[0m\u001b[0mlen\u001b[0m\u001b[0;34m(\u001b[0m\u001b[0mc\u001b[0m\u001b[0;34m)\u001b[0m\u001b[0;34m)\u001b[0m\u001b[0;34m:\u001b[0m\u001b[0;34m\u001b[0m\u001b[0;34m\u001b[0m\u001b[0m\n\u001b[0;32m----> 5\u001b[0;31m     \u001b[0mdf_test\u001b[0m \u001b[0;34m=\u001b[0m \u001b[0mbw_missing_values\u001b[0m\u001b[0;34m(\u001b[0m\u001b[0mpath_datetime\u001b[0m\u001b[0;34m,\u001b[0m \u001b[0mpath_original_data\u001b[0m\u001b[0;34m,\u001b[0m \u001b[0mc\u001b[0m\u001b[0;34m[\u001b[0m\u001b[0mi\u001b[0m\u001b[0;34m]\u001b[0m\u001b[0;34m)\u001b[0m\u001b[0;34m\u001b[0m\u001b[0;34m\u001b[0m\u001b[0m\n\u001b[0m\u001b[1;32m      6\u001b[0m     \u001b[0mfile\u001b[0m \u001b[0;34m=\u001b[0m \u001b[0mc\u001b[0m\u001b[0;34m[\u001b[0m\u001b[0mi\u001b[0m\u001b[0;34m]\u001b[0m\u001b[0;34m\u001b[0m\u001b[0;34m\u001b[0m\u001b[0m\n\u001b[1;32m      7\u001b[0m \u001b[0;34m\u001b[0m\u001b[0m\n",
      "\u001b[0;32m<ipython-input-40-c0d64b5c8277>\u001b[0m in \u001b[0;36mbw_missing_values\u001b[0;34m(path1, path2, file)\u001b[0m\n\u001b[1;32m     20\u001b[0m     \u001b[0;31m#select columns\u001b[0m\u001b[0;34m\u001b[0m\u001b[0;34m\u001b[0m\u001b[0;34m\u001b[0m\u001b[0m\n\u001b[1;32m     21\u001b[0m     \u001b[0mcolumn_interest_bw\u001b[0m \u001b[0;34m=\u001b[0m \u001b[0;34m[\u001b[0m\u001b[0;34m\"Reference\"\u001b[0m\u001b[0;34m,\u001b[0m \u001b[0;34m\"Name\"\u001b[0m\u001b[0;34m,\u001b[0m \u001b[0;34m\"Date\"\u001b[0m\u001b[0;34m,\u001b[0m \u001b[0;34m\"Net Incomes\"\u001b[0m\u001b[0;34m,\u001b[0m \u001b[0;34m\"Units_Sold\"\u001b[0m\u001b[0;34m]\u001b[0m\u001b[0;34m\u001b[0m\u001b[0;34m\u001b[0m\u001b[0m\n\u001b[0;32m---> 22\u001b[0;31m     \u001b[0mdf_bw_ref\u001b[0m \u001b[0;34m=\u001b[0m \u001b[0mdf_bw_ref\u001b[0m\u001b[0;34m[\u001b[0m\u001b[0mcolumn_interest_bw\u001b[0m\u001b[0;34m]\u001b[0m\u001b[0;34m\u001b[0m\u001b[0;34m\u001b[0m\u001b[0m\n\u001b[0m\u001b[1;32m     23\u001b[0m \u001b[0;34m\u001b[0m\u001b[0m\n\u001b[1;32m     24\u001b[0m     \u001b[0;31m#merge with df_datetime\u001b[0m\u001b[0;34m\u001b[0m\u001b[0;34m\u001b[0m\u001b[0;34m\u001b[0m\u001b[0m\n",
      "\u001b[0;32m~/my_project_python/my_project_env/lib/python3.6/site-packages/pandas/core/frame.py\u001b[0m in \u001b[0;36m__getitem__\u001b[0;34m(self, key)\u001b[0m\n\u001b[1;32m   2932\u001b[0m                 \u001b[0mkey\u001b[0m \u001b[0;34m=\u001b[0m \u001b[0mlist\u001b[0m\u001b[0;34m(\u001b[0m\u001b[0mkey\u001b[0m\u001b[0;34m)\u001b[0m\u001b[0;34m\u001b[0m\u001b[0;34m\u001b[0m\u001b[0m\n\u001b[1;32m   2933\u001b[0m             indexer = self.loc._convert_to_indexer(key, axis=1,\n\u001b[0;32m-> 2934\u001b[0;31m                                                    raise_missing=True)\n\u001b[0m\u001b[1;32m   2935\u001b[0m \u001b[0;34m\u001b[0m\u001b[0m\n\u001b[1;32m   2936\u001b[0m         \u001b[0;31m# take() does not accept boolean indexers\u001b[0m\u001b[0;34m\u001b[0m\u001b[0;34m\u001b[0m\u001b[0;34m\u001b[0m\u001b[0m\n",
      "\u001b[0;32m~/my_project_python/my_project_env/lib/python3.6/site-packages/pandas/core/indexing.py\u001b[0m in \u001b[0;36m_convert_to_indexer\u001b[0;34m(self, obj, axis, is_setter, raise_missing)\u001b[0m\n\u001b[1;32m   1352\u001b[0m                 kwargs = {'raise_missing': True if is_setter else\n\u001b[1;32m   1353\u001b[0m                           raise_missing}\n\u001b[0;32m-> 1354\u001b[0;31m                 \u001b[0;32mreturn\u001b[0m \u001b[0mself\u001b[0m\u001b[0;34m.\u001b[0m\u001b[0m_get_listlike_indexer\u001b[0m\u001b[0;34m(\u001b[0m\u001b[0mobj\u001b[0m\u001b[0;34m,\u001b[0m \u001b[0maxis\u001b[0m\u001b[0;34m,\u001b[0m \u001b[0;34m**\u001b[0m\u001b[0mkwargs\u001b[0m\u001b[0;34m)\u001b[0m\u001b[0;34m[\u001b[0m\u001b[0;36m1\u001b[0m\u001b[0;34m]\u001b[0m\u001b[0;34m\u001b[0m\u001b[0;34m\u001b[0m\u001b[0m\n\u001b[0m\u001b[1;32m   1355\u001b[0m         \u001b[0;32melse\u001b[0m\u001b[0;34m:\u001b[0m\u001b[0;34m\u001b[0m\u001b[0;34m\u001b[0m\u001b[0m\n\u001b[1;32m   1356\u001b[0m             \u001b[0;32mtry\u001b[0m\u001b[0;34m:\u001b[0m\u001b[0;34m\u001b[0m\u001b[0;34m\u001b[0m\u001b[0m\n",
      "\u001b[0;32m~/my_project_python/my_project_env/lib/python3.6/site-packages/pandas/core/indexing.py\u001b[0m in \u001b[0;36m_get_listlike_indexer\u001b[0;34m(self, key, axis, raise_missing)\u001b[0m\n\u001b[1;32m   1159\u001b[0m         self._validate_read_indexer(keyarr, indexer,\n\u001b[1;32m   1160\u001b[0m                                     \u001b[0mo\u001b[0m\u001b[0;34m.\u001b[0m\u001b[0m_get_axis_number\u001b[0m\u001b[0;34m(\u001b[0m\u001b[0maxis\u001b[0m\u001b[0;34m)\u001b[0m\u001b[0;34m,\u001b[0m\u001b[0;34m\u001b[0m\u001b[0;34m\u001b[0m\u001b[0m\n\u001b[0;32m-> 1161\u001b[0;31m                                     raise_missing=raise_missing)\n\u001b[0m\u001b[1;32m   1162\u001b[0m         \u001b[0;32mreturn\u001b[0m \u001b[0mkeyarr\u001b[0m\u001b[0;34m,\u001b[0m \u001b[0mindexer\u001b[0m\u001b[0;34m\u001b[0m\u001b[0;34m\u001b[0m\u001b[0m\n\u001b[1;32m   1163\u001b[0m \u001b[0;34m\u001b[0m\u001b[0m\n",
      "\u001b[0;32m~/my_project_python/my_project_env/lib/python3.6/site-packages/pandas/core/indexing.py\u001b[0m in \u001b[0;36m_validate_read_indexer\u001b[0;34m(self, key, indexer, axis, raise_missing)\u001b[0m\n\u001b[1;32m   1250\u001b[0m             \u001b[0;32mif\u001b[0m \u001b[0;32mnot\u001b[0m\u001b[0;34m(\u001b[0m\u001b[0mself\u001b[0m\u001b[0;34m.\u001b[0m\u001b[0mname\u001b[0m \u001b[0;34m==\u001b[0m \u001b[0;34m'loc'\u001b[0m \u001b[0;32mand\u001b[0m \u001b[0;32mnot\u001b[0m \u001b[0mraise_missing\u001b[0m\u001b[0;34m)\u001b[0m\u001b[0;34m:\u001b[0m\u001b[0;34m\u001b[0m\u001b[0;34m\u001b[0m\u001b[0m\n\u001b[1;32m   1251\u001b[0m                 \u001b[0mnot_found\u001b[0m \u001b[0;34m=\u001b[0m \u001b[0mlist\u001b[0m\u001b[0;34m(\u001b[0m\u001b[0mset\u001b[0m\u001b[0;34m(\u001b[0m\u001b[0mkey\u001b[0m\u001b[0;34m)\u001b[0m \u001b[0;34m-\u001b[0m \u001b[0mset\u001b[0m\u001b[0;34m(\u001b[0m\u001b[0max\u001b[0m\u001b[0;34m)\u001b[0m\u001b[0;34m)\u001b[0m\u001b[0;34m\u001b[0m\u001b[0;34m\u001b[0m\u001b[0m\n\u001b[0;32m-> 1252\u001b[0;31m                 \u001b[0;32mraise\u001b[0m \u001b[0mKeyError\u001b[0m\u001b[0;34m(\u001b[0m\u001b[0;34m\"{} not in index\"\u001b[0m\u001b[0;34m.\u001b[0m\u001b[0mformat\u001b[0m\u001b[0;34m(\u001b[0m\u001b[0mnot_found\u001b[0m\u001b[0;34m)\u001b[0m\u001b[0;34m)\u001b[0m\u001b[0;34m\u001b[0m\u001b[0;34m\u001b[0m\u001b[0m\n\u001b[0m\u001b[1;32m   1253\u001b[0m \u001b[0;34m\u001b[0m\u001b[0m\n\u001b[1;32m   1254\u001b[0m             \u001b[0;31m# we skip the warning on Categorical/Interval\u001b[0m\u001b[0;34m\u001b[0m\u001b[0;34m\u001b[0m\u001b[0;34m\u001b[0m\u001b[0m\n",
      "\u001b[0;31mKeyError\u001b[0m: \"['Units_Sold'] not in index\""
     ]
    }
   ],
   "source": [
    "path_datetime = \"/home/miguel/my_project_python/my_project_env/tfm/datasets\"\n",
    "path_original_data = path_datetime + \"/bw/original_data\"\n",
    "\n",
    "for i in range(len(c)):\n",
    "    df_test = bw_missing_values(path_datetime, path_original_data, c[i])\n",
    "    file = c[i]\n",
    "    \n",
    "    path = \"/home/miguel/my_project_python/my_project_env/tfm/datasets/bw/transform_data\"\n",
    "    os.chdir(path)\n",
    "    \n",
    "    df_test.to_csv(file)"
   ]
  },
  {
   "cell_type": "code",
   "execution_count": null,
   "metadata": {},
   "outputs": [],
   "source": [
    "    #path = \"/home/miguel/my_project_python/my_project_env/tfm/datasets/bw/original_data\"\n",
    "    #os.chdir(path)\n",
    "    \n",
    "    #df_test.to_csv(file)\n",
    "\n",
    "\n",
    "\n",
    "    #set directory that contains file1 and file2\n",
    "    os.chdir(path1)\n",
    "    \n",
    "    #open files\n",
    "    df_datetime = pd.read_csv(file1)\n",
    "    df_top_50_references = pd.read_csv(file2, sep = \"\\t\")\n",
    "    \n",
    "    #select columns file1\n",
    "    column_interest_datetime = [\"Dates\"]\n",
    "    df_datetime = df_datetime[column_interest_datetime]\n",
    "    df_datetime[\"Dates\"] = pd.to_datetime(df_datetime[\"Dates\"], format = \"%Y-%m-%d\")\n",
    "    \n",
    "    #select columns file2\n",
    "    column_interest_top50 = [\"Reference\"]\n",
    "    df_top_50_references = df_top_50_references[column_interest_top50] \n",
    "    \n",
    "    #set directory that contains bw_reference\n",
    "    os.chdir(path2)\n",
    "    \n",
    "    df_pageview = df_pageview.rename(index=str, columns={\"Day Index\":\"Dates\", \"Page Views\": \"Page_Views\"})\n",
    "    \n",
    "    column_interest_pageview = [\"Page\", \"Dates\", \"Page_Views\"]\n",
    "    df_pageview = df_pageview[column_interest_pageview]   \n",
    "    \n",
    "    df_pageview[\"Dates\"] = pd.to_datetime(df_pageview[\"Dates\"], format = \"%d/%m/%Y\")\n",
    "    \n",
    "    merge_pageview = df_pageview.merge(df_datetime,\n",
    "        how=\"right\",\n",
    "        left_on=[\"Dates\"],\n",
    "        right_on=[\"Dates\"])\n",
    "    \n",
    "    merge_pageview[\"Page\"].fillna(method='ffill', inplace = True)\n",
    "    merge_pageview[\"Page_Views\"].fillna(0, inplace = True)\n",
    "    \n",
    "    merge_url = merge_pageview.merge(df_reference_url,\n",
    "        how=\"inner\",\n",
    "        left_on=[\"Page\"],\n",
    "        right_on=[\"URL\"])\n",
    "    \n",
    "    column_interest_reference = [\"Reference\", \"Dates\", \"Page_Views\"]\n",
    "    merge_url = merge_url[column_interest_reference].sort_values(by=\"Dates\")"
   ]
  },
  {
   "cell_type": "code",
   "execution_count": null,
   "metadata": {},
   "outputs": [],
   "source": [
    "#queda arreglar arriba todo\n",
    "#hacer funciones\n",
    "\n",
    "#cruzar datadate como en C04 EN pageview_missing_values\n",
    "# y enviar a transform data\n",
    "\n",
    "#hacer lo mismo con adwords (dos archivos)\n",
    "\n",
    "#luego hace falta media movil\n",
    "\n",
    "#y algoritmos..."
   ]
  }
 ],
 "metadata": {
  "kernelspec": {
   "display_name": "Python 3",
   "language": "python",
   "name": "python3"
  },
  "language_info": {
   "codemirror_mode": {
    "name": "ipython",
    "version": 3
   },
   "file_extension": ".py",
   "mimetype": "text/x-python",
   "name": "python",
   "nbconvert_exporter": "python",
   "pygments_lexer": "ipython3",
   "version": "3.6.7"
  }
 },
 "nbformat": 4,
 "nbformat_minor": 2
}
