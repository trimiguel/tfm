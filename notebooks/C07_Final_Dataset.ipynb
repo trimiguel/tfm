{
 "cells": [
  {
   "cell_type": "markdown",
   "metadata": {},
   "source": [
    "# Final Dataset\n",
    "\n",
    "In this notebook, I am going to merge all data linked per each reference worked in previous notebook. Then, I am going to merge this datasets:\n",
    "    - Adwords\n",
    "    - BW\n",
    "    - Pageviews"
   ]
  },
  {
   "cell_type": "markdown",
   "metadata": {},
   "source": [
    "# PONER DIBUJO DE LO QUE VOY A HACER"
   ]
  },
  {
   "cell_type": "markdown",
   "metadata": {},
   "source": [
    "Tengo 3 directorios\n",
    "\n",
    "Por lo tanto, abro archivo top 50 y creo lista\n",
    "Luego leo con un for loop la lista y hago:\n",
    "    - Abrir para cada directorio el archivo correspondiente\n",
    "    - Guardar dicho archivo como dataframe\n",
    "    - merge de los 3 archivos para cada referencia\n",
    "    - Data clean\n",
    "    - Revisar\n",
    "    - Guardar en carpeta final\n",
    "    \n",
    "    ¿Hacer funcion de eso?"
   ]
  },
  {
   "cell_type": "markdown",
   "metadata": {},
   "source": [
    "First, I import the required libraries"
   ]
  },
  {
   "cell_type": "code",
   "execution_count": null,
   "metadata": {},
   "outputs": [],
   "source": [
    "#from datetime import datetime\n",
    "import numpy as np\n",
    "import pandas as pd\n",
    "import os"
   ]
  },
  {
   "cell_type": "code",
   "execution_count": null,
   "metadata": {},
   "outputs": [],
   "source": []
  },
  {
   "cell_type": "code",
   "execution_count": null,
   "metadata": {},
   "outputs": [],
   "source": [
    "def top_50_reference(path):\n",
    "    \n",
    "    #set directory to open the reference file\n",
    "    os.chdir(path1)\n",
    "    \n",
    "    #ESTO SE PUEDE METER COMO INIT PARA VARIAS FUNCIONES\n",
    "    #-----------------------------\n",
    "    \n",
    "    #Open the file\n",
    "    df_top_50_references = pd.read_csv(\"top_50_references.csv\", sep=\"\\t\")\n",
    "\n",
    "    #Select the column that I want to use to merge\n",
    "    df_top_50_references = df_top_50_references[[\"Reference\"]]\n",
    "\n",
    "    #Change from int to string (both columns with the same dtype)\n",
    "    df_top_50_references[\"Reference\"] = df_top_50_references[\"Reference\"].apply(str)\n",
    "    \n",
    "    #Create a list\n",
    "    lista = df_top_50_references[\"Reference\"].apply(str)\n",
    "    c = lista.values.tolist()\n",
    "    \n",
    "    return c\n",
    "    \n",
    "    #-----------------------------"
   ]
  },
  {
   "cell_type": "code",
   "execution_count": null,
   "metadata": {},
   "outputs": [],
   "source": []
  },
  {
   "cell_type": "code",
   "execution_count": null,
   "metadata": {},
   "outputs": [],
   "source": [
    "path_top_50 = \n",
    "\n",
    "df_top_50 = top_50_reference(path_top_50)"
   ]
  },
  {
   "cell_type": "code",
   "execution_count": null,
   "metadata": {},
   "outputs": [],
   "source": []
  },
  {
   "cell_type": "code",
   "execution_count": null,
   "metadata": {},
   "outputs": [],
   "source": [
    "def final_dataset(file, path_ads, path_bw, path_page):\n",
    "    \n",
    "    #set directory to open the adwords dataset\n",
    "    os.chdir(path_ads)\n",
    "    df_ads = pd.read_csv(file, sep=\",\", error_bad_lines=True)\n",
    "        \n",
    "    \n",
    "    #set directory to open the bw dataset\n",
    "    os.chdir(path_bw)\n",
    "    df_bw = pd.read_csv(file, sep=\",\", error_bad_lines=True)\n",
    "        \n",
    "    \n",
    "    #set directory to open the page dataset\n",
    "    os.chdir(path_page)\n",
    "    df_page = pd.read_csv(file, sep=\",\", error_bad_lines=True)\n",
    "        \n",
    "    \n",
    "    #merge: i have different options        \n",
    "    from functools import reduce\n",
    "    dfs = [df0, df1, df2, dfN]\n",
    "    df_final = reduce(lambda left,right: pd.merge(left,right,on='name'), dfs)\n",
    "        \n",
    "    pd.merge(pd.merge(df1,df2,on='name'),df3,on='name')\n",
    "    df1.merge(df2,on='name').merge(df3,on='name')\n",
    "    \n",
    "    return merge...\n",
    "    "
   ]
  },
  {
   "cell_type": "code",
   "execution_count": null,
   "metadata": {},
   "outputs": [],
   "source": []
  },
  {
   "cell_type": "code",
   "execution_count": null,
   "metadata": {},
   "outputs": [],
   "source": [
    "path = \"/home/miguel/my_project_python/my_project_env/tfm/datasets/adwords\"\n",
    "path1 =  path + \"/end_data\"\n",
    "path2 =  path + \"/test\"\n",
    "    \n",
    "\n",
    "#for loop to apply for each reference\n",
    "for i in range(len(c)):\n",
    "    #df_test = DataFrameDict[c[i]]\n",
    "    df_test = rolling_data(columns, c[i], path1)\n",
    "    df = final_dataset(c[i], path_ads, path_bw, path_page)\n",
    "    file = c[i]\n",
    "    \n",
    "    #path = \"/home/miguel/my_project_python/my_project_env/tfm/datasets/adwords/end_data\"\n",
    "    os.chdir(path2)\n",
    "    \n",
    "    df.to_csv(file)"
   ]
  },
  {
   "cell_type": "markdown",
   "metadata": {},
   "source": [
    "# MAKE A CHECKING OF DATA"
   ]
  },
  {
   "cell_type": "code",
   "execution_count": null,
   "metadata": {},
   "outputs": [],
   "source": []
  }
 ],
 "metadata": {
  "kernelspec": {
   "display_name": "Python 3",
   "language": "python",
   "name": "python3"
  },
  "language_info": {
   "codemirror_mode": {
    "name": "ipython",
    "version": 3
   },
   "file_extension": ".py",
   "mimetype": "text/x-python",
   "name": "python",
   "nbconvert_exporter": "python",
   "pygments_lexer": "ipython3",
   "version": "3.6.7"
  }
 },
 "nbformat": 4,
 "nbformat_minor": 2
}
