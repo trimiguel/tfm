{
 "cells": [
  {
   "cell_type": "markdown",
   "metadata": {},
   "source": [
    "# Reference url\n",
    "\n",
    "In this notebook, I am going to merge the references with their pageviews each day of the studied period.\n",
    "\n",
    "These are the steps that I am going to follow:\n",
    "    - Merge file \"top_50_references.csv\" with \"references_url.xlsx\"\n",
    "    - Merge the previous combination with \"all_pageviews.csv\" \n",
    "    - Merge thecombination from the second step with \"datetime_df.csv\""
   ]
  },
  {
   "cell_type": "markdown",
   "metadata": {},
   "source": [
    "Firstly, I import the libraries"
   ]
  },
  {
   "cell_type": "code",
   "execution_count": 4,
   "metadata": {},
   "outputs": [],
   "source": [
    "import pandas as pd\n",
    "import numpy as np"
   ]
  },
  {
   "cell_type": "markdown",
   "metadata": {},
   "source": [
    "Second, we set as path the directory which contains the file \"references_url.xlsx"
   ]
  },
  {
   "cell_type": "code",
   "execution_count": 5,
   "metadata": {},
   "outputs": [],
   "source": [
    "import os\n",
    "\n",
    "path = \"/media/sf_Carpeta/Smart_Shopping/Data/GA\"\n",
    "os.chdir(path)"
   ]
  },
  {
   "cell_type": "code",
   "execution_count": 6,
   "metadata": {},
   "outputs": [
    {
     "data": {
      "text/plain": [
       "'/media/sf_Carpeta/Smart_Shopping/Data/GA'"
      ]
     },
     "execution_count": 6,
     "metadata": {},
     "output_type": "execute_result"
    }
   ],
   "source": [
    "pwd"
   ]
  },
  {
   "cell_type": "markdown",
   "metadata": {},
   "source": [
    "After that, I load xlsx file with the required data:"
   ]
  },
  {
   "cell_type": "code",
   "execution_count": 8,
   "metadata": {},
   "outputs": [],
   "source": [
    "df_url = pd.read_excel(\"references_url.xlsx\", sheet_name=\"URL\")"
   ]
  },
  {
   "cell_type": "code",
   "execution_count": 9,
   "metadata": {},
   "outputs": [
    {
     "data": {
      "text/html": [
       "<div>\n",
       "<style scoped>\n",
       "    .dataframe tbody tr th:only-of-type {\n",
       "        vertical-align: middle;\n",
       "    }\n",
       "\n",
       "    .dataframe tbody tr th {\n",
       "        vertical-align: top;\n",
       "    }\n",
       "\n",
       "    .dataframe thead th {\n",
       "        text-align: right;\n",
       "    }\n",
       "</style>\n",
       "<table border=\"1\" class=\"dataframe\">\n",
       "  <thead>\n",
       "    <tr style=\"text-align: right;\">\n",
       "      <th></th>\n",
       "      <th>sku</th>\n",
       "      <th>URL</th>\n",
       "    </tr>\n",
       "  </thead>\n",
       "  <tbody>\n",
       "    <tr>\n",
       "      <th>0</th>\n",
       "      <td>1540</td>\n",
       "      <td>/figura-zapato-plateado-resina-decoracion-10-5...</td>\n",
       "    </tr>\n",
       "    <tr>\n",
       "      <th>1</th>\n",
       "      <td>1541</td>\n",
       "      <td>/figura-zapato-plateado-resina-decoracion-15-5...</td>\n",
       "    </tr>\n",
       "    <tr>\n",
       "      <th>2</th>\n",
       "      <td>1542</td>\n",
       "      <td>/figura-zapato-clasico-plateado-resina-decorac...</td>\n",
       "    </tr>\n",
       "    <tr>\n",
       "      <th>3</th>\n",
       "      <td>1544</td>\n",
       "      <td>/figura-zapato-plateado-resina-decoracion-12-x...</td>\n",
       "    </tr>\n",
       "    <tr>\n",
       "      <th>4</th>\n",
       "      <td>1547</td>\n",
       "      <td>/figura-zapato-clasico-plateado-resina-decorac...</td>\n",
       "    </tr>\n",
       "    <tr>\n",
       "      <th>5</th>\n",
       "      <td>1549</td>\n",
       "      <td>/maniqui-news-crema-madera-19-10-x-15-20-x-65-...</td>\n",
       "    </tr>\n",
       "    <tr>\n",
       "      <th>6</th>\n",
       "      <td>1550</td>\n",
       "      <td>/maniqui-elegance-marron-madera-19-10-x-15-20-...</td>\n",
       "    </tr>\n",
       "    <tr>\n",
       "      <th>7</th>\n",
       "      <td>1552</td>\n",
       "      <td>/maniqui-news-crema-madera-35-60-x-35-60-x-150...</td>\n",
       "    </tr>\n",
       "    <tr>\n",
       "      <th>8</th>\n",
       "      <td>1553</td>\n",
       "      <td>/maniqui-elegance-marron-madera-40-60-x-27-90-...</td>\n",
       "    </tr>\n",
       "    <tr>\n",
       "      <th>9</th>\n",
       "      <td>1557</td>\n",
       "      <td>/figura-buda-gris-ceramica-etnico-garden-8-50-...</td>\n",
       "    </tr>\n",
       "  </tbody>\n",
       "</table>\n",
       "</div>"
      ],
      "text/plain": [
       "    sku                                                URL\n",
       "0  1540  /figura-zapato-plateado-resina-decoracion-10-5...\n",
       "1  1541  /figura-zapato-plateado-resina-decoracion-15-5...\n",
       "2  1542  /figura-zapato-clasico-plateado-resina-decorac...\n",
       "3  1544  /figura-zapato-plateado-resina-decoracion-12-x...\n",
       "4  1547  /figura-zapato-clasico-plateado-resina-decorac...\n",
       "5  1549  /maniqui-news-crema-madera-19-10-x-15-20-x-65-...\n",
       "6  1550  /maniqui-elegance-marron-madera-19-10-x-15-20-...\n",
       "7  1552  /maniqui-news-crema-madera-35-60-x-35-60-x-150...\n",
       "8  1553  /maniqui-elegance-marron-madera-40-60-x-27-90-...\n",
       "9  1557  /figura-buda-gris-ceramica-etnico-garden-8-50-..."
      ]
     },
     "execution_count": 9,
     "metadata": {},
     "output_type": "execute_result"
    }
   ],
   "source": [
    "df_url.head(10)"
   ]
  },
  {
   "cell_type": "markdown",
   "metadata": {},
   "source": [
    "Then, I open the file \"top_50_references\" from other directory"
   ]
  },
  {
   "cell_type": "code",
   "execution_count": 12,
   "metadata": {},
   "outputs": [],
   "source": [
    "path = \"/home/miguel/my_project_python/my_project_env/tfm/datasets\"\n",
    "os.chdir(path)\n",
    "\n",
    "df_top_50 = pd.read_csv(\"top_50_references.csv\", sep=\"\\t\", error_bad_lines=True)"
   ]
  },
  {
   "cell_type": "code",
   "execution_count": 13,
   "metadata": {},
   "outputs": [
    {
     "data": {
      "text/html": [
       "<div>\n",
       "<style scoped>\n",
       "    .dataframe tbody tr th:only-of-type {\n",
       "        vertical-align: middle;\n",
       "    }\n",
       "\n",
       "    .dataframe tbody tr th {\n",
       "        vertical-align: top;\n",
       "    }\n",
       "\n",
       "    .dataframe thead th {\n",
       "        text-align: right;\n",
       "    }\n",
       "</style>\n",
       "<table border=\"1\" class=\"dataframe\">\n",
       "  <thead>\n",
       "    <tr style=\"text-align: right;\">\n",
       "      <th></th>\n",
       "      <th>Reference</th>\n",
       "      <th>Date_BW</th>\n",
       "      <th>Units_sold</th>\n",
       "      <th>Net_Incomes</th>\n",
       "      <th>Date_ADS</th>\n",
       "      <th>Cost</th>\n",
       "      <th>Impresions</th>\n",
       "    </tr>\n",
       "  </thead>\n",
       "  <tbody>\n",
       "    <tr>\n",
       "      <th>0</th>\n",
       "      <td>8141600</td>\n",
       "      <td>55</td>\n",
       "      <td>416</td>\n",
       "      <td>8533.68</td>\n",
       "      <td>126</td>\n",
       "      <td>379.78</td>\n",
       "      <td>174498</td>\n",
       "    </tr>\n",
       "    <tr>\n",
       "      <th>1</th>\n",
       "      <td>82462</td>\n",
       "      <td>38</td>\n",
       "      <td>363</td>\n",
       "      <td>11208.61</td>\n",
       "      <td>56</td>\n",
       "      <td>121.41</td>\n",
       "      <td>57854</td>\n",
       "    </tr>\n",
       "    <tr>\n",
       "      <th>2</th>\n",
       "      <td>82466</td>\n",
       "      <td>41</td>\n",
       "      <td>180</td>\n",
       "      <td>6270.32</td>\n",
       "      <td>126</td>\n",
       "      <td>158.68</td>\n",
       "      <td>96652</td>\n",
       "    </tr>\n",
       "    <tr>\n",
       "      <th>3</th>\n",
       "      <td>8146000</td>\n",
       "      <td>98</td>\n",
       "      <td>179</td>\n",
       "      <td>4401.90</td>\n",
       "      <td>39</td>\n",
       "      <td>263.21</td>\n",
       "      <td>106009</td>\n",
       "    </tr>\n",
       "    <tr>\n",
       "      <th>4</th>\n",
       "      <td>122539</td>\n",
       "      <td>99</td>\n",
       "      <td>148</td>\n",
       "      <td>5667.47</td>\n",
       "      <td>110</td>\n",
       "      <td>965.58</td>\n",
       "      <td>282555</td>\n",
       "    </tr>\n",
       "    <tr>\n",
       "      <th>5</th>\n",
       "      <td>123838</td>\n",
       "      <td>87</td>\n",
       "      <td>143</td>\n",
       "      <td>2636.63</td>\n",
       "      <td>132</td>\n",
       "      <td>1803.89</td>\n",
       "      <td>398687</td>\n",
       "    </tr>\n",
       "    <tr>\n",
       "      <th>6</th>\n",
       "      <td>61096</td>\n",
       "      <td>104</td>\n",
       "      <td>142</td>\n",
       "      <td>5365.26</td>\n",
       "      <td>180</td>\n",
       "      <td>481.68</td>\n",
       "      <td>128744</td>\n",
       "    </tr>\n",
       "    <tr>\n",
       "      <th>7</th>\n",
       "      <td>89051</td>\n",
       "      <td>115</td>\n",
       "      <td>142</td>\n",
       "      <td>6736.89</td>\n",
       "      <td>149</td>\n",
       "      <td>183.95</td>\n",
       "      <td>67112</td>\n",
       "    </tr>\n",
       "    <tr>\n",
       "      <th>8</th>\n",
       "      <td>61731</td>\n",
       "      <td>91</td>\n",
       "      <td>126</td>\n",
       "      <td>10227.65</td>\n",
       "      <td>63</td>\n",
       "      <td>855.59</td>\n",
       "      <td>262189</td>\n",
       "    </tr>\n",
       "    <tr>\n",
       "      <th>9</th>\n",
       "      <td>48905</td>\n",
       "      <td>74</td>\n",
       "      <td>115</td>\n",
       "      <td>4773.70</td>\n",
       "      <td>86</td>\n",
       "      <td>549.50</td>\n",
       "      <td>96030</td>\n",
       "    </tr>\n",
       "  </tbody>\n",
       "</table>\n",
       "</div>"
      ],
      "text/plain": [
       "   Reference  Date_BW  Units_sold  Net_Incomes  Date_ADS     Cost  Impresions\n",
       "0    8141600       55         416      8533.68       126   379.78      174498\n",
       "1      82462       38         363     11208.61        56   121.41       57854\n",
       "2      82466       41         180      6270.32       126   158.68       96652\n",
       "3    8146000       98         179      4401.90        39   263.21      106009\n",
       "4     122539       99         148      5667.47       110   965.58      282555\n",
       "5     123838       87         143      2636.63       132  1803.89      398687\n",
       "6      61096      104         142      5365.26       180   481.68      128744\n",
       "7      89051      115         142      6736.89       149   183.95       67112\n",
       "8      61731       91         126     10227.65        63   855.59      262189\n",
       "9      48905       74         115      4773.70        86   549.50       96030"
      ]
     },
     "execution_count": 13,
     "metadata": {},
     "output_type": "execute_result"
    }
   ],
   "source": [
    "df_top_50.head(10)"
   ]
  },
  {
   "cell_type": "markdown",
   "metadata": {},
   "source": [
    "After that, I merge both dataframes:"
   ]
  },
  {
   "cell_type": "code",
   "execution_count": 34,
   "metadata": {},
   "outputs": [],
   "source": [
    "merge_url = df_url.merge(df_top_50,\n",
    "           how=\"inner\",\n",
    "           left_on=[\"sku\"],\n",
    "           right_on=[\"Reference\"])"
   ]
  },
  {
   "cell_type": "code",
   "execution_count": 35,
   "metadata": {},
   "outputs": [
    {
     "data": {
      "text/html": [
       "<div>\n",
       "<style scoped>\n",
       "    .dataframe tbody tr th:only-of-type {\n",
       "        vertical-align: middle;\n",
       "    }\n",
       "\n",
       "    .dataframe tbody tr th {\n",
       "        vertical-align: top;\n",
       "    }\n",
       "\n",
       "    .dataframe thead th {\n",
       "        text-align: right;\n",
       "    }\n",
       "</style>\n",
       "<table border=\"1\" class=\"dataframe\">\n",
       "  <thead>\n",
       "    <tr style=\"text-align: right;\">\n",
       "      <th></th>\n",
       "      <th>sku</th>\n",
       "      <th>URL</th>\n",
       "      <th>Reference</th>\n",
       "      <th>Date_BW</th>\n",
       "      <th>Units_sold</th>\n",
       "      <th>Net_Incomes</th>\n",
       "      <th>Date_ADS</th>\n",
       "      <th>Cost</th>\n",
       "      <th>Impresions</th>\n",
       "    </tr>\n",
       "  </thead>\n",
       "  <tbody>\n",
       "    <tr>\n",
       "      <th>0</th>\n",
       "      <td>122532</td>\n",
       "      <td>/espejo-pie-nordico-blanco-plastico-dormitorio...</td>\n",
       "      <td>122532</td>\n",
       "      <td>52</td>\n",
       "      <td>62</td>\n",
       "      <td>2373.93</td>\n",
       "      <td>61</td>\n",
       "      <td>211.74</td>\n",
       "      <td>81334</td>\n",
       "    </tr>\n",
       "    <tr>\n",
       "      <th>1</th>\n",
       "      <td>51148</td>\n",
       "      <td>/consola-3-cajones-y-4-puertas-oriental-rojo-m...</td>\n",
       "      <td>51148</td>\n",
       "      <td>76</td>\n",
       "      <td>82</td>\n",
       "      <td>12206.62</td>\n",
       "      <td>182</td>\n",
       "      <td>301.49</td>\n",
       "      <td>171433</td>\n",
       "    </tr>\n",
       "    <tr>\n",
       "      <th>2</th>\n",
       "      <td>51149</td>\n",
       "      <td>/consola-6-cajones-y-2-puertas-oriental-rojo-m...</td>\n",
       "      <td>51149</td>\n",
       "      <td>56</td>\n",
       "      <td>61</td>\n",
       "      <td>7474.25</td>\n",
       "      <td>185</td>\n",
       "      <td>648.79</td>\n",
       "      <td>238518</td>\n",
       "    </tr>\n",
       "    <tr>\n",
       "      <th>3</th>\n",
       "      <td>51136</td>\n",
       "      <td>/consola-3-cajones-y-4-puertas-oriental-negro-...</td>\n",
       "      <td>51136</td>\n",
       "      <td>77</td>\n",
       "      <td>96</td>\n",
       "      <td>14050.75</td>\n",
       "      <td>182</td>\n",
       "      <td>379.14</td>\n",
       "      <td>131363</td>\n",
       "    </tr>\n",
       "    <tr>\n",
       "      <th>4</th>\n",
       "      <td>51140</td>\n",
       "      <td>/mesilla-de-noche-1-cajon-y-2-puertas-oriental...</td>\n",
       "      <td>51140</td>\n",
       "      <td>46</td>\n",
       "      <td>73</td>\n",
       "      <td>7127.27</td>\n",
       "      <td>181</td>\n",
       "      <td>465.76</td>\n",
       "      <td>237417</td>\n",
       "    </tr>\n",
       "  </tbody>\n",
       "</table>\n",
       "</div>"
      ],
      "text/plain": [
       "      sku                                                URL  Reference  \\\n",
       "0  122532  /espejo-pie-nordico-blanco-plastico-dormitorio...     122532   \n",
       "1   51148  /consola-3-cajones-y-4-puertas-oriental-rojo-m...      51148   \n",
       "2   51149  /consola-6-cajones-y-2-puertas-oriental-rojo-m...      51149   \n",
       "3   51136  /consola-3-cajones-y-4-puertas-oriental-negro-...      51136   \n",
       "4   51140  /mesilla-de-noche-1-cajon-y-2-puertas-oriental...      51140   \n",
       "\n",
       "   Date_BW  Units_sold  Net_Incomes  Date_ADS    Cost  Impresions  \n",
       "0       52          62      2373.93        61  211.74       81334  \n",
       "1       76          82     12206.62       182  301.49      171433  \n",
       "2       56          61      7474.25       185  648.79      238518  \n",
       "3       77          96     14050.75       182  379.14      131363  \n",
       "4       46          73      7127.27       181  465.76      237417  "
      ]
     },
     "execution_count": 35,
     "metadata": {},
     "output_type": "execute_result"
    }
   ],
   "source": [
    "merge_url.head(5)"
   ]
  },
  {
   "cell_type": "code",
   "execution_count": 36,
   "metadata": {},
   "outputs": [
    {
     "data": {
      "text/plain": [
       "(50, 9)"
      ]
     },
     "execution_count": 36,
     "metadata": {},
     "output_type": "execute_result"
    }
   ],
   "source": [
    "merge_url.shape"
   ]
  },
  {
   "cell_type": "markdown",
   "metadata": {},
   "source": [
    "Now that I have the url from my top 50 references, I select the suitable columns to continue working with this dataframe"
   ]
  },
  {
   "cell_type": "code",
   "execution_count": 37,
   "metadata": {},
   "outputs": [
    {
     "data": {
      "text/html": [
       "<div>\n",
       "<style scoped>\n",
       "    .dataframe tbody tr th:only-of-type {\n",
       "        vertical-align: middle;\n",
       "    }\n",
       "\n",
       "    .dataframe tbody tr th {\n",
       "        vertical-align: top;\n",
       "    }\n",
       "\n",
       "    .dataframe thead th {\n",
       "        text-align: right;\n",
       "    }\n",
       "</style>\n",
       "<table border=\"1\" class=\"dataframe\">\n",
       "  <thead>\n",
       "    <tr style=\"text-align: right;\">\n",
       "      <th></th>\n",
       "      <th>Reference</th>\n",
       "      <th>URL</th>\n",
       "    </tr>\n",
       "  </thead>\n",
       "  <tbody>\n",
       "    <tr>\n",
       "      <th>0</th>\n",
       "      <td>122532</td>\n",
       "      <td>/espejo-pie-nordico-blanco-plastico-dormitorio...</td>\n",
       "    </tr>\n",
       "    <tr>\n",
       "      <th>1</th>\n",
       "      <td>51148</td>\n",
       "      <td>/consola-3-cajones-y-4-puertas-oriental-rojo-m...</td>\n",
       "    </tr>\n",
       "    <tr>\n",
       "      <th>2</th>\n",
       "      <td>51149</td>\n",
       "      <td>/consola-6-cajones-y-2-puertas-oriental-rojo-m...</td>\n",
       "    </tr>\n",
       "    <tr>\n",
       "      <th>3</th>\n",
       "      <td>51136</td>\n",
       "      <td>/consola-3-cajones-y-4-puertas-oriental-negro-...</td>\n",
       "    </tr>\n",
       "    <tr>\n",
       "      <th>4</th>\n",
       "      <td>51140</td>\n",
       "      <td>/mesilla-de-noche-1-cajon-y-2-puertas-oriental...</td>\n",
       "    </tr>\n",
       "  </tbody>\n",
       "</table>\n",
       "</div>"
      ],
      "text/plain": [
       "   Reference                                                URL\n",
       "0     122532  /espejo-pie-nordico-blanco-plastico-dormitorio...\n",
       "1      51148  /consola-3-cajones-y-4-puertas-oriental-rojo-m...\n",
       "2      51149  /consola-6-cajones-y-2-puertas-oriental-rojo-m...\n",
       "3      51136  /consola-3-cajones-y-4-puertas-oriental-negro-...\n",
       "4      51140  /mesilla-de-noche-1-cajon-y-2-puertas-oriental..."
      ]
     },
     "execution_count": 37,
     "metadata": {},
     "output_type": "execute_result"
    }
   ],
   "source": [
    "columns_interest = [\"Reference\", \"URL\"]\n",
    "merge_url = merge_url[columns_interest]\n",
    "merge_url.head(5)"
   ]
  },
  {
   "cell_type": "markdown",
   "metadata": {},
   "source": [
    "I finish saving the dataframe as csv"
   ]
  },
  {
   "cell_type": "code",
   "execution_count": 38,
   "metadata": {},
   "outputs": [],
   "source": [
    "path = \"/home/miguel/my_project_python/my_project_env/tfm/datasets\"\n",
    "os.chdir(path)\n",
    "\n",
    "merge_url.to_csv(\"references_url.csv\", sep='\\t')"
   ]
  }
 ],
 "metadata": {
  "kernelspec": {
   "display_name": "Python 3",
   "language": "python",
   "name": "python3"
  },
  "language_info": {
   "codemirror_mode": {
    "name": "ipython",
    "version": 3
   },
   "file_extension": ".py",
   "mimetype": "text/x-python",
   "name": "python",
   "nbconvert_exporter": "python",
   "pygments_lexer": "ipython3",
   "version": "3.6.7"
  }
 },
 "nbformat": 4,
 "nbformat_minor": 2
}
