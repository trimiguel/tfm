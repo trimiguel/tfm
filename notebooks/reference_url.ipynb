{
 "cells": [
  {
   "cell_type": "markdown",
   "metadata": {},
   "source": [
    "# Reference url\n",
    "\n",
    "In this notebook, I am going to merge the references with their pageviews each day of the studied period.\n",
    "\n",
    "These are the steps that I am going to follow:\n",
    "    - Merge file \"top_50_references.csv\" with \"references_url.xlsx\"\n",
    "    - Merge the previous combination with \"all_pageviews.csv\" \n",
    "    - Merge thecombination from the second step with \"datetime_df.csv\""
   ]
  },
  {
   "cell_type": "code",
   "execution_count": 1,
   "metadata": {},
   "outputs": [
    {
     "data": {
      "text/plain": [
       "'/home/miguel/my_project_python/my_project_env/tfm'"
      ]
     },
     "execution_count": 1,
     "metadata": {},
     "output_type": "execute_result"
    }
   ],
   "source": [
    "pwd"
   ]
  },
  {
   "cell_type": "code",
   "execution_count": null,
   "metadata": {},
   "outputs": [],
   "source": [
    "import os\n",
    "\n",
    "path = \"/home/miguel/Escritorio/TFM\"\n",
    "os.chdir(path)"
   ]
  }
 ],
 "metadata": {
  "kernelspec": {
   "display_name": "Python 3",
   "language": "python",
   "name": "python3"
  },
  "language_info": {
   "codemirror_mode": {
    "name": "ipython",
    "version": 3
   },
   "file_extension": ".py",
   "mimetype": "text/x-python",
   "name": "python",
   "nbconvert_exporter": "python",
   "pygments_lexer": "ipython3",
   "version": "3.6.7"
  }
 },
 "nbformat": 4,
 "nbformat_minor": 2
}
