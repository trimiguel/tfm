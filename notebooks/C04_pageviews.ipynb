{
 "cells": [
  {
   "cell_type": "code",
   "execution_count": 297,
   "metadata": {},
   "outputs": [],
   "source": [
    "from datetime import datetime\n",
    "import numpy as np\n",
    "import pandas as pd\n",
    "import io"
   ]
  },
  {
   "cell_type": "markdown",
   "metadata": {},
   "source": [
    "First of all, I set the directory"
   ]
  },
  {
   "cell_type": "code",
   "execution_count": 298,
   "metadata": {},
   "outputs": [],
   "source": [
    "path = \"/home/miguel/my_project_python/my_project_env/tfm/datasets\"\n",
    "os.chdir(path)"
   ]
  },
  {
   "cell_type": "markdown",
   "metadata": {},
   "source": [
    "Then, I open the files required:"
   ]
  },
  {
   "cell_type": "code",
   "execution_count": 299,
   "metadata": {},
   "outputs": [],
   "source": [
    "#load\n",
    "df_reference_url = pd.read_csv(\"references_url.csv\", sep='\\t')\n",
    "df_datetime = pd.read_csv(\"datetime_df.csv\")\n",
    "\n",
    "\n",
    "#select columns\n",
    "column_interest_reference = [\"Reference\", \"URL\"]\n",
    "df_reference_url = df_reference_url[column_interest_reference]\n",
    "\n",
    "column_interest_datetime = [\"Dates\"]\n",
    "df_datetime = df_datetime[column_interest_datetime]\n",
    "\n",
    "#parse datetime\n",
    "df_datetime[\"Dates\"] = pd.to_datetime(df_datetime[\"Dates\"], format = \"%Y-%m-%d\")"
   ]
  },
  {
   "cell_type": "code",
   "execution_count": 300,
   "metadata": {},
   "outputs": [
    {
     "data": {
      "text/html": [
       "<div>\n",
       "<style scoped>\n",
       "    .dataframe tbody tr th:only-of-type {\n",
       "        vertical-align: middle;\n",
       "    }\n",
       "\n",
       "    .dataframe tbody tr th {\n",
       "        vertical-align: top;\n",
       "    }\n",
       "\n",
       "    .dataframe thead th {\n",
       "        text-align: right;\n",
       "    }\n",
       "</style>\n",
       "<table border=\"1\" class=\"dataframe\">\n",
       "  <thead>\n",
       "    <tr style=\"text-align: right;\">\n",
       "      <th></th>\n",
       "      <th>Reference</th>\n",
       "      <th>URL</th>\n",
       "    </tr>\n",
       "  </thead>\n",
       "  <tbody>\n",
       "    <tr>\n",
       "      <th>0</th>\n",
       "      <td>122532</td>\n",
       "      <td>/espejo-pie-nordico-blanco-plastico-dormitorio...</td>\n",
       "    </tr>\n",
       "    <tr>\n",
       "      <th>1</th>\n",
       "      <td>51148</td>\n",
       "      <td>/consola-3-cajones-y-4-puertas-oriental-rojo-m...</td>\n",
       "    </tr>\n",
       "    <tr>\n",
       "      <th>2</th>\n",
       "      <td>51149</td>\n",
       "      <td>/consola-6-cajones-y-2-puertas-oriental-rojo-m...</td>\n",
       "    </tr>\n",
       "    <tr>\n",
       "      <th>3</th>\n",
       "      <td>51136</td>\n",
       "      <td>/consola-3-cajones-y-4-puertas-oriental-negro-...</td>\n",
       "    </tr>\n",
       "    <tr>\n",
       "      <th>4</th>\n",
       "      <td>51140</td>\n",
       "      <td>/mesilla-de-noche-1-cajon-y-2-puertas-oriental...</td>\n",
       "    </tr>\n",
       "  </tbody>\n",
       "</table>\n",
       "</div>"
      ],
      "text/plain": [
       "   Reference                                                URL\n",
       "0     122532  /espejo-pie-nordico-blanco-plastico-dormitorio...\n",
       "1      51148  /consola-3-cajones-y-4-puertas-oriental-rojo-m...\n",
       "2      51149  /consola-6-cajones-y-2-puertas-oriental-rojo-m...\n",
       "3      51136  /consola-3-cajones-y-4-puertas-oriental-negro-...\n",
       "4      51140  /mesilla-de-noche-1-cajon-y-2-puertas-oriental..."
      ]
     },
     "execution_count": 300,
     "metadata": {},
     "output_type": "execute_result"
    }
   ],
   "source": [
    "df_reference_url.head(5)"
   ]
  },
  {
   "cell_type": "code",
   "execution_count": 301,
   "metadata": {},
   "outputs": [
    {
     "data": {
      "text/html": [
       "<div>\n",
       "<style scoped>\n",
       "    .dataframe tbody tr th:only-of-type {\n",
       "        vertical-align: middle;\n",
       "    }\n",
       "\n",
       "    .dataframe tbody tr th {\n",
       "        vertical-align: top;\n",
       "    }\n",
       "\n",
       "    .dataframe thead th {\n",
       "        text-align: right;\n",
       "    }\n",
       "</style>\n",
       "<table border=\"1\" class=\"dataframe\">\n",
       "  <thead>\n",
       "    <tr style=\"text-align: right;\">\n",
       "      <th></th>\n",
       "      <th>Dates</th>\n",
       "    </tr>\n",
       "  </thead>\n",
       "  <tbody>\n",
       "    <tr>\n",
       "      <th>0</th>\n",
       "      <td>2017-09-02</td>\n",
       "    </tr>\n",
       "    <tr>\n",
       "      <th>1</th>\n",
       "      <td>2017-09-03</td>\n",
       "    </tr>\n",
       "    <tr>\n",
       "      <th>2</th>\n",
       "      <td>2017-09-04</td>\n",
       "    </tr>\n",
       "    <tr>\n",
       "      <th>3</th>\n",
       "      <td>2017-09-05</td>\n",
       "    </tr>\n",
       "    <tr>\n",
       "      <th>4</th>\n",
       "      <td>2017-09-06</td>\n",
       "    </tr>\n",
       "  </tbody>\n",
       "</table>\n",
       "</div>"
      ],
      "text/plain": [
       "       Dates\n",
       "0 2017-09-02\n",
       "1 2017-09-03\n",
       "2 2017-09-04\n",
       "3 2017-09-05\n",
       "4 2017-09-06"
      ]
     },
     "execution_count": 301,
     "metadata": {},
     "output_type": "execute_result"
    }
   ],
   "source": [
    "df_datetime.head(5)"
   ]
  },
  {
   "cell_type": "code",
   "execution_count": 302,
   "metadata": {},
   "outputs": [],
   "source": [
    "def pageview_missing_values(path,file):\n",
    "    \n",
    "    os.chdir(path)\n",
    "    \n",
    "    df_pageview = pd.read_csv(file)\n",
    "    \n",
    "    df_pageview = df_pageview.rename(index=str, columns={\"Day Index\":\"Dates\", \"Page Views\": \"Page_Views\"})\n",
    "    \n",
    "    column_interest_pageview = [\"Page\", \"Dates\", \"Page_Views\"]\n",
    "    df_pageview = df_pageview[column_interest_pageview]   \n",
    "    \n",
    "    df_pageview[\"Dates\"] = pd.to_datetime(df_pageview[\"Dates\"], format = \"%d/%m/%Y\")\n",
    "    \n",
    "    merge_pageview = df_pageview.merge(df_datetime,\n",
    "        how=\"right\",\n",
    "        left_on=[\"Dates\"],\n",
    "        right_on=[\"Dates\"])\n",
    "    \n",
    "    merge_pageview[\"Page\"].fillna(method='ffill', inplace = True)\n",
    "    merge_pageview[\"Page_Views\"].fillna(0, inplace = True)\n",
    "    \n",
    "    merge_url = merge_pageview.merge(df_reference_url,\n",
    "        how=\"inner\",\n",
    "        left_on=[\"Page\"],\n",
    "        right_on=[\"URL\"])\n",
    "    \n",
    "    column_interest_reference = [\"Reference\", \"Dates\", \"Page_Views\"]\n",
    "    merge_url = merge_url[column_interest_reference].sort_values(by=\"Dates\")\n",
    "        \n",
    "    return merge_url"
   ]
  },
  {
   "cell_type": "code",
   "execution_count": 280,
   "metadata": {},
   "outputs": [],
   "source": [
    "df_test = pageview_missing_values(\"/media/sf_Carpeta/Smart_Shopping/Data/GA\", \"29300_url.csv\")"
   ]
  },
  {
   "cell_type": "code",
   "execution_count": 281,
   "metadata": {},
   "outputs": [
    {
     "data": {
      "text/plain": [
       "(576, 3)"
      ]
     },
     "execution_count": 281,
     "metadata": {},
     "output_type": "execute_result"
    }
   ],
   "source": [
    "df_test.shape"
   ]
  },
  {
   "cell_type": "code",
   "execution_count": 282,
   "metadata": {},
   "outputs": [
    {
     "data": {
      "text/html": [
       "<div>\n",
       "<style scoped>\n",
       "    .dataframe tbody tr th:only-of-type {\n",
       "        vertical-align: middle;\n",
       "    }\n",
       "\n",
       "    .dataframe tbody tr th {\n",
       "        vertical-align: top;\n",
       "    }\n",
       "\n",
       "    .dataframe thead th {\n",
       "        text-align: right;\n",
       "    }\n",
       "</style>\n",
       "<table border=\"1\" class=\"dataframe\">\n",
       "  <thead>\n",
       "    <tr style=\"text-align: right;\">\n",
       "      <th></th>\n",
       "      <th>Reference</th>\n",
       "      <th>Dates</th>\n",
       "      <th>Page_Views</th>\n",
       "    </tr>\n",
       "  </thead>\n",
       "  <tbody>\n",
       "    <tr>\n",
       "      <th>170</th>\n",
       "      <td>29300</td>\n",
       "      <td>2017-09-02</td>\n",
       "      <td>0.0</td>\n",
       "    </tr>\n",
       "    <tr>\n",
       "      <th>171</th>\n",
       "      <td>29300</td>\n",
       "      <td>2017-09-03</td>\n",
       "      <td>0.0</td>\n",
       "    </tr>\n",
       "    <tr>\n",
       "      <th>172</th>\n",
       "      <td>29300</td>\n",
       "      <td>2017-09-04</td>\n",
       "      <td>0.0</td>\n",
       "    </tr>\n",
       "    <tr>\n",
       "      <th>173</th>\n",
       "      <td>29300</td>\n",
       "      <td>2017-09-05</td>\n",
       "      <td>0.0</td>\n",
       "    </tr>\n",
       "    <tr>\n",
       "      <th>174</th>\n",
       "      <td>29300</td>\n",
       "      <td>2017-09-06</td>\n",
       "      <td>0.0</td>\n",
       "    </tr>\n",
       "  </tbody>\n",
       "</table>\n",
       "</div>"
      ],
      "text/plain": [
       "     Reference      Dates  Page_Views\n",
       "170      29300 2017-09-02         0.0\n",
       "171      29300 2017-09-03         0.0\n",
       "172      29300 2017-09-04         0.0\n",
       "173      29300 2017-09-05         0.0\n",
       "174      29300 2017-09-06         0.0"
      ]
     },
     "execution_count": 282,
     "metadata": {},
     "output_type": "execute_result"
    }
   ],
   "source": [
    "df_test.head(5)"
   ]
  },
  {
   "cell_type": "code",
   "execution_count": 283,
   "metadata": {},
   "outputs": [
    {
     "name": "stdout",
     "output_type": "stream",
     "text": [
      "<class 'pandas.core.frame.DataFrame'>\n",
      "Int64Index: 576 entries, 170 to 169\n",
      "Data columns (total 3 columns):\n",
      "Reference     576 non-null int64\n",
      "Dates         576 non-null datetime64[ns]\n",
      "Page_Views    576 non-null float64\n",
      "dtypes: datetime64[ns](1), float64(1), int64(1)\n",
      "memory usage: 18.0 KB\n"
     ]
    }
   ],
   "source": [
    "df_test.info()"
   ]
  },
  {
   "cell_type": "code",
   "execution_count": 303,
   "metadata": {},
   "outputs": [
    {
     "ename": "FileNotFoundError",
     "evalue": "[Errno 2] No such file or directory: '/home/miguel/my_project_python/my_project_env/tfm/datasets/pageviews'",
     "output_type": "error",
     "traceback": [
      "\u001b[0;31m---------------------------------------------------------------------------\u001b[0m",
      "\u001b[0;31mFileNotFoundError\u001b[0m                         Traceback (most recent call last)",
      "\u001b[0;32m<ipython-input-303-a639d6bd29bc>\u001b[0m in \u001b[0;36m<module>\u001b[0;34m\u001b[0m\n\u001b[1;32m      7\u001b[0m \u001b[0;34m\u001b[0m\u001b[0m\n\u001b[1;32m      8\u001b[0m     \u001b[0mpath\u001b[0m \u001b[0;34m=\u001b[0m \u001b[0;34m\"/home/miguel/my_project_python/my_project_env/tfm/datasets/pageviews\"\u001b[0m\u001b[0;34m\u001b[0m\u001b[0;34m\u001b[0m\u001b[0m\n\u001b[0;32m----> 9\u001b[0;31m     \u001b[0mos\u001b[0m\u001b[0;34m.\u001b[0m\u001b[0mchdir\u001b[0m\u001b[0;34m(\u001b[0m\u001b[0mpath\u001b[0m\u001b[0;34m)\u001b[0m\u001b[0;34m\u001b[0m\u001b[0;34m\u001b[0m\u001b[0m\n\u001b[0m\u001b[1;32m     10\u001b[0m \u001b[0;34m\u001b[0m\u001b[0m\n\u001b[1;32m     11\u001b[0m     \u001b[0mdf_test\u001b[0m\u001b[0;34m.\u001b[0m\u001b[0mto_csv\u001b[0m\u001b[0;34m(\u001b[0m\u001b[0mfile\u001b[0m\u001b[0;34m)\u001b[0m\u001b[0;34m\u001b[0m\u001b[0;34m\u001b[0m\u001b[0m\n",
      "\u001b[0;31mFileNotFoundError\u001b[0m: [Errno 2] No such file or directory: '/home/miguel/my_project_python/my_project_env/tfm/datasets/pageviews'"
     ]
    }
   ],
   "source": [
    "lista = df_reference_url[\"Reference\"].apply(str)+\"_url.csv\"\n",
    "c = lista.values.tolist()\n",
    "\n",
    "for i in range(len(c)):\n",
    "    df_test = pageview_missing_values(\"/media/sf_Carpeta/Smart_Shopping/Data/GA\", c[i])\n",
    "    file = c[i]\n",
    "    \n",
    "    path = \"/home/miguel/my_project_python/my_project_env/tfm/datasets/pageviews\"\n",
    "    os.chdir(path)\n",
    "    \n",
    "    df_test.to_csv(file)"
   ]
  },
  {
   "cell_type": "code",
   "execution_count": 296,
   "metadata": {},
   "outputs": [
    {
     "data": {
      "text/plain": [
       "'/media/sf_Carpeta/Smart_Shopping/Data/GA'"
      ]
     },
     "execution_count": 296,
     "metadata": {},
     "output_type": "execute_result"
    }
   ],
   "source": [
    "pwd"
   ]
  },
  {
   "cell_type": "code",
   "execution_count": null,
   "metadata": {},
   "outputs": [],
   "source": [
    "lista = df_reference_url[\"Reference\"].apply(str)+\"_url.csv\"\n",
    "\n",
    "for i in lista.values():\n",
    "    data = lista.loc[i]\n",
    "    \n",
    "    df_test = pageview_missing_values(\"/media/sf_Carpeta/Smart_Shopping/Data/GA\", data)\n",
    "    \n",
    "    file = \"a_\" + lista\n",
    "    \n",
    "    df_test.to_csv(file)\n",
    "    "
   ]
  },
  {
   "cell_type": "code",
   "execution_count": 270,
   "metadata": {
    "scrolled": true
   },
   "outputs": [
    {
     "name": "stderr",
     "output_type": "stream",
     "text": [
      "/home/miguel/my_project_python/my_project_env/lib/python3.6/site-packages/ipykernel_launcher.py:6: FutureWarning: get_value is deprecated and will be removed in a future release. Please use .at[] or .iat[] accessors instead\n",
      "  \n"
     ]
    },
    {
     "ename": "KeyError",
     "evalue": "15014091024",
     "output_type": "error",
     "traceback": [
      "\u001b[0;31m---------------------------------------------------------------------------\u001b[0m",
      "\u001b[0;31mKeyError\u001b[0m                                  Traceback (most recent call last)",
      "\u001b[0;32m<ipython-input-270-8178fb4b565a>\u001b[0m in \u001b[0;36m<module>\u001b[0;34m\u001b[0m\n\u001b[1;32m      4\u001b[0m \u001b[0;32mfor\u001b[0m \u001b[0mi\u001b[0m \u001b[0;32min\u001b[0m \u001b[0mdf_testx\u001b[0m\u001b[0;34m.\u001b[0m\u001b[0mindex\u001b[0m\u001b[0;34m:\u001b[0m\u001b[0;34m\u001b[0m\u001b[0;34m\u001b[0m\u001b[0m\n\u001b[1;32m      5\u001b[0m     \u001b[0;32mfor\u001b[0m \u001b[0mz\u001b[0m \u001b[0;32min\u001b[0m \u001b[0mdf_testx\u001b[0m\u001b[0;34m.\u001b[0m\u001b[0mvalues\u001b[0m\u001b[0;34m:\u001b[0m\u001b[0;34m\u001b[0m\u001b[0;34m\u001b[0m\u001b[0m\n\u001b[0;32m----> 6\u001b[0;31m         \u001b[0mdf\u001b[0m\u001b[0;34m[\u001b[0m\u001b[0mi\u001b[0m\u001b[0;34m]\u001b[0m \u001b[0;34m=\u001b[0m \u001b[0mdf_testx\u001b[0m\u001b[0;34m.\u001b[0m\u001b[0mget_value\u001b[0m\u001b[0;34m(\u001b[0m\u001b[0mz\u001b[0m\u001b[0;34m,\u001b[0m\u001b[0;34m'Reference'\u001b[0m\u001b[0;34m)\u001b[0m\u001b[0;34m\u001b[0m\u001b[0;34m\u001b[0m\u001b[0m\n\u001b[0m",
      "\u001b[0;32m~/my_project_python/my_project_env/lib/python3.6/site-packages/pandas/core/series.py\u001b[0m in \u001b[0;36mget_value\u001b[0;34m(self, label, takeable)\u001b[0m\n\u001b[1;32m   1180\u001b[0m                       \u001b[0;34m\".at[] or .iat[] accessors instead\"\u001b[0m\u001b[0;34m,\u001b[0m \u001b[0mFutureWarning\u001b[0m\u001b[0;34m,\u001b[0m\u001b[0;34m\u001b[0m\u001b[0;34m\u001b[0m\u001b[0m\n\u001b[1;32m   1181\u001b[0m                       stacklevel=2)\n\u001b[0;32m-> 1182\u001b[0;31m         \u001b[0;32mreturn\u001b[0m \u001b[0mself\u001b[0m\u001b[0;34m.\u001b[0m\u001b[0m_get_value\u001b[0m\u001b[0;34m(\u001b[0m\u001b[0mlabel\u001b[0m\u001b[0;34m,\u001b[0m \u001b[0mtakeable\u001b[0m\u001b[0;34m=\u001b[0m\u001b[0mtakeable\u001b[0m\u001b[0;34m)\u001b[0m\u001b[0;34m\u001b[0m\u001b[0;34m\u001b[0m\u001b[0m\n\u001b[0m\u001b[1;32m   1183\u001b[0m \u001b[0;34m\u001b[0m\u001b[0m\n\u001b[1;32m   1184\u001b[0m     \u001b[0;32mdef\u001b[0m \u001b[0m_get_value\u001b[0m\u001b[0;34m(\u001b[0m\u001b[0mself\u001b[0m\u001b[0;34m,\u001b[0m \u001b[0mlabel\u001b[0m\u001b[0;34m,\u001b[0m \u001b[0mtakeable\u001b[0m\u001b[0;34m=\u001b[0m\u001b[0;32mFalse\u001b[0m\u001b[0;34m)\u001b[0m\u001b[0;34m:\u001b[0m\u001b[0;34m\u001b[0m\u001b[0;34m\u001b[0m\u001b[0m\n",
      "\u001b[0;32m~/my_project_python/my_project_env/lib/python3.6/site-packages/pandas/core/series.py\u001b[0m in \u001b[0;36m_get_value\u001b[0;34m(self, label, takeable)\u001b[0m\n\u001b[1;32m   1185\u001b[0m         \u001b[0;32mif\u001b[0m \u001b[0mtakeable\u001b[0m \u001b[0;32mis\u001b[0m \u001b[0;32mTrue\u001b[0m\u001b[0;34m:\u001b[0m\u001b[0;34m\u001b[0m\u001b[0;34m\u001b[0m\u001b[0m\n\u001b[1;32m   1186\u001b[0m             \u001b[0;32mreturn\u001b[0m \u001b[0mcom\u001b[0m\u001b[0;34m.\u001b[0m\u001b[0mmaybe_box_datetimelike\u001b[0m\u001b[0;34m(\u001b[0m\u001b[0mself\u001b[0m\u001b[0;34m.\u001b[0m\u001b[0m_values\u001b[0m\u001b[0;34m[\u001b[0m\u001b[0mlabel\u001b[0m\u001b[0;34m]\u001b[0m\u001b[0;34m)\u001b[0m\u001b[0;34m\u001b[0m\u001b[0;34m\u001b[0m\u001b[0m\n\u001b[0;32m-> 1187\u001b[0;31m         \u001b[0;32mreturn\u001b[0m \u001b[0mself\u001b[0m\u001b[0;34m.\u001b[0m\u001b[0mindex\u001b[0m\u001b[0;34m.\u001b[0m\u001b[0mget_value\u001b[0m\u001b[0;34m(\u001b[0m\u001b[0mself\u001b[0m\u001b[0;34m.\u001b[0m\u001b[0m_values\u001b[0m\u001b[0;34m,\u001b[0m \u001b[0mlabel\u001b[0m\u001b[0;34m)\u001b[0m\u001b[0;34m\u001b[0m\u001b[0;34m\u001b[0m\u001b[0m\n\u001b[0m\u001b[1;32m   1188\u001b[0m     \u001b[0m_get_value\u001b[0m\u001b[0;34m.\u001b[0m\u001b[0m__doc__\u001b[0m \u001b[0;34m=\u001b[0m \u001b[0mget_value\u001b[0m\u001b[0;34m.\u001b[0m\u001b[0m__doc__\u001b[0m\u001b[0;34m\u001b[0m\u001b[0;34m\u001b[0m\u001b[0m\n\u001b[1;32m   1189\u001b[0m \u001b[0;34m\u001b[0m\u001b[0m\n",
      "\u001b[0;32m~/my_project_python/my_project_env/lib/python3.6/site-packages/pandas/core/indexes/base.py\u001b[0m in \u001b[0;36mget_value\u001b[0;34m(self, series, key)\u001b[0m\n\u001b[1;32m   4373\u001b[0m         \u001b[0;32mtry\u001b[0m\u001b[0;34m:\u001b[0m\u001b[0;34m\u001b[0m\u001b[0;34m\u001b[0m\u001b[0m\n\u001b[1;32m   4374\u001b[0m             return self._engine.get_value(s, k,\n\u001b[0;32m-> 4375\u001b[0;31m                                           tz=getattr(series.dtype, 'tz', None))\n\u001b[0m\u001b[1;32m   4376\u001b[0m         \u001b[0;32mexcept\u001b[0m \u001b[0mKeyError\u001b[0m \u001b[0;32mas\u001b[0m \u001b[0me1\u001b[0m\u001b[0;34m:\u001b[0m\u001b[0;34m\u001b[0m\u001b[0;34m\u001b[0m\u001b[0m\n\u001b[1;32m   4377\u001b[0m             \u001b[0;32mif\u001b[0m \u001b[0mlen\u001b[0m\u001b[0;34m(\u001b[0m\u001b[0mself\u001b[0m\u001b[0;34m)\u001b[0m \u001b[0;34m>\u001b[0m \u001b[0;36m0\u001b[0m \u001b[0;32mand\u001b[0m \u001b[0;34m(\u001b[0m\u001b[0mself\u001b[0m\u001b[0;34m.\u001b[0m\u001b[0mholds_integer\u001b[0m\u001b[0;34m(\u001b[0m\u001b[0;34m)\u001b[0m \u001b[0;32mor\u001b[0m \u001b[0mself\u001b[0m\u001b[0;34m.\u001b[0m\u001b[0mis_boolean\u001b[0m\u001b[0;34m(\u001b[0m\u001b[0;34m)\u001b[0m\u001b[0;34m)\u001b[0m\u001b[0;34m:\u001b[0m\u001b[0;34m\u001b[0m\u001b[0;34m\u001b[0m\u001b[0m\n",
      "\u001b[0;32mpandas/_libs/index.pyx\u001b[0m in \u001b[0;36mpandas._libs.index.IndexEngine.get_value\u001b[0;34m()\u001b[0m\n",
      "\u001b[0;32mpandas/_libs/index.pyx\u001b[0m in \u001b[0;36mpandas._libs.index.IndexEngine.get_value\u001b[0;34m()\u001b[0m\n",
      "\u001b[0;32mpandas/_libs/index.pyx\u001b[0m in \u001b[0;36mpandas._libs.index.IndexEngine.get_loc\u001b[0;34m()\u001b[0m\n",
      "\u001b[0;32mpandas/_libs/hashtable_class_helper.pxi\u001b[0m in \u001b[0;36mpandas._libs.hashtable.Int64HashTable.get_item\u001b[0;34m()\u001b[0m\n",
      "\u001b[0;32mpandas/_libs/hashtable_class_helper.pxi\u001b[0m in \u001b[0;36mpandas._libs.hashtable.Int64HashTable.get_item\u001b[0;34m()\u001b[0m\n",
      "\u001b[0;31mKeyError\u001b[0m: 15014091024"
     ]
    }
   ],
   "source": [
    "df_testx = df_test[\"Reference\"]\n",
    "df = np.zeros(shape=(df_test.shape[0], 1), dtype=np.object)\n",
    "\n",
    "for i in df_testx.index:\n",
    "    for z in df_testx.values:\n",
    "        df[i] = df_testx.get_value(z,'Reference')"
   ]
  },
  {
   "cell_type": "code",
   "execution_count": 267,
   "metadata": {},
   "outputs": [
    {
     "data": {
      "text/plain": [
       "array([[15014091024],\n",
       "       [15014091024],\n",
       "       [15014091024],\n",
       "       [15014091024],\n",
       "       [15014091024],\n",
       "       [15014091024],\n",
       "       [15014091024],\n",
       "       [15014091024],\n",
       "       [15014091024],\n",
       "       [15014091024],\n",
       "       [15014091024],\n",
       "       [15014091024],\n",
       "       [15014091024],\n",
       "       [15014091024],\n",
       "       [15014091024],\n",
       "       [15014091024],\n",
       "       [15014091024],\n",
       "       [15014091024],\n",
       "       [15014091024],\n",
       "       [15014091024],\n",
       "       [15014091024],\n",
       "       [15014091024],\n",
       "       [15014091024],\n",
       "       [15014091024],\n",
       "       [15014091024],\n",
       "       [15014091024],\n",
       "       [15014091024],\n",
       "       [15014091024],\n",
       "       [15014091024],\n",
       "       [15014091024],\n",
       "       [15014091024],\n",
       "       [15014091024],\n",
       "       [15014091024],\n",
       "       [15014091024],\n",
       "       [15014091024],\n",
       "       [15014091024],\n",
       "       [15014091024],\n",
       "       [15014091024],\n",
       "       [15014091024],\n",
       "       [15014091024],\n",
       "       [15014091024],\n",
       "       [15014091024],\n",
       "       [15014091024],\n",
       "       [15014091024],\n",
       "       [15014091024],\n",
       "       [15014091024],\n",
       "       [15014091024],\n",
       "       [15014091024],\n",
       "       [15014091024],\n",
       "       [15014091024],\n",
       "       [15014091024],\n",
       "       [15014091024],\n",
       "       [15014091024],\n",
       "       [15014091024],\n",
       "       [15014091024],\n",
       "       [15014091024],\n",
       "       [15014091024],\n",
       "       [15014091024],\n",
       "       [15014091024],\n",
       "       [15014091024],\n",
       "       [15014091024],\n",
       "       [15014091024],\n",
       "       [15014091024],\n",
       "       [15014091024],\n",
       "       [15014091024],\n",
       "       [15014091024],\n",
       "       [15014091024],\n",
       "       [15014091024],\n",
       "       [15014091024],\n",
       "       [15014091024],\n",
       "       [15014091024],\n",
       "       [15014091024],\n",
       "       [15014091024],\n",
       "       [15014091024],\n",
       "       [15014091024],\n",
       "       [15014091024],\n",
       "       [15014091024],\n",
       "       [15014091024],\n",
       "       [15014091024],\n",
       "       [15014091024],\n",
       "       [15014091024],\n",
       "       [15014091024],\n",
       "       [15014091024],\n",
       "       [15014091024],\n",
       "       [15014091024],\n",
       "       [15014091024],\n",
       "       [15014091024],\n",
       "       [15014091024],\n",
       "       [15014091024],\n",
       "       [15014091024],\n",
       "       [15014091024],\n",
       "       [15014091024],\n",
       "       [15014091024],\n",
       "       [15014091024],\n",
       "       [15014091024],\n",
       "       [15014091024],\n",
       "       [15014091024],\n",
       "       [15014091024],\n",
       "       [15014091024],\n",
       "       [15014091024],\n",
       "       [15014091024],\n",
       "       [15014091024],\n",
       "       [15014091024],\n",
       "       [15014091024],\n",
       "       [15014091024],\n",
       "       [15014091024],\n",
       "       [15014091024],\n",
       "       [15014091024],\n",
       "       [15014091024],\n",
       "       [15014091024],\n",
       "       [15014091024],\n",
       "       [15014091024],\n",
       "       [15014091024],\n",
       "       [15014091024],\n",
       "       [15014091024],\n",
       "       [15014091024],\n",
       "       [15014091024],\n",
       "       [15014091024],\n",
       "       [15014091024],\n",
       "       [15014091024],\n",
       "       [15014091024],\n",
       "       [15014091024],\n",
       "       [15014091024],\n",
       "       [15014091024],\n",
       "       [15014091024],\n",
       "       [15014091024],\n",
       "       [15014091024],\n",
       "       [15014091024],\n",
       "       [15014091024],\n",
       "       [15014091024],\n",
       "       [15014091024],\n",
       "       [15014091024],\n",
       "       [15014091024],\n",
       "       [15014091024],\n",
       "       [15014091024],\n",
       "       [15014091024],\n",
       "       [15014091024],\n",
       "       [15014091024],\n",
       "       [15014091024],\n",
       "       [15014091024],\n",
       "       [15014091024],\n",
       "       [15014091024],\n",
       "       [15014091024],\n",
       "       [15014091024],\n",
       "       [15014091024],\n",
       "       [15014091024],\n",
       "       [15014091024],\n",
       "       [15014091024],\n",
       "       [15014091024],\n",
       "       [15014091024],\n",
       "       [15014091024],\n",
       "       [15014091024],\n",
       "       [15014091024],\n",
       "       [15014091024],\n",
       "       [15014091024],\n",
       "       [15014091024],\n",
       "       [15014091024],\n",
       "       [15014091024],\n",
       "       [15014091024],\n",
       "       [15014091024],\n",
       "       [15014091024],\n",
       "       [15014091024],\n",
       "       [15014091024],\n",
       "       [15014091024],\n",
       "       [15014091024],\n",
       "       [15014091024],\n",
       "       [15014091024],\n",
       "       [15014091024],\n",
       "       [15014091024],\n",
       "       [15014091024],\n",
       "       [15014091024],\n",
       "       [15014091024],\n",
       "       [15014091024],\n",
       "       [15014091024],\n",
       "       [15014091024],\n",
       "       [15014091024],\n",
       "       [15014091024],\n",
       "       [15014091024],\n",
       "       [15014091024],\n",
       "       [15014091024],\n",
       "       [15014091024],\n",
       "       [15014091024],\n",
       "       [15014091024],\n",
       "       [15014091024],\n",
       "       [15014091024],\n",
       "       [15014091024],\n",
       "       [15014091024],\n",
       "       [15014091024],\n",
       "       [15014091024],\n",
       "       [15014091024],\n",
       "       [15014091024],\n",
       "       [15014091024],\n",
       "       [15014091024],\n",
       "       [15014091024],\n",
       "       [15014091024],\n",
       "       [15014091024],\n",
       "       [15014091024],\n",
       "       [15014091024],\n",
       "       [15014091024],\n",
       "       [15014091024],\n",
       "       [15014091024],\n",
       "       [15014091024],\n",
       "       [15014091024],\n",
       "       [15014091024],\n",
       "       [15014091024],\n",
       "       [15014091024],\n",
       "       [15014091024],\n",
       "       [15014091024],\n",
       "       [15014091024],\n",
       "       [15014091024],\n",
       "       [15014091024],\n",
       "       [15014091024],\n",
       "       [15014091024],\n",
       "       [15014091024],\n",
       "       [15014091024],\n",
       "       [15014091024],\n",
       "       [15014091024],\n",
       "       [15014091024],\n",
       "       [15014091024],\n",
       "       [15014091024],\n",
       "       [15014091024],\n",
       "       [15014091024],\n",
       "       [15014091024],\n",
       "       [15014091024],\n",
       "       [15014091024],\n",
       "       [15014091024],\n",
       "       [15014091024],\n",
       "       [15014091024],\n",
       "       [15014091024],\n",
       "       [15014091024],\n",
       "       [15014091024],\n",
       "       [15014091024],\n",
       "       [15014091024],\n",
       "       [15014091024],\n",
       "       [15014091024],\n",
       "       [15014091024],\n",
       "       [15014091024],\n",
       "       [15014091024],\n",
       "       [15014091024],\n",
       "       [15014091024],\n",
       "       [15014091024],\n",
       "       [15014091024],\n",
       "       [15014091024],\n",
       "       [15014091024],\n",
       "       [15014091024],\n",
       "       [15014091024],\n",
       "       [15014091024],\n",
       "       [15014091024],\n",
       "       [15014091024],\n",
       "       [15014091024],\n",
       "       [15014091024],\n",
       "       [15014091024],\n",
       "       [15014091024],\n",
       "       [15014091024],\n",
       "       [15014091024],\n",
       "       [15014091024],\n",
       "       [15014091024],\n",
       "       [15014091024],\n",
       "       [15014091024],\n",
       "       [15014091024],\n",
       "       [15014091024],\n",
       "       [15014091024],\n",
       "       [15014091024],\n",
       "       [15014091024],\n",
       "       [15014091024],\n",
       "       [15014091024],\n",
       "       [15014091024],\n",
       "       [15014091024],\n",
       "       [15014091024],\n",
       "       [15014091024],\n",
       "       [15014091024],\n",
       "       [15014091024],\n",
       "       [15014091024],\n",
       "       [15014091024],\n",
       "       [15014091024],\n",
       "       [15014091024],\n",
       "       [15014091024],\n",
       "       [15014091024],\n",
       "       [15014091024],\n",
       "       [15014091024],\n",
       "       [15014091024],\n",
       "       [15014091024],\n",
       "       [15014091024],\n",
       "       [15014091024],\n",
       "       [15014091024],\n",
       "       [15014091024],\n",
       "       [15014091024],\n",
       "       [15014091024],\n",
       "       [15014091024],\n",
       "       [15014091024],\n",
       "       [15014091024],\n",
       "       [15014091024],\n",
       "       [15014091024],\n",
       "       [15014091024],\n",
       "       [15014091024],\n",
       "       [15014091024],\n",
       "       [15014091024],\n",
       "       [15014091024],\n",
       "       [15014091024],\n",
       "       [15014091024],\n",
       "       [15014091024],\n",
       "       [15014091024],\n",
       "       [15014091024],\n",
       "       [15014091024],\n",
       "       [15014091024],\n",
       "       [15014091024],\n",
       "       [15014091024],\n",
       "       [15014091024],\n",
       "       [15014091024],\n",
       "       [15014091024],\n",
       "       [15014091024],\n",
       "       [15014091024],\n",
       "       [15014091024],\n",
       "       [15014091024],\n",
       "       [15014091024],\n",
       "       [15014091024],\n",
       "       [15014091024],\n",
       "       [15014091024],\n",
       "       [15014091024],\n",
       "       [15014091024],\n",
       "       [15014091024],\n",
       "       [15014091024],\n",
       "       [15014091024],\n",
       "       [15014091024],\n",
       "       [15014091024],\n",
       "       [15014091024],\n",
       "       [15014091024],\n",
       "       [15014091024],\n",
       "       [15014091024],\n",
       "       [15014091024],\n",
       "       [15014091024],\n",
       "       [15014091024],\n",
       "       [15014091024],\n",
       "       [15014091024],\n",
       "       [15014091024],\n",
       "       [15014091024],\n",
       "       [15014091024],\n",
       "       [15014091024],\n",
       "       [15014091024],\n",
       "       [15014091024],\n",
       "       [15014091024],\n",
       "       [15014091024],\n",
       "       [15014091024],\n",
       "       [15014091024],\n",
       "       [15014091024],\n",
       "       [15014091024],\n",
       "       [15014091024],\n",
       "       [15014091024],\n",
       "       [15014091024],\n",
       "       [15014091024],\n",
       "       [15014091024],\n",
       "       [15014091024],\n",
       "       [15014091024],\n",
       "       [15014091024],\n",
       "       [15014091024],\n",
       "       [15014091024],\n",
       "       [15014091024],\n",
       "       [15014091024],\n",
       "       [15014091024],\n",
       "       [15014091024],\n",
       "       [15014091024],\n",
       "       [15014091024],\n",
       "       [15014091024],\n",
       "       [15014091024],\n",
       "       [15014091024],\n",
       "       [15014091024],\n",
       "       [15014091024],\n",
       "       [15014091024],\n",
       "       [15014091024],\n",
       "       [15014091024],\n",
       "       [15014091024],\n",
       "       [15014091024],\n",
       "       [15014091024],\n",
       "       [15014091024],\n",
       "       [15014091024],\n",
       "       [15014091024],\n",
       "       [15014091024],\n",
       "       [15014091024],\n",
       "       [15014091024],\n",
       "       [15014091024],\n",
       "       [15014091024],\n",
       "       [15014091024],\n",
       "       [15014091024],\n",
       "       [15014091024],\n",
       "       [15014091024],\n",
       "       [15014091024],\n",
       "       [15014091024],\n",
       "       [15014091024],\n",
       "       [15014091024],\n",
       "       [15014091024],\n",
       "       [15014091024],\n",
       "       [15014091024],\n",
       "       [15014091024],\n",
       "       [15014091024],\n",
       "       [15014091024],\n",
       "       [15014091024],\n",
       "       [15014091024],\n",
       "       [15014091024],\n",
       "       [15014091024],\n",
       "       [15014091024],\n",
       "       [15014091024],\n",
       "       [15014091024],\n",
       "       [15014091024],\n",
       "       [15014091024],\n",
       "       [15014091024],\n",
       "       [15014091024],\n",
       "       [15014091024],\n",
       "       [15014091024],\n",
       "       [15014091024],\n",
       "       [15014091024],\n",
       "       [15014091024],\n",
       "       [15014091024],\n",
       "       [15014091024],\n",
       "       [15014091024],\n",
       "       [15014091024],\n",
       "       [15014091024],\n",
       "       [15014091024],\n",
       "       [15014091024],\n",
       "       [15014091024],\n",
       "       [15014091024],\n",
       "       [15014091024],\n",
       "       [15014091024],\n",
       "       [15014091024],\n",
       "       [15014091024],\n",
       "       [15014091024],\n",
       "       [15014091024],\n",
       "       [15014091024],\n",
       "       [15014091024],\n",
       "       [15014091024],\n",
       "       [15014091024],\n",
       "       [15014091024],\n",
       "       [15014091024],\n",
       "       [15014091024],\n",
       "       [15014091024],\n",
       "       [15014091024],\n",
       "       [15014091024],\n",
       "       [15014091024],\n",
       "       [15014091024],\n",
       "       [15014091024],\n",
       "       [15014091024],\n",
       "       [15014091024],\n",
       "       [15014091024],\n",
       "       [15014091024],\n",
       "       [15014091024],\n",
       "       [15014091024],\n",
       "       [15014091024],\n",
       "       [15014091024],\n",
       "       [15014091024],\n",
       "       [15014091024],\n",
       "       [15014091024],\n",
       "       [15014091024],\n",
       "       [15014091024],\n",
       "       [15014091024],\n",
       "       [15014091024],\n",
       "       [15014091024],\n",
       "       [15014091024],\n",
       "       [15014091024],\n",
       "       [15014091024],\n",
       "       [15014091024],\n",
       "       [15014091024],\n",
       "       [15014091024],\n",
       "       [15014091024],\n",
       "       [15014091024],\n",
       "       [15014091024],\n",
       "       [15014091024],\n",
       "       [15014091024],\n",
       "       [15014091024],\n",
       "       [15014091024],\n",
       "       [15014091024],\n",
       "       [15014091024],\n",
       "       [15014091024],\n",
       "       [15014091024],\n",
       "       [15014091024],\n",
       "       [15014091024],\n",
       "       [15014091024],\n",
       "       [15014091024],\n",
       "       [15014091024],\n",
       "       [15014091024],\n",
       "       [15014091024],\n",
       "       [15014091024],\n",
       "       [15014091024],\n",
       "       [15014091024],\n",
       "       [15014091024],\n",
       "       [15014091024],\n",
       "       [15014091024],\n",
       "       [15014091024],\n",
       "       [15014091024],\n",
       "       [15014091024],\n",
       "       [15014091024],\n",
       "       [15014091024],\n",
       "       [15014091024],\n",
       "       [15014091024],\n",
       "       [15014091024],\n",
       "       [15014091024],\n",
       "       [15014091024],\n",
       "       [15014091024],\n",
       "       [15014091024],\n",
       "       [15014091024],\n",
       "       [15014091024],\n",
       "       [15014091024],\n",
       "       [15014091024],\n",
       "       [15014091024],\n",
       "       [15014091024],\n",
       "       [15014091024],\n",
       "       [15014091024],\n",
       "       [15014091024],\n",
       "       [15014091024],\n",
       "       [15014091024],\n",
       "       [15014091024],\n",
       "       [15014091024],\n",
       "       [15014091024],\n",
       "       [15014091024],\n",
       "       [15014091024],\n",
       "       [15014091024],\n",
       "       [15014091024],\n",
       "       [15014091024],\n",
       "       [15014091024],\n",
       "       [15014091024],\n",
       "       [15014091024],\n",
       "       [15014091024],\n",
       "       [15014091024],\n",
       "       [15014091024],\n",
       "       [15014091024],\n",
       "       [15014091024],\n",
       "       [15014091024],\n",
       "       [15014091024],\n",
       "       [15014091024],\n",
       "       [15014091024],\n",
       "       [15014091024],\n",
       "       [15014091024],\n",
       "       [15014091024],\n",
       "       [15014091024],\n",
       "       [15014091024],\n",
       "       [15014091024],\n",
       "       [15014091024],\n",
       "       [15014091024],\n",
       "       [15014091024],\n",
       "       [15014091024],\n",
       "       [15014091024],\n",
       "       [15014091024],\n",
       "       [15014091024],\n",
       "       [15014091024],\n",
       "       [15014091024],\n",
       "       [15014091024],\n",
       "       [15014091024],\n",
       "       [15014091024],\n",
       "       [15014091024],\n",
       "       [15014091024],\n",
       "       [15014091024],\n",
       "       [15014091024],\n",
       "       [15014091024],\n",
       "       [15014091024],\n",
       "       [15014091024],\n",
       "       [15014091024],\n",
       "       [15014091024],\n",
       "       [15014091024],\n",
       "       [15014091024],\n",
       "       [15014091024],\n",
       "       [15014091024],\n",
       "       [15014091024],\n",
       "       [15014091024],\n",
       "       [15014091024],\n",
       "       [15014091024],\n",
       "       [15014091024],\n",
       "       [15014091024],\n",
       "       [15014091024],\n",
       "       [15014091024],\n",
       "       [15014091024],\n",
       "       [15014091024],\n",
       "       [15014091024],\n",
       "       [15014091024],\n",
       "       [15014091024],\n",
       "       [15014091024],\n",
       "       [15014091024],\n",
       "       [15014091024],\n",
       "       [15014091024]], dtype=object)"
      ]
     },
     "execution_count": 267,
     "metadata": {},
     "output_type": "execute_result"
    }
   ],
   "source": [
    "df"
   ]
  },
  {
   "cell_type": "code",
   "execution_count": 259,
   "metadata": {},
   "outputs": [
    {
     "ename": "AttributeError",
     "evalue": "'numpy.int64' object has no attribute 'head'",
     "output_type": "error",
     "traceback": [
      "\u001b[0;31m---------------------------------------------------------------------------\u001b[0m",
      "\u001b[0;31mAttributeError\u001b[0m                            Traceback (most recent call last)",
      "\u001b[0;32m<ipython-input-259-35e737097c73>\u001b[0m in \u001b[0;36m<module>\u001b[0;34m\u001b[0m\n\u001b[0;32m----> 1\u001b[0;31m \u001b[0mval\u001b[0m\u001b[0;34m.\u001b[0m\u001b[0mhead\u001b[0m\u001b[0;34m(\u001b[0m\u001b[0;36m5\u001b[0m\u001b[0;34m)\u001b[0m\u001b[0;34m\u001b[0m\u001b[0;34m\u001b[0m\u001b[0m\n\u001b[0m",
      "\u001b[0;31mAttributeError\u001b[0m: 'numpy.int64' object has no attribute 'head'"
     ]
    }
   ],
   "source": [
    "val.head(5)"
   ]
  },
  {
   "cell_type": "code",
   "execution_count": 173,
   "metadata": {},
   "outputs": [
    {
     "data": {
      "text/plain": [
       "array([ 122532,   51148,   51149,   51136,   51140,   89040,   29300,\n",
       "         64530,   64531,   64532,   64534,  122539, 8141600, 8146000,\n",
       "         61118,   61397,   61514,   38697,   89062,   89022,   89051,\n",
       "         30655,   61096,   61098,   82462,   82466,   61776,   61731,\n",
       "         93267,   93308,   90953,   90954,   48329,   48624,   48905,\n",
       "         48841,  122432,   49809,  101318,   49918,  122331,  122335,\n",
       "        122540,  101981,  103076,  122334,  123482,  123838,  123839,\n",
       "        123760])"
      ]
     },
     "execution_count": 173,
     "metadata": {},
     "output_type": "execute_result"
    }
   ],
   "source": [
    "#lista = df_reference_url[\"Reference\"].apply(str)\n",
    "lista = df_reference_url[\"Reference\"].values\n",
    "lista"
   ]
  },
  {
   "cell_type": "code",
   "execution_count": 176,
   "metadata": {},
   "outputs": [],
   "source": [
    "for i in lista:\n",
    "    #data = lista.str()\n",
    "    #data_w = data[i] + \"_url.csv\"\n",
    "    \n",
    "    data = np.array2string(lista, formatter={'float_kind':lambda x: lista[i]+\"_url.csv\"})"
   ]
  },
  {
   "cell_type": "code",
   "execution_count": 179,
   "metadata": {},
   "outputs": [
    {
     "data": {
      "text/plain": [
       "0    122532\n",
       "1     51148\n",
       "2     51149\n",
       "3     51136\n",
       "4     51140\n",
       "Name: Reference, dtype: object"
      ]
     },
     "execution_count": 179,
     "metadata": {},
     "output_type": "execute_result"
    }
   ],
   "source": [
    "lista = df_reference_url[\"Reference\"].apply(str)\n",
    "lista.head(5)"
   ]
  },
  {
   "cell_type": "code",
   "execution_count": 180,
   "metadata": {},
   "outputs": [
    {
     "ename": "TypeError",
     "evalue": "'numpy.ndarray' object is not callable",
     "output_type": "error",
     "traceback": [
      "\u001b[0;31m---------------------------------------------------------------------------\u001b[0m",
      "\u001b[0;31mTypeError\u001b[0m                                 Traceback (most recent call last)",
      "\u001b[0;32m<ipython-input-180-9c64f54f3093>\u001b[0m in \u001b[0;36m<module>\u001b[0;34m\u001b[0m\n\u001b[0;32m----> 1\u001b[0;31m \u001b[0;32mfor\u001b[0m \u001b[0mi\u001b[0m \u001b[0;32min\u001b[0m \u001b[0mlista\u001b[0m\u001b[0;34m.\u001b[0m\u001b[0mvalues\u001b[0m\u001b[0;34m(\u001b[0m\u001b[0;34m)\u001b[0m\u001b[0;34m:\u001b[0m\u001b[0;34m\u001b[0m\u001b[0;34m\u001b[0m\u001b[0m\n\u001b[0m\u001b[1;32m      2\u001b[0m     \u001b[0mdata\u001b[0m \u001b[0;34m=\u001b[0m \u001b[0mlista\u001b[0m\u001b[0;34m.\u001b[0m\u001b[0mloc\u001b[0m\u001b[0;34m[\u001b[0m\u001b[0mi\u001b[0m\u001b[0;34m]\u001b[0m \u001b[0;34m+\u001b[0m \u001b[0;34m\"_url.csv\"\u001b[0m\u001b[0;34m\u001b[0m\u001b[0;34m\u001b[0m\u001b[0m\n",
      "\u001b[0;31mTypeError\u001b[0m: 'numpy.ndarray' object is not callable"
     ]
    }
   ],
   "source": [
    "for i in lista.values():\n",
    "    data = lista.loc[i] + \"_url.csv\""
   ]
  },
  {
   "cell_type": "code",
   "execution_count": 224,
   "metadata": {},
   "outputs": [
    {
     "data": {
      "text/plain": [
       "array(['122532_url.csv', '51148_url.csv', '51149_url.csv',\n",
       "       '51136_url.csv', '51140_url.csv', '89040_url.csv', '29300_url.csv',\n",
       "       '64530_url.csv', '64531_url.csv', '64532_url.csv', '64534_url.csv',\n",
       "       '122539_url.csv', '8141600_url.csv', '8146000_url.csv',\n",
       "       '61118_url.csv', '61397_url.csv', '61514_url.csv', '38697_url.csv',\n",
       "       '89062_url.csv', '89022_url.csv', '89051_url.csv', '30655_url.csv',\n",
       "       '61096_url.csv', '61098_url.csv', '82462_url.csv', '82466_url.csv',\n",
       "       '61776_url.csv', '61731_url.csv', '93267_url.csv', '93308_url.csv',\n",
       "       '90953_url.csv', '90954_url.csv', '48329_url.csv', '48624_url.csv',\n",
       "       '48905_url.csv', '48841_url.csv', '122432_url.csv',\n",
       "       '49809_url.csv', '101318_url.csv', '49918_url.csv',\n",
       "       '122331_url.csv', '122335_url.csv', '122540_url.csv',\n",
       "       '101981_url.csv', '103076_url.csv', '122334_url.csv',\n",
       "       '123482_url.csv', '123838_url.csv', '123839_url.csv',\n",
       "       '123760_url.csv'], dtype=object)"
      ]
     },
     "execution_count": 224,
     "metadata": {},
     "output_type": "execute_result"
    }
   ],
   "source": [
    "lista = df_reference_url[\"Reference\"].apply(str)+\"_url.csv\"\n",
    "lista.values"
   ]
  },
  {
   "cell_type": "code",
   "execution_count": 226,
   "metadata": {},
   "outputs": [
    {
     "data": {
      "text/plain": [
       "array(['122532_url.csv', '51148_url.csv', '51149_url.csv',\n",
       "       '51136_url.csv', '51140_url.csv', '89040_url.csv', '29300_url.csv',\n",
       "       '64530_url.csv', '64531_url.csv', '64532_url.csv', '64534_url.csv',\n",
       "       '122539_url.csv', '8141600_url.csv', '8146000_url.csv',\n",
       "       '61118_url.csv', '61397_url.csv', '61514_url.csv', '38697_url.csv',\n",
       "       '89062_url.csv', '89022_url.csv', '89051_url.csv', '30655_url.csv',\n",
       "       '61096_url.csv', '61098_url.csv', '82462_url.csv', '82466_url.csv',\n",
       "       '61776_url.csv', '61731_url.csv', '93267_url.csv', '93308_url.csv',\n",
       "       '90953_url.csv', '90954_url.csv', '48329_url.csv', '48624_url.csv',\n",
       "       '48905_url.csv', '48841_url.csv', '122432_url.csv',\n",
       "       '49809_url.csv', '101318_url.csv', '49918_url.csv',\n",
       "       '122331_url.csv', '122335_url.csv', '122540_url.csv',\n",
       "       '101981_url.csv', '103076_url.csv', '122334_url.csv',\n",
       "       '123482_url.csv', '123838_url.csv', '123839_url.csv',\n",
       "       '123760_url.csv'], dtype=object)"
      ]
     },
     "execution_count": 226,
     "metadata": {},
     "output_type": "execute_result"
    }
   ],
   "source": [
    "lista = df_reference_url[\"Reference\"].apply(str)+\"_url.csv\"\n",
    "\n",
    "df = lista.values\n",
    "df"
   ]
  },
  {
   "cell_type": "code",
   "execution_count": 229,
   "metadata": {},
   "outputs": [
    {
     "data": {
      "text/plain": [
       "RangeIndex(start=0, stop=50, step=1)"
      ]
     },
     "execution_count": 229,
     "metadata": {},
     "output_type": "execute_result"
    }
   ],
   "source": [
    "lista.index"
   ]
  },
  {
   "cell_type": "code",
   "execution_count": 228,
   "metadata": {},
   "outputs": [],
   "source": [
    "df = np.zeros(shape=(lista.shape[0], 2), dtype=np.object)"
   ]
  },
  {
   "cell_type": "code",
   "execution_count": 232,
   "metadata": {},
   "outputs": [
    {
     "ename": "IndexError",
     "evalue": "list assignment index out of range",
     "output_type": "error",
     "traceback": [
      "\u001b[0;31m---------------------------------------------------------------------------\u001b[0m",
      "\u001b[0;31mIndexError\u001b[0m                                Traceback (most recent call last)",
      "\u001b[0;32m<ipython-input-232-1ce9e5a25df2>\u001b[0m in \u001b[0;36m<module>\u001b[0;34m\u001b[0m\n\u001b[1;32m      6\u001b[0m     \u001b[0mid_\u001b[0m \u001b[0;34m=\u001b[0m \u001b[0mvalues\u001b[0m\u001b[0;34m\u001b[0m\u001b[0;34m\u001b[0m\u001b[0m\n\u001b[1;32m      7\u001b[0m \u001b[0;34m\u001b[0m\u001b[0m\n\u001b[0;32m----> 8\u001b[0;31m     \u001b[0mpositiveRatedMovies\u001b[0m\u001b[0;34m[\u001b[0m\u001b[0mi\u001b[0m\u001b[0;34m]\u001b[0m \u001b[0;34m=\u001b[0m \u001b[0;34m[\u001b[0m\u001b[0mid_\u001b[0m\u001b[0;34m]\u001b[0m\u001b[0;34m\u001b[0m\u001b[0;34m\u001b[0m\u001b[0m\n\u001b[0m\u001b[1;32m      9\u001b[0m \u001b[0;34m\u001b[0m\u001b[0m\n\u001b[1;32m     10\u001b[0m     \u001b[0mpositiveRatedMovies\u001b[0m\u001b[0;34m[\u001b[0m\u001b[0;34m:\u001b[0m\u001b[0;36m10\u001b[0m\u001b[0;34m]\u001b[0m\u001b[0;34m\u001b[0m\u001b[0;34m\u001b[0m\u001b[0m\n",
      "\u001b[0;31mIndexError\u001b[0m: list assignment index out of range"
     ]
    }
   ],
   "source": [
    "positiveRatedMovies = []\n",
    "lista = df_reference_url[\"Reference\"].apply(str)+\"_url.csv\"\n",
    "\n",
    "for i, values in enumerate(lista.values):\n",
    "    \n",
    "    id_ = values\n",
    "    \n",
    "    positiveRatedMovies[i] = [id_]\n",
    "    \n",
    "    positiveRatedMovies[:10]\n",
    "     \n",
    "    #df_test[i] = pageview_missing_values(\"/media/sf_Carpeta/Smart_Shopping/Data/GA\", id_)\n",
    "    \n",
    "    #file[i] = \"a_\" + id_\n",
    "    \n",
    "    #df_test.to_csv(file)"
   ]
  },
  {
   "cell_type": "code",
   "execution_count": null,
   "metadata": {},
   "outputs": [],
   "source": [
    "# Return a numpy array of [id, title, frequency]\n",
    "\n",
    "# numpy requires knowledge of the data types. Since we have ids (integers) and titles (strings), \n",
    "# we will use a \"parent\" data type, np.object\n",
    "df = np.zeros(shape=(positiveRated.shape[0], 3), dtype=np.object)\n",
    "\n",
    "for i, index in enumerate(positiveRated.index):\n",
    "    id_ = index # id of the movie\n",
    "    freq_ = positiveRated[id_] # frequency of the movie\n",
    "    title_ = unique_item_dict[id_]\n",
    "    positiveRatedMovies[i] = [id_, title_, freq_]\n",
    "    \n",
    "positiveRatedMovies[:10,1:]"
   ]
  },
  {
   "cell_type": "code",
   "execution_count": 195,
   "metadata": {},
   "outputs": [
    {
     "ename": "TypeError",
     "evalue": "'numpy.ndarray' object is not callable",
     "output_type": "error",
     "traceback": [
      "\u001b[0;31m---------------------------------------------------------------------------\u001b[0m",
      "\u001b[0;31mTypeError\u001b[0m                                 Traceback (most recent call last)",
      "\u001b[0;32m<ipython-input-195-134de9981018>\u001b[0m in \u001b[0;36m<module>\u001b[0;34m\u001b[0m\n\u001b[1;32m      1\u001b[0m \u001b[0mlista\u001b[0m \u001b[0;34m=\u001b[0m \u001b[0mdf_reference_url\u001b[0m\u001b[0;34m[\u001b[0m\u001b[0;34m\"Reference\"\u001b[0m\u001b[0;34m]\u001b[0m\u001b[0;34m.\u001b[0m\u001b[0mapply\u001b[0m\u001b[0;34m(\u001b[0m\u001b[0mstr\u001b[0m\u001b[0;34m)\u001b[0m\u001b[0;34m+\u001b[0m\u001b[0;34m\"_url.csv\"\u001b[0m\u001b[0;34m\u001b[0m\u001b[0;34m\u001b[0m\u001b[0m\n\u001b[1;32m      2\u001b[0m \u001b[0;34m\u001b[0m\u001b[0m\n\u001b[0;32m----> 3\u001b[0;31m \u001b[0;32mfor\u001b[0m \u001b[0mi\u001b[0m \u001b[0;32min\u001b[0m \u001b[0mlista\u001b[0m\u001b[0;34m.\u001b[0m\u001b[0mvalues\u001b[0m\u001b[0;34m(\u001b[0m\u001b[0;34m)\u001b[0m\u001b[0;34m:\u001b[0m\u001b[0;34m\u001b[0m\u001b[0;34m\u001b[0m\u001b[0m\n\u001b[0m\u001b[1;32m      4\u001b[0m     \u001b[0mdata\u001b[0m \u001b[0;34m=\u001b[0m \u001b[0mlista\u001b[0m\u001b[0;34m.\u001b[0m\u001b[0mloc\u001b[0m\u001b[0;34m[\u001b[0m\u001b[0mi\u001b[0m\u001b[0;34m]\u001b[0m\u001b[0;34m\u001b[0m\u001b[0;34m\u001b[0m\u001b[0m\n\u001b[1;32m      5\u001b[0m \u001b[0;34m\u001b[0m\u001b[0m\n",
      "\u001b[0;31mTypeError\u001b[0m: 'numpy.ndarray' object is not callable"
     ]
    }
   ],
   "source": [
    "lista = df_reference_url[\"Reference\"].apply(str)+\"_url.csv\"\n",
    "\n",
    "for i in lista.values():\n",
    "    data = lista.loc[i]\n",
    "    \n",
    "    df_test = pageview_missing_values(\"/media/sf_Carpeta/Smart_Shopping/Data/GA\", data)\n",
    "    \n",
    "    file = \"a_\" + lista\n",
    "    \n",
    "    df_test.to_csv(file)\n",
    "    \n",
    "    \n",
    "    "
   ]
  },
  {
   "cell_type": "code",
   "execution_count": 151,
   "metadata": {},
   "outputs": [
    {
     "data": {
      "text/plain": [
       "'a_51148_url.csv'"
      ]
     },
     "execution_count": 151,
     "metadata": {},
     "output_type": "execute_result"
    }
   ],
   "source": [
    "file = \"a_\" + lista\n",
    "file"
   ]
  },
  {
   "cell_type": "code",
   "execution_count": 149,
   "metadata": {},
   "outputs": [],
   "source": [
    "df_test_list = df_reference_url[\"Reference\"].apply(str)"
   ]
  },
  {
   "cell_type": "code",
   "execution_count": 150,
   "metadata": {},
   "outputs": [
    {
     "data": {
      "text/plain": [
       "'51148_url.csv'"
      ]
     },
     "execution_count": 150,
     "metadata": {},
     "output_type": "execute_result"
    }
   ],
   "source": [
    "\n",
    "lista = df_reference_url[\"Reference\"].apply(str).loc[1] + \"_url.csv\"\n",
    "lista"
   ]
  },
  {
   "cell_type": "code",
   "execution_count": 6,
   "metadata": {},
   "outputs": [],
   "source": [
    "path = \"/media/sf_Carpeta/Smart_Shopping/Data/GA\"\n",
    "os.chdir(path)\n",
    "\n",
    "df_top_50 = pd.read_csv(\"TEST1.csv\", sep=\",\")"
   ]
  },
  {
   "cell_type": "code",
   "execution_count": 7,
   "metadata": {},
   "outputs": [
    {
     "data": {
      "text/html": [
       "<div>\n",
       "<style scoped>\n",
       "    .dataframe tbody tr th:only-of-type {\n",
       "        vertical-align: middle;\n",
       "    }\n",
       "\n",
       "    .dataframe tbody tr th {\n",
       "        vertical-align: top;\n",
       "    }\n",
       "\n",
       "    .dataframe thead th {\n",
       "        text-align: right;\n",
       "    }\n",
       "</style>\n",
       "<table border=\"1\" class=\"dataframe\">\n",
       "  <thead>\n",
       "    <tr style=\"text-align: right;\">\n",
       "      <th></th>\n",
       "      <th>Page</th>\n",
       "      <th>Day Index</th>\n",
       "      <th>Page Views</th>\n",
       "      <th>Unique Page Views</th>\n",
       "      <th>Avg. Time on Page</th>\n",
       "      <th>Entrances</th>\n",
       "      <th>Bounce Rate</th>\n",
       "      <th>% Exit</th>\n",
       "      <th>Page Value</th>\n",
       "    </tr>\n",
       "  </thead>\n",
       "  <tbody>\n",
       "    <tr>\n",
       "      <th>0</th>\n",
       "      <td>/lampara-mesita-de-noche-oriental-blanco-ceram...</td>\n",
       "      <td>11/10/2017</td>\n",
       "      <td>9</td>\n",
       "      <td>9</td>\n",
       "      <td>00:00:27</td>\n",
       "      <td>0</td>\n",
       "      <td>0.00%</td>\n",
       "      <td>0.00%</td>\n",
       "      <td>€0.00</td>\n",
       "    </tr>\n",
       "    <tr>\n",
       "      <th>1</th>\n",
       "      <td>/lampara-mesita-de-noche-oriental-blanco-ceram...</td>\n",
       "      <td>25/10/2017</td>\n",
       "      <td>9</td>\n",
       "      <td>9</td>\n",
       "      <td>00:00:03</td>\n",
       "      <td>0</td>\n",
       "      <td>0.00%</td>\n",
       "      <td>0.00%</td>\n",
       "      <td>€0.00</td>\n",
       "    </tr>\n",
       "    <tr>\n",
       "      <th>2</th>\n",
       "      <td>/lampara-mesita-de-noche-oriental-blanco-ceram...</td>\n",
       "      <td>01/11/2017</td>\n",
       "      <td>19</td>\n",
       "      <td>9</td>\n",
       "      <td>00:11:47</td>\n",
       "      <td>0</td>\n",
       "      <td>0.00%</td>\n",
       "      <td>0.00%</td>\n",
       "      <td>€0.00</td>\n",
       "    </tr>\n",
       "    <tr>\n",
       "      <th>3</th>\n",
       "      <td>/lampara-mesita-de-noche-oriental-blanco-ceram...</td>\n",
       "      <td>11/11/2017</td>\n",
       "      <td>9</td>\n",
       "      <td>9</td>\n",
       "      <td>00:00:30</td>\n",
       "      <td>0</td>\n",
       "      <td>0.00%</td>\n",
       "      <td>0.00%</td>\n",
       "      <td>€0.00</td>\n",
       "    </tr>\n",
       "  </tbody>\n",
       "</table>\n",
       "</div>"
      ],
      "text/plain": [
       "                                                Page   Day Index  Page Views  \\\n",
       "0  /lampara-mesita-de-noche-oriental-blanco-ceram...  11/10/2017           9   \n",
       "1  /lampara-mesita-de-noche-oriental-blanco-ceram...  25/10/2017           9   \n",
       "2  /lampara-mesita-de-noche-oriental-blanco-ceram...  01/11/2017          19   \n",
       "3  /lampara-mesita-de-noche-oriental-blanco-ceram...  11/11/2017           9   \n",
       "\n",
       "   Unique Page Views Avg. Time on Page  Entrances Bounce Rate % Exit  \\\n",
       "0                  9          00:00:27          0       0.00%  0.00%   \n",
       "1                  9          00:00:03          0       0.00%  0.00%   \n",
       "2                  9          00:11:47          0       0.00%  0.00%   \n",
       "3                  9          00:00:30          0       0.00%  0.00%   \n",
       "\n",
       "  Page Value  \n",
       "0      €0.00  \n",
       "1      €0.00  \n",
       "2      €0.00  \n",
       "3      €0.00  "
      ]
     },
     "execution_count": 7,
     "metadata": {},
     "output_type": "execute_result"
    }
   ],
   "source": [
    "df_top_50.head(4)"
   ]
  },
  {
   "cell_type": "code",
   "execution_count": 23,
   "metadata": {},
   "outputs": [
    {
     "data": {
      "text/plain": [
       "(418, 9)"
      ]
     },
     "execution_count": 23,
     "metadata": {},
     "output_type": "execute_result"
    }
   ],
   "source": [
    "df_top_50.shape"
   ]
  },
  {
   "cell_type": "code",
   "execution_count": 24,
   "metadata": {},
   "outputs": [],
   "source": [
    "path = \"/home/miguel/my_project_python/my_project_env/tfm/datasets\"\n",
    "os.chdir(path)"
   ]
  }
 ],
 "metadata": {
  "kernelspec": {
   "display_name": "Python 3",
   "language": "python",
   "name": "python3"
  },
  "language_info": {
   "codemirror_mode": {
    "name": "ipython",
    "version": 3
   },
   "file_extension": ".py",
   "mimetype": "text/x-python",
   "name": "python",
   "nbconvert_exporter": "python",
   "pygments_lexer": "ipython3",
   "version": "3.6.7"
  }
 },
 "nbformat": 4,
 "nbformat_minor": 2
}
