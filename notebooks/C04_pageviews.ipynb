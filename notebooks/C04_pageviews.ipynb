{
 "cells": [
  {
   "cell_type": "code",
   "execution_count": 297,
   "metadata": {},
   "outputs": [],
   "source": [
    "from datetime import datetime\n",
    "import numpy as np\n",
    "import pandas as pd\n",
    "import io"
   ]
  },
  {
   "cell_type": "markdown",
   "metadata": {},
   "source": [
    "First of all, I set the directory"
   ]
  },
  {
   "cell_type": "code",
   "execution_count": 298,
   "metadata": {},
   "outputs": [],
   "source": [
    "path = \"/home/miguel/my_project_python/my_project_env/tfm/datasets\"\n",
    "os.chdir(path)"
   ]
  },
  {
   "cell_type": "markdown",
   "metadata": {},
   "source": [
    "Then, I open the files required:"
   ]
  },
  {
   "cell_type": "code",
   "execution_count": 299,
   "metadata": {},
   "outputs": [],
   "source": [
    "#load\n",
    "df_reference_url = pd.read_csv(\"references_url.csv\", sep='\\t')\n",
    "df_datetime = pd.read_csv(\"datetime_df.csv\")\n",
    "\n",
    "\n",
    "#select columns\n",
    "column_interest_reference = [\"Reference\", \"URL\"]\n",
    "df_reference_url = df_reference_url[column_interest_reference]\n",
    "\n",
    "column_interest_datetime = [\"Dates\"]\n",
    "df_datetime = df_datetime[column_interest_datetime]\n",
    "\n",
    "#parse datetime\n",
    "df_datetime[\"Dates\"] = pd.to_datetime(df_datetime[\"Dates\"], format = \"%Y-%m-%d\")"
   ]
  },
  {
   "cell_type": "markdown",
   "metadata": {},
   "source": [
    "I check the data"
   ]
  },
  {
   "cell_type": "code",
   "execution_count": 300,
   "metadata": {},
   "outputs": [
    {
     "data": {
      "text/html": [
       "<div>\n",
       "<style scoped>\n",
       "    .dataframe tbody tr th:only-of-type {\n",
       "        vertical-align: middle;\n",
       "    }\n",
       "\n",
       "    .dataframe tbody tr th {\n",
       "        vertical-align: top;\n",
       "    }\n",
       "\n",
       "    .dataframe thead th {\n",
       "        text-align: right;\n",
       "    }\n",
       "</style>\n",
       "<table border=\"1\" class=\"dataframe\">\n",
       "  <thead>\n",
       "    <tr style=\"text-align: right;\">\n",
       "      <th></th>\n",
       "      <th>Reference</th>\n",
       "      <th>URL</th>\n",
       "    </tr>\n",
       "  </thead>\n",
       "  <tbody>\n",
       "    <tr>\n",
       "      <th>0</th>\n",
       "      <td>122532</td>\n",
       "      <td>/espejo-pie-nordico-blanco-plastico-dormitorio...</td>\n",
       "    </tr>\n",
       "    <tr>\n",
       "      <th>1</th>\n",
       "      <td>51148</td>\n",
       "      <td>/consola-3-cajones-y-4-puertas-oriental-rojo-m...</td>\n",
       "    </tr>\n",
       "    <tr>\n",
       "      <th>2</th>\n",
       "      <td>51149</td>\n",
       "      <td>/consola-6-cajones-y-2-puertas-oriental-rojo-m...</td>\n",
       "    </tr>\n",
       "    <tr>\n",
       "      <th>3</th>\n",
       "      <td>51136</td>\n",
       "      <td>/consola-3-cajones-y-4-puertas-oriental-negro-...</td>\n",
       "    </tr>\n",
       "    <tr>\n",
       "      <th>4</th>\n",
       "      <td>51140</td>\n",
       "      <td>/mesilla-de-noche-1-cajon-y-2-puertas-oriental...</td>\n",
       "    </tr>\n",
       "  </tbody>\n",
       "</table>\n",
       "</div>"
      ],
      "text/plain": [
       "   Reference                                                URL\n",
       "0     122532  /espejo-pie-nordico-blanco-plastico-dormitorio...\n",
       "1      51148  /consola-3-cajones-y-4-puertas-oriental-rojo-m...\n",
       "2      51149  /consola-6-cajones-y-2-puertas-oriental-rojo-m...\n",
       "3      51136  /consola-3-cajones-y-4-puertas-oriental-negro-...\n",
       "4      51140  /mesilla-de-noche-1-cajon-y-2-puertas-oriental..."
      ]
     },
     "execution_count": 300,
     "metadata": {},
     "output_type": "execute_result"
    }
   ],
   "source": [
    "df_reference_url.head(5)"
   ]
  },
  {
   "cell_type": "code",
   "execution_count": 301,
   "metadata": {},
   "outputs": [
    {
     "data": {
      "text/html": [
       "<div>\n",
       "<style scoped>\n",
       "    .dataframe tbody tr th:only-of-type {\n",
       "        vertical-align: middle;\n",
       "    }\n",
       "\n",
       "    .dataframe tbody tr th {\n",
       "        vertical-align: top;\n",
       "    }\n",
       "\n",
       "    .dataframe thead th {\n",
       "        text-align: right;\n",
       "    }\n",
       "</style>\n",
       "<table border=\"1\" class=\"dataframe\">\n",
       "  <thead>\n",
       "    <tr style=\"text-align: right;\">\n",
       "      <th></th>\n",
       "      <th>Dates</th>\n",
       "    </tr>\n",
       "  </thead>\n",
       "  <tbody>\n",
       "    <tr>\n",
       "      <th>0</th>\n",
       "      <td>2017-09-02</td>\n",
       "    </tr>\n",
       "    <tr>\n",
       "      <th>1</th>\n",
       "      <td>2017-09-03</td>\n",
       "    </tr>\n",
       "    <tr>\n",
       "      <th>2</th>\n",
       "      <td>2017-09-04</td>\n",
       "    </tr>\n",
       "    <tr>\n",
       "      <th>3</th>\n",
       "      <td>2017-09-05</td>\n",
       "    </tr>\n",
       "    <tr>\n",
       "      <th>4</th>\n",
       "      <td>2017-09-06</td>\n",
       "    </tr>\n",
       "  </tbody>\n",
       "</table>\n",
       "</div>"
      ],
      "text/plain": [
       "       Dates\n",
       "0 2017-09-02\n",
       "1 2017-09-03\n",
       "2 2017-09-04\n",
       "3 2017-09-05\n",
       "4 2017-09-06"
      ]
     },
     "execution_count": 301,
     "metadata": {},
     "output_type": "execute_result"
    }
   ],
   "source": [
    "df_datetime.head(5)"
   ]
  },
  {
   "cell_type": "markdown",
   "metadata": {},
   "source": [
    "After checking previous dataframe, I create a function to cover mainly the following steps:\n",
    "    - Open a csv file as dataframe\n",
    "    - Clean data from that file (rename columns, parse to datetime, etc.)\n",
    "    - Merge that dataframe with other dataframes\n",
    "    - Fill missing values\n",
    "    - Return the finaly dataframe"
   ]
  },
  {
   "cell_type": "code",
   "execution_count": 302,
   "metadata": {},
   "outputs": [],
   "source": [
    "def pageview_missing_values(path,file):\n",
    "    \n",
    "    os.chdir(path)\n",
    "    \n",
    "    df_pageview = pd.read_csv(file)\n",
    "    \n",
    "    df_pageview = df_pageview.rename(index=str, columns={\"Day Index\":\"Dates\", \"Page Views\": \"Page_Views\"})\n",
    "    \n",
    "    column_interest_pageview = [\"Page\", \"Dates\", \"Page_Views\"]\n",
    "    df_pageview = df_pageview[column_interest_pageview]   \n",
    "    \n",
    "    df_pageview[\"Dates\"] = pd.to_datetime(df_pageview[\"Dates\"], format = \"%d/%m/%Y\")\n",
    "    \n",
    "    merge_pageview = df_pageview.merge(df_datetime,\n",
    "        how=\"right\",\n",
    "        left_on=[\"Dates\"],\n",
    "        right_on=[\"Dates\"])\n",
    "    \n",
    "    merge_pageview[\"Page\"].fillna(method='ffill', inplace = True)\n",
    "    merge_pageview[\"Page_Views\"].fillna(0, inplace = True)\n",
    "    \n",
    "    merge_url = merge_pageview.merge(df_reference_url,\n",
    "        how=\"inner\",\n",
    "        left_on=[\"Page\"],\n",
    "        right_on=[\"URL\"])\n",
    "    \n",
    "    column_interest_reference = [\"Reference\", \"Dates\", \"Page_Views\"]\n",
    "    merge_url = merge_url[column_interest_reference].sort_values(by=\"Dates\")\n",
    "        \n",
    "    return merge_url"
   ]
  },
  {
   "cell_type": "markdown",
   "metadata": {},
   "source": [
    "Now, I need to make a list to save the required data"
   ]
  },
  {
   "cell_type": "code",
   "execution_count": null,
   "metadata": {},
   "outputs": [],
   "source": [
    "lista = df_reference_url[\"Reference\"].apply(str)+\"_url.csv\"\n",
    "c = lista.values.tolist()"
   ]
  },
  {
   "cell_type": "markdown",
   "metadata": {},
   "source": [
    "Finally, I make a for loop where I apply the funciont \"pageview_missing_values\" and save the dataframes as csv in a new directory"
   ]
  },
  {
   "cell_type": "code",
   "execution_count": 304,
   "metadata": {},
   "outputs": [],
   "source": [
    "for i in range(len(c)):\n",
    "    df_test = pageview_missing_values(\"/media/sf_Carpeta/Smart_Shopping/Data/GA\", c[i])\n",
    "    file = c[i]\n",
    "    \n",
    "    path = \"/home/miguel/my_project_python/my_project_env/tfm/datasets/pageviews\"\n",
    "    os.chdir(path)\n",
    "    \n",
    "    df_test.to_csv(file)"
   ]
  }
 ],
 "metadata": {
  "kernelspec": {
   "display_name": "Python 3",
   "language": "python",
   "name": "python3"
  },
  "language_info": {
   "codemirror_mode": {
    "name": "ipython",
    "version": 3
   },
   "file_extension": ".py",
   "mimetype": "text/x-python",
   "name": "python",
   "nbconvert_exporter": "python",
   "pygments_lexer": "ipython3",
   "version": "3.6.7"
  }
 },
 "nbformat": 4,
 "nbformat_minor": 2
}
